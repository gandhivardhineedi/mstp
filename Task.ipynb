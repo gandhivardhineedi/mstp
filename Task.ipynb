{
 "cells": [
  {
   "cell_type": "markdown",
   "metadata": {},
   "source": [
    "# 26/08/2019"
   ]
  },
  {
   "cell_type": "code",
   "execution_count": 39,
   "metadata": {},
   "outputs": [
    {
     "name": "stdout",
     "output_type": "stream",
     "text": [
      "3\n",
      "2\n",
      "3\n",
      "5\n"
     ]
    }
   ],
   "source": [
    "n= int(input())                         # first n prime numbers\n",
    "for i in range(1000):\n",
    "    count=0\n",
    "    if(n==0):\n",
    "        break\n",
    "    for j in range(1,i+1):\n",
    "        if(i%j==0):\n",
    "            count+=1\n",
    "    if(count==2):\n",
    "        print(i)\n",
    "        n-=1\n",
    "    \n",
    "\n",
    "            \n",
    "        \n",
    "    "
   ]
  },
  {
   "cell_type": "code",
   "execution_count": 38,
   "metadata": {},
   "outputs": [
    {
     "name": "stdout",
     "output_type": "stream",
     "text": [
      "3\n",
      "2\n",
      "3\n"
     ]
    }
   ],
   "source": [
    "i=1\n",
    "n = int(input())\n",
    "while(i<=n):\n",
    "    count=0\n",
    "    for j in range(1,i+1):\n",
    "        if(i%j==0):\n",
    "            count+=1\n",
    "    if(count==2):\n",
    "        print(i)\n",
    "    i+=1\n",
    "    \n",
    "    "
   ]
  },
  {
   "cell_type": "code",
   "execution_count": 2,
   "metadata": {},
   "outputs": [
    {
     "name": "stdout",
     "output_type": "stream",
     "text": [
      "12\n",
      "479001600  is the factorial of the given number\n"
     ]
    }
   ],
   "source": [
    "n = int(input())\n",
    "fact=1\n",
    "while(n):\n",
    "    fact*=n\n",
    "    n-=1\n",
    "print(fact,\" is the factorial of the given number\")"
   ]
  },
  {
   "cell_type": "markdown",
   "metadata": {},
   "source": [
    "# 27/08/2019"
   ]
  },
  {
   "cell_type": "markdown",
   "metadata": {},
   "source": [
    "## program to print square root of the given number"
   ]
  },
  {
   "cell_type": "code",
   "execution_count": 18,
   "metadata": {},
   "outputs": [
    {
     "name": "stdout",
     "output_type": "stream",
     "text": [
      "64\n",
      "square root of  64  is  8.0\n"
     ]
    }
   ],
   "source": [
    "#square root of the the given number\n",
    "n = int(input())\n",
    "sqrt=n/2\n",
    "temp=0\n",
    "while(sqrt!=temp):\n",
    "    temp=sqrt\n",
    "    sqrt=((n/temp)+temp)/2\n",
    "\n",
    "print('square root of ',n,' is ',sqrt)"
   ]
  },
  {
   "cell_type": "markdown",
   "metadata": {},
   "source": [
    "## length of the given number"
   ]
  },
  {
   "cell_type": "code",
   "execution_count": 19,
   "metadata": {},
   "outputs": [
    {
     "name": "stdout",
     "output_type": "stream",
     "text": [
      "123\n",
      "3  is length of given number \n"
     ]
    }
   ],
   "source": [
    "num = int(input())\n",
    "n=0\n",
    "while(num!=0):\n",
    "    n+=1\n",
    "    num//=10\n",
    "print(n,\" is length of given number \")"
   ]
  },
  {
   "cell_type": "markdown",
   "metadata": {},
   "source": [
    "##"
   ]
  },
  {
   "cell_type": "code",
   "execution_count": 20,
   "metadata": {},
   "outputs": [
    {
     "name": "stdout",
     "output_type": "stream",
     "text": [
      "enter lower limit 2\n",
      "enter upper limit 5\n",
      "enter a number 4\n",
      " number with in the range \n"
     ]
    }
   ],
   "source": [
    "low=int(input('enter lower limit '))\n",
    "up=int(input('enter upper limit '))\n",
    "if(low<up):\n",
    "    n=int(input('enter a number '))\n",
    "    if(n>=low and n<=up):\n",
    "        print(' number with in the range ')\n",
    "    else:\n",
    "        print(' number is out of range   ')\n",
    "else:\n",
    "    print(' enter a valid range')"
   ]
  },
  {
   "cell_type": "code",
   "execution_count": 22,
   "metadata": {},
   "outputs": [
    {
     "name": "stdout",
     "output_type": "stream",
     "text": [
      " enter a number1\n",
      "1  is factor of 1000\n"
     ]
    }
   ],
   "source": [
    "n = int(input(' enter a number'))\n",
    "if(1000%n==0):\n",
    "    print(n,' is factor of 1000')\n",
    "else:\n",
    "    print(n,' is not a factor of 1000')"
   ]
  },
  {
   "cell_type": "code",
   "execution_count": 27,
   "metadata": {},
   "outputs": [
    {
     "name": "stdout",
     "output_type": "stream",
     "text": [
      "10 20 30\n",
      "30.0\n"
     ]
    }
   ],
   "source": [
    "#print count of numbers taken by the user in a single\n",
    "s = input()\n",
    "s=s.split()\n",
    "sum=0\n",
    "for i in range(len(s)):\n",
    "    sum+=int(s[i])\n",
    "    \n",
    "print(sum/i)"
   ]
  },
  {
   "cell_type": "code",
   "execution_count": 30,
   "metadata": {},
   "outputs": [
    {
     "name": "stdout",
     "output_type": "stream",
     "text": [
      "abc bca\n"
     ]
    },
    {
     "data": {
      "text/plain": [
       "False"
      ]
     },
     "execution_count": 30,
     "metadata": {},
     "output_type": "execute_result"
    }
   ],
   "source": [
    "s = input()                                       ####\n",
    "s=s.split()\n",
    "\n",
    "s[0] in s[1]"
   ]
  },
  {
   "cell_type": "code",
   "execution_count": 35,
   "metadata": {},
   "outputs": [
    {
     "name": "stdout",
     "output_type": "stream",
     "text": [
      "hello\n",
      "not a pallindrome\n"
     ]
    }
   ],
   "source": [
    "s=input()\n",
    "s1=s[::-1]\n",
    "if(s1==s):\n",
    "    print(\"pallindrome\")\n",
    "else:\n",
    "    print(\"not a pallindrome\")"
   ]
  },
  {
   "cell_type": "code",
   "execution_count": 40,
   "metadata": {},
   "outputs": [
    {
     "name": "stdout",
     "output_type": "stream",
     "text": [
      "enter  lower limit : 5 \n",
      " enter upper limit : 10\n",
      "enter the deired number : 6\n",
      "number of divisors are :  1\n"
     ]
    }
   ],
   "source": [
    "low = int(input('enter  lower limit : '))\n",
    "upp = int(input(' enter upper limit : '))\n",
    "if(low<upp):\n",
    "    count=0\n",
    "    n = int(input('enter the deired number : '))\n",
    "    for i in range(low,upp):\n",
    "        if(n%i==0):\n",
    "            count+=1\n",
    "    print(\"number of divisors are : \",count)\n",
    "else:\n",
    "    print(\"enter a vaild range\")"
   ]
  },
  {
   "cell_type": "code",
   "execution_count": 48,
   "metadata": {},
   "outputs": [
    {
     "name": "stdout",
     "output_type": "stream",
     "text": [
      "1401601499\n",
      "valid\n"
     ]
    }
   ],
   "source": [
    "k=10\n",
    "temp=0\n",
    "n = int(input())\n",
    "if(len(str(n))==10):\n",
    "    while(n>0):\n",
    "        rem = n%10\n",
    "        temp+=(rem*k)\n",
    "        k-=1\n",
    "        n//=10\n",
    "if(temp%11==0):\n",
    "    print(\"valid\")\n",
    "else:\n",
    "    print(\"in valid\")\n"
   ]
  },
  {
   "cell_type": "code",
   "execution_count": 44,
   "metadata": {},
   "outputs": [
    {
     "name": "stdout",
     "output_type": "stream",
     "text": [
      "10\n",
      "2\n",
      "3\n",
      "5\n",
      "7\n",
      "11\n",
      "13\n",
      "17\n",
      "19\n",
      "23\n",
      "29\n"
     ]
    }
   ],
   "source": [
    "n= int(input())                         # first n prime numbers\n",
    "for i in range(1000):\n",
    "    count=0\n",
    "    if(n==0):\n",
    "        break\n",
    "    for j in range(1,i+1):\n",
    "        if(i%j==0):\n",
    "            count+=1\n",
    "    if(count==2):\n",
    "        print(i)\n",
    "        n-=1\n",
    "    \n",
    "\n",
    "            1401601499"
   ]
  },
  {
   "cell_type": "code",
   "execution_count": 49,
   "metadata": {},
   "outputs": [
    {
     "name": "stdout",
     "output_type": "stream",
     "text": [
      "aBcDe\n"
     ]
    }
   ],
   "source": [
    "n = input()        #string toggle\n",
    "n=n.swapcase()"
   ]
  },
  {
   "cell_type": "code",
   "execution_count": 50,
   "metadata": {},
   "outputs": [
    {
     "data": {
      "text/plain": [
       "'AbCdE'"
      ]
     },
     "execution_count": 50,
     "metadata": {},
     "output_type": "execute_result"
    }
   ],
   "source": [
    "n"
   ]
  },
  {
   "cell_type": "code",
   "execution_count": 68,
   "metadata": {},
   "outputs": [
    {
     "name": "stdout",
     "output_type": "stream",
     "text": [
      "adbgg\n"
     ]
    },
    {
     "ename": "TypeError",
     "evalue": "'str' object does not support item assignment",
     "output_type": "error",
     "traceback": [
      "\u001b[1;31m---------------------------------------------------------------------------\u001b[0m",
      "\u001b[1;31mTypeError\u001b[0m                                 Traceback (most recent call last)",
      "\u001b[1;32m<ipython-input-68-bd5d0bd4f028>\u001b[0m in \u001b[0;36m<module>\u001b[1;34m\u001b[0m\n\u001b[0;32m      8\u001b[0m         \u001b[0modd\u001b[0m\u001b[1;33m=\u001b[0m\u001b[0ms\u001b[0m\u001b[1;33m[\u001b[0m\u001b[0mi\u001b[0m\u001b[1;33m]\u001b[0m\u001b[1;33m\u001b[0m\u001b[1;33m\u001b[0m\u001b[0m\n\u001b[0;32m      9\u001b[0m         \u001b[0mrem\u001b[0m \u001b[1;33m=\u001b[0m \u001b[0mord\u001b[0m\u001b[1;33m(\u001b[0m\u001b[0modd\u001b[0m\u001b[1;33m)\u001b[0m\u001b[1;33m-\u001b[0m\u001b[1;36m32\u001b[0m\u001b[1;33m\u001b[0m\u001b[1;33m\u001b[0m\u001b[0m\n\u001b[1;32m---> 10\u001b[1;33m         \u001b[0ms\u001b[0m\u001b[1;33m[\u001b[0m\u001b[0mi\u001b[0m\u001b[1;33m]\u001b[0m\u001b[1;33m=\u001b[0m\u001b[0mrem\u001b[0m\u001b[1;33m\u001b[0m\u001b[1;33m\u001b[0m\u001b[0m\n\u001b[0m\u001b[0;32m     11\u001b[0m \u001b[0ms\u001b[0m\u001b[1;33m\u001b[0m\u001b[1;33m\u001b[0m\u001b[0m\n",
      "\u001b[1;31mTypeError\u001b[0m: 'str' object does not support item assignment"
     ]
    }
   ],
   "source": [
    "s = input()\n",
    "for i in range(len(s)):\n",
    "    if ord(s[i])>=65 and ord(s[i])<=90:\n",
    "        odd=s[i]\n",
    "        rem = 32+ord(odd)\n",
    "        s[i]=rem\n",
    "    elif ord(s[i])>=97 and ord(s[i])<=123:\n",
    "        odd=s[i]\n",
    "        rem = ord(odd)-32\n",
    "        s[i]=rem\n",
    "s"
   ]
  },
  {
   "cell_type": "code",
   "execution_count": 89,
   "metadata": {},
   "outputs": [
    {
     "name": "stdout",
     "output_type": "stream",
     "text": [
      "123\n",
      "321\n",
      "not identical\n"
     ]
    }
   ],
   "source": [
    "flag=1    #########\n",
    "k\n",
    "n = input()\n",
    "n1 = input()\n",
    "n =n.split()\n",
    "n1 = n1.split()\n",
    "for i in range(len(n)):\n",
    "    count=0\n",
    "    for j in range(k,len(n1)):\n",
    "        if n[i]==n1[j]:\n",
    "            count+=1\n",
    "            n1[j]='-1'\n",
    "    if(count==0):\n",
    "        flag=0\n",
    "        break\n",
    "if(flag==0):\n",
    "    print(\"not identical\")\n",
    "else:\n",
    "    print(\" identical\")\n"
   ]
  },
  {
   "cell_type": "code",
   "execution_count": 83,
   "metadata": {},
   "outputs": [
    {
     "data": {
      "text/plain": [
       "'321'"
      ]
     },
     "execution_count": 83,
     "metadata": {},
     "output_type": "execute_result"
    }
   ],
   "source": [
    "\n",
    "n1[0]"
   ]
  },
  {
   "cell_type": "code",
   "execution_count": 86,
   "metadata": {},
   "outputs": [
    {
     "name": "stdout",
     "output_type": "stream",
     "text": [
      "abc\n",
      "6\n"
     ]
    }
   ],
   "source": [
    "n = input()\n",
    "#n=n.lower()\n",
    "temp=0\n",
    "for i in range(len(n)):\n",
    "    temp+=(ord(n[i])-96)\n",
    "print(temp)"
   ]
  },
  {
   "cell_type": "code",
   "execution_count": 87,
   "metadata": {},
   "outputs": [
    {
     "data": {
      "text/plain": [
       "'b'"
      ]
     },
     "execution_count": 87,
     "metadata": {},
     "output_type": "execute_result"
    }
   ],
   "source": [
    "n[1]"
   ]
  },
  {
   "cell_type": "code",
   "execution_count": 91,
   "metadata": {},
   "outputs": [
    {
     "name": "stdout",
     "output_type": "stream",
     "text": [
      "LLRDDR\n",
      "-2   0\n"
     ]
    }
   ],
   "source": [
    "n = input()\n",
    "x=0\n",
    "y=0\n",
    "for i in range(len(n)):\n",
    "    if(n[i]=='L'):\n",
    "        y-=1;\n",
    "    elif(n[i]=='R'):\n",
    "        y+=1\n",
    "    elif(n[i]=='U'):\n",
    "        x+=1\n",
    "    elif(n[i]=='D'):\n",
    "        x-=1\n",
    "print(x,\" \",y)    "
   ]
  },
  {
   "cell_type": "code",
   "execution_count": 93,
   "metadata": {},
   "outputs": [
    {
     "name": "stdout",
     "output_type": "stream",
     "text": [
      "python is a programming language python is so good like python is an interpreter language\n",
      "3\n"
     ]
    }
   ],
   "source": [
    "N = input()\n",
    "N = N.split()\n",
    "count=0\n",
    "for i in range(len(N)):\n",
    "    if(N[i]==\"python\"):\n",
    "        count+=1\n",
    "print(count)"
   ]
  },
  {
   "cell_type": "code",
   "execution_count": 95,
   "metadata": {},
   "outputs": [
    {
     "name": "stdout",
     "output_type": "stream",
     "text": [
      "python is a programming language python is so good like python is an interpreter language\n"
     ]
    },
    {
     "data": {
      "text/plain": [
       "89"
      ]
     },
     "execution_count": 95,
     "metadata": {},
     "output_type": "execute_result"
    }
   ],
   "source": [
    "N = input()\n",
    "len(N)"
   ]
  },
  {
   "cell_type": "code",
   "execution_count": 96,
   "metadata": {},
   "outputs": [
    {
     "name": "stdout",
     "output_type": "stream",
     "text": [
      "GANDHI\n"
     ]
    },
    {
     "data": {
      "text/plain": [
       "'gandhi'"
      ]
     },
     "execution_count": 96,
     "metadata": {},
     "output_type": "execute_result"
    }
   ],
   "source": [
    "n = input()\n",
    "n=n.lower()\n",
    "n"
   ]
  },
  {
   "cell_type": "code",
   "execution_count": 102,
   "metadata": {},
   "outputs": [
    {
     "name": "stdout",
     "output_type": "stream",
     "text": [
      "andsnakeviperscake\n"
     ]
    },
    {
     "data": {
      "text/plain": [
       "2"
      ]
     },
     "execution_count": 102,
     "metadata": {},
     "output_type": "execute_result"
    }
   ],
   "source": [
    "N = input()\n",
    "N=N.split('s')\n",
    "len(N)-1"
   ]
  },
  {
   "cell_type": "code",
   "execution_count": 105,
   "metadata": {},
   "outputs": [
    {
     "name": "stdout",
     "output_type": "stream",
     "text": [
      "gandhi\n"
     ]
    },
    {
     "data": {
      "text/plain": [
       "'ihdnag'"
      ]
     },
     "execution_count": 105,
     "metadata": {},
     "output_type": "execute_result"
    }
   ],
   "source": [
    "n = input()\n",
    "n=n[::-1]\n",
    "n"
   ]
  },
  {
   "cell_type": "code",
   "execution_count": null,
   "metadata": {},
   "outputs": [],
   "source": []
  }
 ],
 "metadata": {
  "kernelspec": {
   "display_name": "Python 3",
   "language": "python",
   "name": "python3"
  },
  "language_info": {
   "codemirror_mode": {
    "name": "ipython",
    "version": 3
   },
   "file_extension": ".py",
   "mimetype": "text/x-python",
   "name": "python",
   "nbconvert_exporter": "python",
   "pygments_lexer": "ipython3",
   "version": "3.7.3"
  }
 },
 "nbformat": 4,
 "nbformat_minor": 2
}
