{
 "cells": [
  {
   "cell_type": "markdown",
   "metadata": {},
   "source": [
    "## PYTHON PROGRAMMING USING ANNCONDA / JUPITER NOTE BOOK\n",
    "### WELCOME TO JUPITOR NOTE BOOK\n",
    "\n",
    "### 30/08/2019\n",
    "### MORNING SECTION\n"
   ]
  },
  {
   "cell_type": "markdown",
   "metadata": {},
   "source": [
    "<img src=\"jupyter.png\" >"
   ]
  },
  {
   "cell_type": "markdown",
   "metadata": {},
   "source": [
    "<img src=\"images.png\"\n",
    "style=\"width:200px;heigth=400px\">\n"
   ]
  },
  {
   "cell_type": "markdown",
   "metadata": {},
   "source": [
    "# FUNCTION"
   ]
  },
  {
   "cell_type": "markdown",
   "metadata": {},
   "source": [
    " ## four ways->\n",
    " ### ------> without arguments and without return (the parameter we pass during the function call)\n",
    " ### ------> without arguments and with return\n",
    " ### ------> with argument and without return \n",
    " ### ------> with argument and with return"
   ]
  },
  {
   "cell_type": "code",
   "execution_count": 2,
   "metadata": {},
   "outputs": [
    {
     "name": "stdout",
     "output_type": "stream",
     "text": [
      "5\n",
      "120\n"
     ]
    }
   ],
   "source": [
    "###without arguments and without return\n",
    "\n",
    "def fact():\n",
    "    n = int(input())\n",
    "    temp = 1\n",
    "    for i in range(1,n+1):\n",
    "        temp *=i\n",
    "    print(temp)\n",
    "fact()\n"
   ]
  },
  {
   "cell_type": "code",
   "execution_count": 3,
   "metadata": {},
   "outputs": [
    {
     "name": "stdout",
     "output_type": "stream",
     "text": [
      "5\n",
      "120\n"
     ]
    }
   ],
   "source": [
    "###without arguments and with  return\n",
    "\n",
    "def fact():\n",
    "    n = int(input())\n",
    "    temp = 1\n",
    "    for i in range(1,n+1):\n",
    "        temp *=i\n",
    "    return temp\n",
    "print(fact())\n"
   ]
  },
  {
   "cell_type": "code",
   "execution_count": 7,
   "metadata": {},
   "outputs": [
    {
     "name": "stdout",
     "output_type": "stream",
     "text": [
      "5\n",
      "120\n"
     ]
    }
   ],
   "source": [
    "###with arguments and without return\n",
    "\n",
    "def fact(n):\n",
    "    #n = int(input())\n",
    "    temp = 1\n",
    "    for i in range(1,n+1):\n",
    "        temp *=i\n",
    "    print(temp)\n",
    "\n",
    "fact(int(input()))\n"
   ]
  },
  {
   "cell_type": "code",
   "execution_count": 10,
   "metadata": {},
   "outputs": [
    {
     "name": "stdout",
     "output_type": "stream",
     "text": [
      "7\n",
      "5040\n"
     ]
    }
   ],
   "source": [
    "###with arguments and with return\n",
    "\n",
    "def fact(n):\n",
    "    #n = int(input())\n",
    "    temp = 1\n",
    "    for i in range(1,n+1):\n",
    "        temp *=i\n",
    "    return temp\n",
    "     \n",
    "\n",
    "print(fact(int(input())))\n"
   ]
  },
  {
   "cell_type": "code",
   "execution_count": null,
   "metadata": {},
   "outputs": [],
   "source": []
  }
 ],
 "metadata": {
  "kernelspec": {
   "display_name": "Python 3",
   "language": "python",
   "name": "python3"
  },
  "language_info": {
   "codemirror_mode": {
    "name": "ipython",
    "version": 3
   },
   "file_extension": ".py",
   "mimetype": "text/x-python",
   "name": "python",
   "nbconvert_exporter": "python",
   "pygments_lexer": "ipython3",
   "version": "3.7.3"
  }
 },
 "nbformat": 4,
 "nbformat_minor": 2
}
