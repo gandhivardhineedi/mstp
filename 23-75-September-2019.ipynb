{
 "cells": [
  {
   "cell_type": "code",
   "execution_count": 6,
   "metadata": {},
   "outputs": [
    {
     "name": "stdout",
     "output_type": "stream",
     "text": [
      "13\n",
      "9\n",
      "Patlu\n"
     ]
    }
   ],
   "source": [
    "n = int(input())\n",
    "t = 1\n",
    "count = 0\n",
    "t1 = 0\n",
    "while(count<n):\n",
    "    t1+=1\n",
    "    t=t1*2\n",
    "    if((count+t1+t)<n):\n",
    "        count+=(t1+t)\n",
    "    else:\n",
    "        break\n",
    "print(count)\n",
    "if(count<=n):\n",
    "    print('Patlu')\n",
    "else:\n",
    "    print('Motu')\n"
   ]
  },
  {
   "cell_type": "code",
   "execution_count": 34,
   "metadata": {},
   "outputs": [
    {
     "name": "stdout",
     "output_type": "stream",
     "text": [
      "0b101 3\n"
     ]
    }
   ],
   "source": [
    "f = bin(5)\n",
    "print(len(f[2:]))"
   ]
  },
  {
   "cell_type": "code",
   "execution_count": 38,
   "metadata": {},
   "outputs": [
    {
     "name": "stdout",
     "output_type": "stream",
     "text": [
      "1\n",
      "3\n",
      "2\n"
     ]
    }
   ],
   "source": [
    "import math \n",
    "def bit(x) : \n",
    "    ans = 0\n",
    "    while (x) : \n",
    "        x /= 2\n",
    "        ans = ans + 1\n",
    "  \n",
    "    return ans \n",
    "def check(d, x) : \n",
    "    if (bit(x /d) <= bit(d)) : \n",
    "        return True\n",
    "  \n",
    "    return False; \n",
    "def bs(n) : \n",
    "    l = 1\n",
    "    r = int(math.sqrt(n)) \n",
    "  \n",
    "    while (l < r) :          \n",
    "        m = int((l + r) / 2) \n",
    "        if (check(m, n)) : \n",
    "            r = m \n",
    "        else : \n",
    "            l = m + 1\n",
    "  \n",
    "    if (check(l, n) == False) : \n",
    "        return math.floor(l + 1) \n",
    "    else : \n",
    "        return math.floor(l) \n",
    "def countDivisor(n) : \n",
    "    return n - bs(n) + 1\n",
    "  \n",
    "n = int(input())\n",
    "for i in range(n):\n",
    "    test = int(input())\n",
    "    print(countDivisor(test))"
   ]
  },
  {
   "cell_type": "markdown",
   "metadata": {},
   "source": [
    "# working with files in python\n",
    "## file \n",
    "document to store data or information"
   ]
  },
  {
   "cell_type": "markdown",
   "metadata": {},
   "source": [
    "## read and write"
   ]
  },
  {
   "cell_type": "markdown",
   "metadata": {},
   "source": [
    "### 3 steps to work with files in pyhton\n",
    "    1. open\n",
    "    2.operation to be done\n",
    "    3.close"
   ]
  },
  {
   "cell_type": "markdown",
   "metadata": {},
   "source": [
    "## reading the file"
   ]
  },
  {
   "cell_type": "code",
   "execution_count": 21,
   "metadata": {},
   "outputs": [
    {
     "name": "stdout",
     "output_type": "stream",
     "text": [
      "line 1\n",
      "line 2\n",
      "line 3\n",
      "line 4\n",
      "\n"
     ]
    }
   ],
   "source": [
    "fh = open('gandhi.txt','r') ## min 1(file name in string) argument max 2(file modes)('r''w) returns the file-object or location to known as file handler\n",
    "\n",
    "data  = fh.read() ## saving the data inthe data variable\n",
    "print(data)  \n",
    "\n",
    "fh.close()\n",
    "## write wounld not work in it\n",
    "## file not fount when to such file present"
   ]
  },
  {
   "cell_type": "code",
   "execution_count": 25,
   "metadata": {},
   "outputs": [],
   "source": [
    "fh = open('gandhi1.txt','w') ## if no file then it will creates it\n",
    "## no read would work\n",
    "fh.write('how are you')\n",
    "fh.close()"
   ]
  },
  {
   "cell_type": "code",
   "execution_count": 43,
   "metadata": {},
   "outputs": [
    {
     "name": "stdout",
     "output_type": "stream",
     "text": [
      "hi\n"
     ]
    }
   ],
   "source": [
    "fh = open('gandhi.txt','a')\n",
    "fh.write(input())\n",
    "fh.close()"
   ]
  },
  {
   "cell_type": "code",
   "execution_count": 45,
   "metadata": {},
   "outputs": [
    {
     "name": "stdout",
     "output_type": "stream",
     "text": [
      "line 1\n",
      "\n",
      "line 2\n",
      "\n",
      "line 3\n",
      "\n",
      "line 4\n",
      "\n",
      "hi hello ra how are you :8) hi olllahi\n"
     ]
    }
   ],
   "source": [
    "fh = open('gandhi.txt','r')\n",
    "for line in fh:\n",
    "    print(line)\n",
    "fh.close()"
   ]
  },
  {
   "cell_type": "markdown",
   "metadata": {},
   "source": [
    "## update"
   ]
  },
  {
   "cell_type": "code",
   "execution_count": null,
   "metadata": {},
   "outputs": [],
   "source": []
  },
  {
   "cell_type": "code",
   "execution_count": null,
   "metadata": {},
   "outputs": [],
   "source": []
  },
  {
   "cell_type": "code",
   "execution_count": 49,
   "metadata": {},
   "outputs": [
    {
     "name": "stdout",
     "output_type": "stream",
     "text": [
      "0\n",
      "20\n",
      "20\n",
      "\n"
     ]
    }
   ],
   "source": [
    "fh = open('gandhi.txt','r')\n",
    "print(fh.tell())\n",
    "data = fh.read()\n",
    "print(fh.tell())\n",
    "data = fh.read()\n",
    "print(fh.tell())\n",
    "print(data)\n",
    "fh.close()"
   ]
  },
  {
   "cell_type": "code",
   "execution_count": 50,
   "metadata": {},
   "outputs": [
    {
     "name": "stdout",
     "output_type": "stream",
     "text": [
      "0\n",
      "5\n",
      "20\n",
      "\n",
      "  2 \n",
      "  3\n",
      "  4\n"
     ]
    }
   ],
   "source": [
    "fh = open('gandhi.txt','r')\n",
    "print(fh.tell())\n",
    "fh.seek(5)\n",
    "print(fh.tell())\n",
    "data = fh.read()\n",
    "print(fh.tell())\n",
    "print(data)\n",
    "fh.close()"
   ]
  },
  {
   "cell_type": "code",
   "execution_count": 51,
   "metadata": {},
   "outputs": [
    {
     "name": "stdout",
     "output_type": "stream",
     "text": [
      "\n"
     ]
    }
   ],
   "source": [
    "fh =open('gandhi.txt','w+')\n",
    "print(fh.read())\n",
    "fh.close()"
   ]
  },
  {
   "cell_type": "code",
   "execution_count": 53,
   "metadata": {},
   "outputs": [
    {
     "name": "stdout",
     "output_type": "stream",
     "text": [
      "my name is gandhi hello how are you     \n",
      "\n"
     ]
    }
   ],
   "source": [
    "fh =open('gandhi.txt','r')\n",
    "data = fh.readline()\n",
    "print(data)\n",
    "fh.close()"
   ]
  },
  {
   "cell_type": "code",
   "execution_count": 54,
   "metadata": {},
   "outputs": [
    {
     "name": "stdout",
     "output_type": "stream",
     "text": [
      "['my name is gandhi hello how are you     \\n', 'i am studying b-tech']\n"
     ]
    }
   ],
   "source": [
    "fh = open('gandhi.txt','r')\n",
    "data = fh.readlines()\n",
    "print(data)\n",
    "fh.close()\n"
   ]
  },
  {
   "cell_type": "code",
   "execution_count": null,
   "metadata": {},
   "outputs": [],
   "source": []
  }
 ],
 "metadata": {
  "kernelspec": {
   "display_name": "Python 3",
   "language": "python",
   "name": "python3"
  },
  "language_info": {
   "codemirror_mode": {
    "name": "ipython",
    "version": 3
   },
   "file_extension": ".py",
   "mimetype": "text/x-python",
   "name": "python",
   "nbconvert_exporter": "python",
   "pygments_lexer": "ipython3",
   "version": "3.7.3"
  }
 },
 "nbformat": 4,
 "nbformat_minor": 2
}
