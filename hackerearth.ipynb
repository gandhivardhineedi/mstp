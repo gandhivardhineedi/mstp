{
 "cells": [
  {
   "cell_type": "code",
   "execution_count": 1,
   "metadata": {},
   "outputs": [],
   "source": [
    "def count(n):\n",
    "    x = 1\n",
    "    c = 0\n",
    "    c1 = 0\n",
    "    while(n):\n",
    "        if(n&x==1):\n",
    "            c1+=1\n",
    "        else:\n",
    "            c+=1\n",
    "        n>>=1\n",
    "    return c,c1"
   ]
  },
  {
   "cell_type": "code",
   "execution_count": 2,
   "metadata": {},
   "outputs": [
    {
     "name": "stdout",
     "output_type": "stream",
     "text": [
      "(4, 1)\n"
     ]
    }
   ],
   "source": [
    "print(count(16))"
   ]
  },
  {
   "cell_type": "code",
   "execution_count": 4,
   "metadata": {},
   "outputs": [
    {
     "name": "stdout",
     "output_type": "stream",
     "text": [
      "5\n",
      "1\n",
      "1\n",
      "2\n",
      "2\n",
      "3\n",
      "4\n",
      "4\n",
      "5\n",
      "5\n",
      "6\n"
     ]
    }
   ],
   "source": [
    "import math\n",
    "def get(n):\n",
    "    c =  0\n",
    "    c1 = 0\n",
    "    x = 1\n",
    "    while(n):\n",
    "        if(n&x==1):\n",
    "            c1+=1\n",
    "        else:\n",
    "            c+=1\n",
    "        n>>=1\n",
    "    return(c,c1)\n",
    "test = int(input())\n",
    "for i in range(test):\n",
    "    n = int(input())\n",
    "    temp = 0\n",
    "    for i in range(1,n+1):\n",
    "        if(i==1):\n",
    "            temp+=1\n",
    "        else:\n",
    "            c,c1=get(i)\n",
    "            if(c<c1):\n",
    "                temp+=math.gcd(c,c1)\n",
    "            elif(c1<c):\n",
    "                temp+=math.gcd(c1,c)\n",
    "            else:\n",
    "                temp+=c\n",
    "    print(temp)"
   ]
  },
  {
   "cell_type": "code",
   "execution_count": 5,
   "metadata": {},
   "outputs": [],
   "source": [
    "def countUnsetBits(n): \n",
    "    x = n \n",
    "    n |= n >> 1\n",
    "    n |= n >> 2\n",
    "    n |= n >> 4\n",
    "    n |= n >> 8\n",
    "    n |= n >> 16\n",
    "    t = math.log(x ^ n, 2) \n",
    "    return math.floor(t) "
   ]
  },
  {
   "cell_type": "code",
   "execution_count": 7,
   "metadata": {},
   "outputs": [
    {
     "name": "stdout",
     "output_type": "stream",
     "text": [
      "9\n"
     ]
    }
   ],
   "source": [
    "print(countUnsetBits(1024))"
   ]
  },
  {
   "cell_type": "code",
   "execution_count": null,
   "metadata": {},
   "outputs": [],
   "source": []
  }
 ],
 "metadata": {
  "kernelspec": {
   "display_name": "Python 3",
   "language": "python",
   "name": "python3"
  },
  "language_info": {
   "codemirror_mode": {
    "name": "ipython",
    "version": 3
   },
   "file_extension": ".py",
   "mimetype": "text/x-python",
   "name": "python",
   "nbconvert_exporter": "python",
   "pygments_lexer": "ipython3",
   "version": "3.7.3"
  }
 },
 "nbformat": 4,
 "nbformat_minor": 2
}
