{
 "cells": [
  {
   "cell_type": "markdown",
   "metadata": {},
   "source": [
    "# 26/08/2019"
   ]
  },
  {
   "cell_type": "code",
   "execution_count": 39,
   "metadata": {},
   "outputs": [
    {
     "name": "stdout",
     "output_type": "stream",
     "text": [
      "3\n",
      "2\n",
      "3\n",
      "5\n"
     ]
    }
   ],
   "source": [
    "n= int(input())                         # first n prime numbers\n",
    "for i in range(1000):\n",
    "    count=0\n",
    "    if(n==0):\n",
    "        break\n",
    "    for j in range(1,i+1):\n",
    "        if(i%j==0):\n",
    "            count+=1\n",
    "    if(count==2):\n",
    "        print(i)\n",
    "        n-=1\n",
    "    \n",
    "\n",
    "            \n",
    "        \n",
    "    "
   ]
  },
  {
   "cell_type": "code",
   "execution_count": 38,
   "metadata": {},
   "outputs": [
    {
     "name": "stdout",
     "output_type": "stream",
     "text": [
      "3\n",
      "2\n",
      "3\n"
     ]
    }
   ],
   "source": [
    "i=1\n",
    "n = int(input())\n",
    "while(i<=n):\n",
    "    count=0\n",
    "    for j in range(1,i+1):\n",
    "        if(i%j==0):\n",
    "            count+=1\n",
    "    if(count==2):\n",
    "        print(i)\n",
    "    i+=1\n",
    "    \n",
    "    "
   ]
  },
  {
   "cell_type": "code",
   "execution_count": 2,
   "metadata": {},
   "outputs": [
    {
     "name": "stdout",
     "output_type": "stream",
     "text": [
      "12\n",
      "479001600  is the factorial of the given number\n"
     ]
    }
   ],
   "source": [
    "n = int(input())\n",
    "fact=1\n",
    "while(n):\n",
    "    fact*=n\n",
    "    n-=1\n",
    "print(fact,\" is the factorial of the given number\")"
   ]
  },
  {
   "cell_type": "markdown",
   "metadata": {},
   "source": [
    "# 27/08/2019"
   ]
  },
  {
   "cell_type": "markdown",
   "metadata": {},
   "source": [
    "## program to print square root of the given number"
   ]
  },
  {
   "cell_type": "code",
   "execution_count": 18,
   "metadata": {},
   "outputs": [
    {
     "name": "stdout",
     "output_type": "stream",
     "text": [
      "64\n",
      "square root of  64  is  8.0\n"
     ]
    }
   ],
   "source": [
    "#square root of the the given number\n",
    "n = int(input())\n",
    "sqrt=n/2\n",
    "temp=0\n",
    "while(sqrt!=temp):\n",
    "    temp=sqrt\n",
    "    sqrt=((n/temp)+temp)/2\n",
    "\n",
    "print('square root of ',n,' is ',sqrt)"
   ]
  },
  {
   "cell_type": "markdown",
   "metadata": {},
   "source": [
    "## length of the given number"
   ]
  },
  {
   "cell_type": "code",
   "execution_count": 19,
   "metadata": {},
   "outputs": [
    {
     "name": "stdout",
     "output_type": "stream",
     "text": [
      "123\n",
      "3  is length of given number \n"
     ]
    }
   ],
   "source": [
    "num = int(input())\n",
    "n=0\n",
    "while(num!=0):\n",
    "    n+=1\n",
    "    num//=10\n",
    "print(n,\" is length of given number \")"
   ]
  },
  {
   "cell_type": "markdown",
   "metadata": {},
   "source": [
    "##"
   ]
  },
  {
   "cell_type": "code",
   "execution_count": 20,
   "metadata": {},
   "outputs": [
    {
     "name": "stdout",
     "output_type": "stream",
     "text": [
      "enter lower limit 2\n",
      "enter upper limit 5\n",
      "enter a number 4\n",
      " number with in the range \n"
     ]
    }
   ],
   "source": [
    "low=int(input('enter lower limit '))\n",
    "up=int(input('enter upper limit '))\n",
    "if(low<up):\n",
    "    n=int(input('enter a number '))\n",
    "    if(n>=low and n<=up):\n",
    "        print(' number with in the range ')\n",
    "    else:\n",
    "        print(' number is out of range   ')\n",
    "else:\n",
    "    print(' enter a valid range')"
   ]
  },
  {
   "cell_type": "code",
   "execution_count": 22,
   "metadata": {},
   "outputs": [
    {
     "name": "stdout",
     "output_type": "stream",
     "text": [
      " enter a number1\n",
      "1  is factor of 1000\n"
     ]
    }
   ],
   "source": [
    "n = int(input(' enter a number'))\n",
    "if(1000%n==0):\n",
    "    print(n,' is factor of 1000')\n",
    "else:\n",
    "    print(n,' is not a factor of 1000')"
   ]
  },
  {
   "cell_type": "code",
   "execution_count": 27,
   "metadata": {},
   "outputs": [
    {
     "name": "stdout",
     "output_type": "stream",
     "text": [
      "10 20 30\n",
      "30.0\n"
     ]
    }
   ],
   "source": [
    "#print count of numbers taken by the user in a single\n",
    "s = input()\n",
    "s=s.split()\n",
    "sum=0\n",
    "for i in range(len(s)):\n",
    "    sum+=int(s[i])\n",
    "    \n",
    "print(sum/i)"
   ]
  },
  {
   "cell_type": "code",
   "execution_count": 30,
   "metadata": {},
   "outputs": [
    {
     "name": "stdout",
     "output_type": "stream",
     "text": [
      "abc bca\n"
     ]
    },
    {
     "data": {
      "text/plain": [
       "False"
      ]
     },
     "execution_count": 30,
     "metadata": {},
     "output_type": "execute_result"
    }
   ],
   "source": [
    "s = input()                                       ####\n",
    "s=s.split()\n",
    "\n",
    "s[0] in s[1]"
   ]
  },
  {
   "cell_type": "code",
   "execution_count": 35,
   "metadata": {},
   "outputs": [
    {
     "name": "stdout",
     "output_type": "stream",
     "text": [
      "hello\n",
      "not a pallindrome\n"
     ]
    }
   ],
   "source": [
    "s=input()\n",
    "s1=s[::-1]\n",
    "if(s1==s):\n",
    "    print(\"pallindrome\")\n",
    "else:\n",
    "    print(\"not a pallindrome\")"
   ]
  },
  {
   "cell_type": "code",
   "execution_count": 40,
   "metadata": {},
   "outputs": [
    {
     "name": "stdout",
     "output_type": "stream",
     "text": [
      "enter  lower limit : 5 \n",
      " enter upper limit : 10\n",
      "enter the deired number : 6\n",
      "number of divisors are :  1\n"
     ]
    }
   ],
   "source": [
    "low = int(input('enter  lower limit : '))\n",
    "upp = int(input(' enter upper limit : '))\n",
    "if(low<upp):\n",
    "    count=0\n",
    "    n = int(input('enter the deired number : '))\n",
    "    for i in range(low,upp):\n",
    "        if(n%i==0):\n",
    "            count+=1\n",
    "    print(\"number of divisors are : \",count)\n",
    "else:\n",
    "    print(\"enter a vaild range\")"
   ]
  },
  {
   "cell_type": "code",
   "execution_count": 48,
   "metadata": {},
   "outputs": [
    {
     "name": "stdout",
     "output_type": "stream",
     "text": [
      "1401601499\n",
      "valid\n"
     ]
    }
   ],
   "source": [
    "k=10\n",
    "temp=0\n",
    "n = int(input())\n",
    "if(len(str(n))==10):\n",
    "    while(n>0):\n",
    "        rem = n%10\n",
    "        temp+=(rem*k)\n",
    "        k-=1\n",
    "        n//=10\n",
    "if(temp%11==0):\n",
    "    print(\"valid\")\n",
    "else:\n",
    "    print(\"in valid\")\n"
   ]
  },
  {
   "cell_type": "code",
   "execution_count": 44,
   "metadata": {},
   "outputs": [
    {
     "name": "stdout",
     "output_type": "stream",
     "text": [
      "10\n",
      "2\n",
      "3\n",
      "5\n",
      "7\n",
      "11\n",
      "13\n",
      "17\n",
      "19\n",
      "23\n",
      "29\n"
     ]
    }
   ],
   "source": [
    "n= int(input())                         # first n prime numbers\n",
    "for i in range(1000):\n",
    "    count=0\n",
    "    if(n==0):\n",
    "        break\n",
    "    for j in range(1,i+1):\n",
    "        if(i%j==0):\n",
    "            count+=1\n",
    "    if(count==2):\n",
    "        print(i)\n",
    "        n-=1\n",
    "    \n",
    "\n",
    "            1401601499"
   ]
  },
  {
   "cell_type": "code",
   "execution_count": 49,
   "metadata": {},
   "outputs": [
    {
     "name": "stdout",
     "output_type": "stream",
     "text": [
      "aBcDe\n"
     ]
    }
   ],
   "source": [
    "n = input()        #string toggle\n",
    "n=n.swapcase()"
   ]
  },
  {
   "cell_type": "code",
   "execution_count": 50,
   "metadata": {},
   "outputs": [
    {
     "data": {
      "text/plain": [
       "'AbCdE'"
      ]
     },
     "execution_count": 50,
     "metadata": {},
     "output_type": "execute_result"
    }
   ],
   "source": [
    "n"
   ]
  },
  {
   "cell_type": "code",
   "execution_count": 68,
   "metadata": {},
   "outputs": [
    {
     "name": "stdout",
     "output_type": "stream",
     "text": [
      "adbgg\n"
     ]
    },
    {
     "ename": "TypeError",
     "evalue": "'str' object does not support item assignment",
     "output_type": "error",
     "traceback": [
      "\u001b[1;31m---------------------------------------------------------------------------\u001b[0m",
      "\u001b[1;31mTypeError\u001b[0m                                 Traceback (most recent call last)",
      "\u001b[1;32m<ipython-input-68-bd5d0bd4f028>\u001b[0m in \u001b[0;36m<module>\u001b[1;34m\u001b[0m\n\u001b[0;32m      8\u001b[0m         \u001b[0modd\u001b[0m\u001b[1;33m=\u001b[0m\u001b[0ms\u001b[0m\u001b[1;33m[\u001b[0m\u001b[0mi\u001b[0m\u001b[1;33m]\u001b[0m\u001b[1;33m\u001b[0m\u001b[1;33m\u001b[0m\u001b[0m\n\u001b[0;32m      9\u001b[0m         \u001b[0mrem\u001b[0m \u001b[1;33m=\u001b[0m \u001b[0mord\u001b[0m\u001b[1;33m(\u001b[0m\u001b[0modd\u001b[0m\u001b[1;33m)\u001b[0m\u001b[1;33m-\u001b[0m\u001b[1;36m32\u001b[0m\u001b[1;33m\u001b[0m\u001b[1;33m\u001b[0m\u001b[0m\n\u001b[1;32m---> 10\u001b[1;33m         \u001b[0ms\u001b[0m\u001b[1;33m[\u001b[0m\u001b[0mi\u001b[0m\u001b[1;33m]\u001b[0m\u001b[1;33m=\u001b[0m\u001b[0mrem\u001b[0m\u001b[1;33m\u001b[0m\u001b[1;33m\u001b[0m\u001b[0m\n\u001b[0m\u001b[0;32m     11\u001b[0m \u001b[0ms\u001b[0m\u001b[1;33m\u001b[0m\u001b[1;33m\u001b[0m\u001b[0m\n",
      "\u001b[1;31mTypeError\u001b[0m: 'str' object does not support item assignment"
     ]
    }
   ],
   "source": [
    "s = input()\n",
    "for i in range(len(s)):\n",
    "    if ord(s[i])>=65 and ord(s[i])<=90:\n",
    "        odd=s[i]\n",
    "        rem = 32+ord(odd)\n",
    "        s[i]=rem\n",
    "    elif ord(s[i])>=97 and ord(s[i])<=123:\n",
    "        odd=s[i]\n",
    "        rem = ord(odd)-32\n",
    "        s[i]=rem\n",
    "s"
   ]
  },
  {
   "cell_type": "code",
   "execution_count": 23,
   "metadata": {},
   "outputs": [
    {
     "ename": "NameError",
     "evalue": "name 'k' is not defined",
     "output_type": "error",
     "traceback": [
      "\u001b[1;31m---------------------------------------------------------------------------\u001b[0m",
      "\u001b[1;31mNameError\u001b[0m                                 Traceback (most recent call last)",
      "\u001b[1;32m<ipython-input-23-bd6e0370c334>\u001b[0m in \u001b[0;36m<module>\u001b[1;34m\u001b[0m\n\u001b[0;32m      1\u001b[0m \u001b[0mflag\u001b[0m\u001b[1;33m=\u001b[0m\u001b[1;36m1\u001b[0m    \u001b[1;31m#########\u001b[0m\u001b[1;33m\u001b[0m\u001b[1;33m\u001b[0m\u001b[0m\n\u001b[1;32m----> 2\u001b[1;33m \u001b[0mk\u001b[0m\u001b[1;33m\u001b[0m\u001b[1;33m\u001b[0m\u001b[0m\n\u001b[0m\u001b[0;32m      3\u001b[0m \u001b[0mn\u001b[0m \u001b[1;33m=\u001b[0m \u001b[0minput\u001b[0m\u001b[1;33m(\u001b[0m\u001b[1;33m)\u001b[0m\u001b[1;33m\u001b[0m\u001b[1;33m\u001b[0m\u001b[0m\n\u001b[0;32m      4\u001b[0m \u001b[0mn1\u001b[0m \u001b[1;33m=\u001b[0m \u001b[0minput\u001b[0m\u001b[1;33m(\u001b[0m\u001b[1;33m)\u001b[0m\u001b[1;33m\u001b[0m\u001b[1;33m\u001b[0m\u001b[0m\n\u001b[0;32m      5\u001b[0m \u001b[0mn\u001b[0m \u001b[1;33m=\u001b[0m\u001b[0mn\u001b[0m\u001b[1;33m.\u001b[0m\u001b[0msplit\u001b[0m\u001b[1;33m(\u001b[0m\u001b[1;33m)\u001b[0m\u001b[1;33m\u001b[0m\u001b[1;33m\u001b[0m\u001b[0m\n",
      "\u001b[1;31mNameError\u001b[0m: name 'k' is not defined"
     ]
    }
   ],
   "source": [
    "flag=1    #########\n",
    "k\n",
    "n = input()\n",
    "n1 = input()\n",
    "n =n.split()\n",
    "n1 = n1.split()\n",
    "for i in range(len(n)):\n",
    "    count=0\n",
    "    for j in range(k,len(n1)):\n",
    "        if n[i]==n1[j]:\n",
    "            count+=1\n",
    "            n1[j]='-1'\n",
    "    if(count==0):\n",
    "        flag=0\n",
    "        break\n",
    "if(flag==0):\n",
    "    print(\"not identical\")\n",
    "else:\n",
    "    print(\" identical\")\n"
   ]
  },
  {
   "cell_type": "code",
   "execution_count": 83,
   "metadata": {},
   "outputs": [
    {
     "data": {
      "text/plain": [
       "'321'"
      ]
     },
     "execution_count": 83,
     "metadata": {},
     "output_type": "execute_result"
    }
   ],
   "source": [
    "\n",
    "n1[0]"
   ]
  },
  {
   "cell_type": "code",
   "execution_count": 86,
   "metadata": {},
   "outputs": [
    {
     "name": "stdout",
     "output_type": "stream",
     "text": [
      "abc\n",
      "6\n"
     ]
    }
   ],
   "source": [
    "n = input()\n",
    "#n=n.lower()\n",
    "temp=0\n",
    "for i in range(len(n)):\n",
    "    temp+=(ord(n[i])-96)\n",
    "print(temp)"
   ]
  },
  {
   "cell_type": "code",
   "execution_count": 87,
   "metadata": {},
   "outputs": [
    {
     "data": {
      "text/plain": [
       "'b'"
      ]
     },
     "execution_count": 87,
     "metadata": {},
     "output_type": "execute_result"
    }
   ],
   "source": [
    "n[1]"
   ]
  },
  {
   "cell_type": "code",
   "execution_count": 91,
   "metadata": {},
   "outputs": [
    {
     "name": "stdout",
     "output_type": "stream",
     "text": [
      "LLRDDR\n",
      "-2   0\n"
     ]
    }
   ],
   "source": [
    "n = input()\n",
    "x=0\n",
    "y=0\n",
    "for i in range(len(n)):\n",
    "    if(n[i]=='L'):\n",
    "        y-=1;\n",
    "    elif(n[i]=='R'):\n",
    "        y+=1\n",
    "    elif(n[i]=='U'):\n",
    "        x+=1\n",
    "    elif(n[i]=='D'):\n",
    "        x-=1\n",
    "print(x,\" \",y)    "
   ]
  },
  {
   "cell_type": "code",
   "execution_count": 93,
   "metadata": {},
   "outputs": [
    {
     "name": "stdout",
     "output_type": "stream",
     "text": [
      "python is a programming language python is so good like python is an interpreter language\n",
      "3\n"
     ]
    }
   ],
   "source": [
    "N = input()\n",
    "N = N.split()\n",
    "count=0\n",
    "for i in range(len(N)):\n",
    "    if(N[i]==\"python\"):\n",
    "        count+=1\n",
    "print(count)"
   ]
  },
  {
   "cell_type": "code",
   "execution_count": 95,
   "metadata": {},
   "outputs": [
    {
     "name": "stdout",
     "output_type": "stream",
     "text": [
      "python is a programming language python is so good like python is an interpreter language\n"
     ]
    },
    {
     "data": {
      "text/plain": [
       "89"
      ]
     },
     "execution_count": 95,
     "metadata": {},
     "output_type": "execute_result"
    }
   ],
   "source": [
    "N = input()\n",
    "len(N)"
   ]
  },
  {
   "cell_type": "code",
   "execution_count": 96,
   "metadata": {},
   "outputs": [
    {
     "name": "stdout",
     "output_type": "stream",
     "text": [
      "GANDHI\n"
     ]
    },
    {
     "data": {
      "text/plain": [
       "'gandhi'"
      ]
     },
     "execution_count": 96,
     "metadata": {},
     "output_type": "execute_result"
    }
   ],
   "source": [
    "n = input()\n",
    "n=n.lower()\n",
    "n"
   ]
  },
  {
   "cell_type": "code",
   "execution_count": 102,
   "metadata": {},
   "outputs": [
    {
     "name": "stdout",
     "output_type": "stream",
     "text": [
      "andsnakeviperscake\n"
     ]
    },
    {
     "data": {
      "text/plain": [
       "2"
      ]
     },
     "execution_count": 102,
     "metadata": {},
     "output_type": "execute_result"
    }
   ],
   "source": [
    "N = input()\n",
    "N=N.split('s')\n",
    "len(N)-1"
   ]
  },
  {
   "cell_type": "code",
   "execution_count": 105,
   "metadata": {},
   "outputs": [
    {
     "name": "stdout",
     "output_type": "stream",
     "text": [
      "gandhi\n"
     ]
    },
    {
     "data": {
      "text/plain": [
       "'ihdnag'"
      ]
     },
     "execution_count": 105,
     "metadata": {},
     "output_type": "execute_result"
    }
   ],
   "source": [
    "n = input()\n",
    "n=n[::-1]\n",
    "n"
   ]
  },
  {
   "cell_type": "markdown",
   "metadata": {},
   "source": [
    "## 28/8/2019\n"
   ]
  },
  {
   "cell_type": "code",
   "execution_count": 1,
   "metadata": {},
   "outputs": [
    {
     "name": "stdout",
     "output_type": "stream",
     "text": [
      "3 * 2\n",
      "6\n"
     ]
    }
   ],
   "source": [
    "n = input()\n",
    "n = n.split()\n",
    "if n[1]=='+':\n",
    "    print(int(n[0])+int(n[2]))\n",
    "elif n[1]=='*':\n",
    "    print(int(n[0])*int(n[2]))\n",
    "elif n[1]=='/':\n",
    "    print(int(n[0])/int(n[2]))\n",
    "elif n[1]=='-':\n",
    "    print(int(n[0])-int(n[2]))\n",
    "elif n[1]=='%':\n",
    "    print(int(n[0])%int(n[2]))\n",
    "\n",
    "\n",
    "    "
   ]
  },
  {
   "cell_type": "code",
   "execution_count": 7,
   "metadata": {},
   "outputs": [
    {
     "name": "stdout",
     "output_type": "stream",
     "text": [
      "1\n",
      "2\n",
      "3\n",
      "4\n",
      "5\n",
      "6\n",
      "7\n",
      "8\n",
      "9\n",
      "10\n",
      "21\n",
      "22\n",
      "24\n",
      "42\n",
      "[1, 2, 3, 4, 5, 6, 7, 8, 9, 10, 21, 22, 24]\n"
     ]
    }
   ],
   "source": [
    "i=0\n",
    "k = []\n",
    "while(True):\n",
    "    k.insert(i,int(input()))\n",
    "    if(k[i]==42):\n",
    "        break\n",
    "    i+=1\n",
    "print(k[:i])"
   ]
  },
  {
   "cell_type": "code",
   "execution_count": 9,
   "metadata": {},
   "outputs": [
    {
     "name": "stdout",
     "output_type": "stream",
     "text": [
      "Please enter your username : gandhi\n",
      "Please enter your password : 123456\n",
      "Greetings, gandhi you are now logged in now with a password\n",
      "Please type a command :print\n",
      "Please enter your username : gandhi\n",
      "Please enter your password : 123456\n",
      " Sorry username and password incorrect please re-enter for validation \n",
      "Please enter your username : username\n",
      "Please enter your password : password\n",
      "Greetings, username you are now logged in now with your password\n"
     ]
    }
   ],
   "source": []
  },
  {
   "cell_type": "code",
   "execution_count": 34,
   "metadata": {},
   "outputs": [
    {
     "name": "stdout",
     "output_type": "stream",
     "text": [
      "OTP of 4 digits: 1350\n"
     ]
    }
   ],
   "source": [
    "# import library \n",
    "import math, random \n",
    "  \n",
    "# function to generate OTP \n",
    "def generateOTP() : \n",
    "  \n",
    "    # Declare a digits variable   \n",
    "    # which stores all digits  \n",
    "    digits = \"0123456789\"\n",
    "    OTP = \"\" \n",
    "  \n",
    "   # length of password can be chaged \n",
    "   # by changing value in range \n",
    "    for i in range(4) : \n",
    "        OTP += digits[math.floor(random.random() * 10)] \n",
    "  \n",
    "    return OTP \n",
    "  \n",
    "# Driver code \n",
    "if __name__ == \"__main__\" : \n",
    "      \n",
    "    print(\"OTP of 4 digits:\", generateOTP()) "
   ]
  },
  {
   "cell_type": "code",
   "execution_count": 42,
   "metadata": {},
   "outputs": [
    {
     "name": "stdout",
     "output_type": "stream",
     "text": [
      "120 230 230\n",
      "ACCEPTED\n"
     ]
    }
   ],
   "source": [
    "s = input()\n",
    "s = s.split()\n",
    "for i in range(len(s)):\n",
    "    s[i]=int(s[i])\n",
    "if(s[0]> s[1] and s[0]>s[2]):\n",
    "    print(\"UPLOAD ANOTHER PICTURE:\")\n",
    "elif(s[0]< s[1] and s[0] < s[2]):\n",
    "    if(s[1]==s[2]):\n",
    "        print(\"ACCEPTED\")\n",
    "    else:\n",
    "        print(\"CROP IT\")"
   ]
  },
  {
   "cell_type": "markdown",
   "metadata": {},
   "source": [
    "## 30/8/2019"
   ]
  },
  {
   "cell_type": "code",
   "execution_count": 1,
   "metadata": {},
   "outputs": [
    {
     "name": "stdout",
     "output_type": "stream",
     "text": [
      "6\n",
      "720\n"
     ]
    }
   ],
   "source": [
    "###with arguments and with return\n",
    "\n",
    "def fact(n):\n",
    "    #n = int(input())\n",
    "    temp = 1\n",
    "    for i in range(1,n+1):\n",
    "        temp *=i\n",
    "    return temp\n",
    "     \n",
    "\n",
    "print(fact(int(input())))\n"
   ]
  },
  {
   "cell_type": "code",
   "execution_count": null,
   "metadata": {},
   "outputs": [],
   "source": [
    "lb = int(input())\n",
    "up = int(input())\n"
   ]
  },
  {
   "cell_type": "code",
   "execution_count": 13,
   "metadata": {},
   "outputs": [
    {
     "name": "stdout",
     "output_type": "stream",
     "text": [
      "2\n",
      "10\n",
      "180.0\n"
     ]
    }
   ],
   "source": [
    "# even cubes average\n",
    "def avg(i,temp):\n",
    "    return(temp/i)\n",
    "def iseven(i):\n",
    "    if(i%2==0):\n",
    "        return True\n",
    "    else:\n",
    "        return False\n",
    "def cube(i):\n",
    "    return(i*i*i)\n",
    "def sumof(l,h):\n",
    "    temp = 0\n",
    "    for i in range(l,h+1):\n",
    "        if(iseven(i)):\n",
    "            temp+=cube(i)\n",
    "    return(avg(i,temp))\n",
    "    \n",
    "\n",
    "li = int(input())\n",
    "ui = int(input())\n",
    "t=sumof(li,ui)\n",
    "print(t)"
   ]
  },
  {
   "cell_type": "code",
   "execution_count": 14,
   "metadata": {},
   "outputs": [
    {
     "name": "stdout",
     "output_type": "stream",
     "text": [
      "2\n",
      "60\n",
      "6 12 18 24 30 36 42 48 54 60 "
     ]
    }
   ],
   "source": [
    "def getrange(l,h):\n",
    "    for i in range(l,h+1):\n",
    "        if(i%6==0 and i%100!=0):\n",
    "            print(i,end=' ')\n",
    "li = int(input())\n",
    "ui = int(input())\n",
    "getrange(li,ui)"
   ]
  },
  {
   "cell_type": "code",
   "execution_count": 20,
   "metadata": {},
   "outputs": [
    {
     "name": "stdout",
     "output_type": "stream",
     "text": [
      "6\n"
     ]
    },
    {
     "data": {
      "text/plain": [
       "[1, 2, 3, 6]"
      ]
     },
     "execution_count": 20,
     "metadata": {},
     "output_type": "execute_result"
    }
   ],
   "source": [
    "def getlist(n):\n",
    "    r = []\n",
    "    j = 0\n",
    "    for i in range(1,n+1):\n",
    "        if(n%i==0):\n",
    "            r.insert(j,i)\n",
    "            j+=1\n",
    "    return r\n",
    "n = int(input())\n",
    "l = getlist(n)\n",
    "l"
   ]
  },
  {
   "cell_type": "code",
   "execution_count": 22,
   "metadata": {},
   "outputs": [
    {
     "name": "stdout",
     "output_type": "stream",
     "text": [
      "6\n",
      "False\n"
     ]
    }
   ],
   "source": [
    "def isprime(n):\n",
    "    count = 0\n",
    "    i = 2\n",
    "    while(i<=(n//2)):\n",
    "        if(n%i==0):\n",
    "            count=1\n",
    "            break\n",
    "        i+=1\n",
    "    if(count==0):\n",
    "        return True\n",
    "    else:\n",
    "        return False\n",
    "        \n",
    "n =int(input())\n",
    "print(isprime(n))"
   ]
  },
  {
   "cell_type": "markdown",
   "metadata": {},
   "source": [
    "## find the sum of prime number from 10 to 30 using function both 10 and 20 are inclusive"
   ]
  },
  {
   "cell_type": "code",
   "execution_count": 5,
   "metadata": {},
   "outputs": [],
   "source": [
    "def isprime(n):\n",
    "    count =0\n",
    "    for i in range(2,(n+1)//2):\n",
    "        if(n%i==0):\n",
    "            return False\n",
    "    return True\n",
    "            \n",
    "        "
   ]
  },
  {
   "cell_type": "code",
   "execution_count": 6,
   "metadata": {},
   "outputs": [
    {
     "name": "stdout",
     "output_type": "stream",
     "text": [
      "112\n"
     ]
    }
   ],
   "source": [
    "sum =0\n",
    "for i in range(10,31):\n",
    "    if(isprime(i)):\n",
    "        sum+=i\n",
    "print(sum)\n",
    "        "
   ]
  },
  {
   "cell_type": "code",
   "execution_count": 3,
   "metadata": {},
   "outputs": [
    {
     "name": "stdout",
     "output_type": "stream",
     "text": [
      "True\n"
     ]
    }
   ],
   "source": [
    "print(isprime(2))"
   ]
  },
  {
   "cell_type": "code",
   "execution_count": 4,
   "metadata": {},
   "outputs": [
    {
     "name": "stdout",
     "output_type": "stream",
     "text": [
      "False\n"
     ]
    }
   ],
   "source": [
    "print(isprime(12))"
   ]
  },
  {
   "cell_type": "code",
   "execution_count": 7,
   "metadata": {},
   "outputs": [],
   "source": [
    "number =[1,2,3,4,5,6]\n"
   ]
  },
  {
   "cell_type": "code",
   "execution_count": 8,
   "metadata": {},
   "outputs": [
    {
     "name": "stdout",
     "output_type": "stream",
     "text": [
      "21\n"
     ]
    }
   ],
   "source": [
    "total = 0\n",
    "for r in number:\n",
    "    total+=r\n",
    "print(total)"
   ]
  },
  {
   "cell_type": "code",
   "execution_count": 14,
   "metadata": {},
   "outputs": [
    {
     "ename": "AttributeError",
     "evalue": "'int' object has no attribute 'isnumeric'",
     "output_type": "error",
     "traceback": [
      "\u001b[1;31m---------------------------------------------------------------------------\u001b[0m",
      "\u001b[1;31mAttributeError\u001b[0m                            Traceback (most recent call last)",
      "\u001b[1;32m<ipython-input-14-637e862f3c78>\u001b[0m in \u001b[0;36m<module>\u001b[1;34m\u001b[0m\n\u001b[0;32m      2\u001b[0m \u001b[0mtemp\u001b[0m \u001b[1;33m=\u001b[0m \u001b[1;36m0\u001b[0m\u001b[1;33m\u001b[0m\u001b[1;33m\u001b[0m\u001b[0m\n\u001b[0;32m      3\u001b[0m \u001b[1;32mfor\u001b[0m \u001b[0mr\u001b[0m \u001b[1;32min\u001b[0m \u001b[0mitems\u001b[0m\u001b[1;33m:\u001b[0m\u001b[1;33m\u001b[0m\u001b[1;33m\u001b[0m\u001b[0m\n\u001b[1;32m----> 4\u001b[1;33m     \u001b[1;32mif\u001b[0m\u001b[1;33m(\u001b[0m\u001b[0mr\u001b[0m\u001b[1;33m==\u001b[0m\u001b[0mr\u001b[0m\u001b[1;33m.\u001b[0m\u001b[0misnumeric\u001b[0m\u001b[1;33m(\u001b[0m\u001b[1;33m)\u001b[0m\u001b[1;33m)\u001b[0m\u001b[1;33m:\u001b[0m\u001b[1;33m\u001b[0m\u001b[1;33m\u001b[0m\u001b[0m\n\u001b[0m\u001b[0;32m      5\u001b[0m         \u001b[0mtemp\u001b[0m\u001b[1;33m+=\u001b[0m\u001b[0mr\u001b[0m\u001b[1;33m\u001b[0m\u001b[1;33m\u001b[0m\u001b[0m\n\u001b[0;32m      6\u001b[0m \u001b[0mprint\u001b[0m\u001b[1;33m(\u001b[0m\u001b[0mtemp\u001b[0m\u001b[1;33m)\u001b[0m\u001b[1;33m\u001b[0m\u001b[1;33m\u001b[0m\u001b[0m\n",
      "\u001b[1;31mAttributeError\u001b[0m: 'int' object has no attribute 'isnumeric'"
     ]
    }
   ],
   "source": [
    "items = ['gandhi',6,11,'venkata',30]\n",
    "temp = 0\n",
    "for r in items:\n",
    "    if(r==r.isnumeric()):\n",
    "        temp+=r\n",
    "print(temp)\n",
    "        "
   ]
  },
  {
   "cell_type": "code",
   "execution_count": 15,
   "metadata": {},
   "outputs": [
    {
     "name": "stdout",
     "output_type": "stream",
     "text": [
      "47\n"
     ]
    }
   ],
   "source": [
    "for i in items:\n",
    "    if str(i).isdigit():\n",
    "        temp+=i\n",
    "print(temp)"
   ]
  },
  {
   "cell_type": "code",
   "execution_count": 16,
   "metadata": {},
   "outputs": [
    {
     "data": {
      "text/plain": [
       "'GANDHI'"
      ]
     },
     "execution_count": 16,
     "metadata": {},
     "output_type": "execute_result"
    }
   ],
   "source": [
    "## stirng method never change the original object\n",
    "s='gandhi'\n",
    "s.upper()"
   ]
  },
  {
   "cell_type": "code",
   "execution_count": 17,
   "metadata": {},
   "outputs": [
    {
     "data": {
      "text/plain": [
       "'gandhi'"
      ]
     },
     "execution_count": 17,
     "metadata": {},
     "output_type": "execute_result"
    }
   ],
   "source": [
    "s"
   ]
  },
  {
   "cell_type": "code",
   "execution_count": 18,
   "metadata": {},
   "outputs": [],
   "source": [
    "s= s.upper()"
   ]
  },
  {
   "cell_type": "code",
   "execution_count": 19,
   "metadata": {},
   "outputs": [
    {
     "data": {
      "text/plain": [
       "'GANDHI'"
      ]
     },
     "execution_count": 19,
     "metadata": {},
     "output_type": "execute_result"
    }
   ],
   "source": [
    "s"
   ]
  },
  {
   "cell_type": "code",
   "execution_count": 40,
   "metadata": {},
   "outputs": [],
   "source": [
    "student = [['gandhi',90,50,60],['kasthuri',51,90,90],['parvathi',51,90,90]]"
   ]
  },
  {
   "cell_type": "code",
   "execution_count": 41,
   "metadata": {},
   "outputs": [
    {
     "name": "stdout",
     "output_type": "stream",
     "text": [
      "200 0\n",
      "231 200\n",
      "231 231\n"
     ]
    }
   ],
   "source": [
    "temp = 0\n",
    "temp1 =0\n",
    "t = [0]\n",
    "for i in range(len(student)):\n",
    "    for j in range(1,len(student[i])):\n",
    "        temp+=student[i][j]\n",
    "    print(temp,temp1)\n",
    "    if temp>temp1:\n",
    "        t.pop(k)\n",
    "        t.append(i)\n",
    "    if temp==temp1:\n",
    "        t.append(i)\n",
    "    temp1=temp\n",
    "    temp = 0\n",
    "    \n"
   ]
  },
  {
   "cell_type": "code",
   "execution_count": 42,
   "metadata": {},
   "outputs": [
    {
     "name": "stdout",
     "output_type": "stream",
     "text": [
      "kasthuri\n",
      "parvathi\n"
     ]
    }
   ],
   "source": [
    "for i in range(len(t)):\n",
    "    print(student[t[i]][0])"
   ]
  },
  {
   "cell_type": "code",
   "execution_count": 43,
   "metadata": {},
   "outputs": [
    {
     "name": "stdout",
     "output_type": "stream",
     "text": [
      "kasthuri\n",
      "parvathi\n"
     ]
    }
   ],
   "source": [
    "temp = 0\n",
    "temp1 =0\n",
    "t = [0]\n",
    "k = 0\n",
    "for i in range(len(student)):\n",
    "    for j in range(1,len(student[i])):\n",
    "        temp+=student[i][j]\n",
    "    if temp>temp1:\n",
    "        t.pop()\n",
    "        t.append(i)\n",
    "    if temp==temp1:\n",
    "        t.append(i)\n",
    "        k+=1\n",
    "    temp1=temp\n",
    "    temp = 0\n",
    "for i in range(len(t)):\n",
    "    print(student[t[i]][0])    "
   ]
  },
  {
   "cell_type": "code",
   "execution_count": null,
   "metadata": {},
   "outputs": [],
   "source": []
  },
  {
   "cell_type": "code",
   "execution_count": 105,
   "metadata": {},
   "outputs": [],
   "source": [
    "# no ,sun1,sub2\n",
    "student = [[1,40,20],[3,30,16],[2,10,8]]"
   ]
  },
  {
   "cell_type": "code",
   "execution_count": 106,
   "metadata": {},
   "outputs": [
    {
     "data": {
      "text/plain": [
       "[[1, 40, 20], [3, 30, 16], [2, 10, 8]]"
      ]
     },
     "execution_count": 106,
     "metadata": {},
     "output_type": "execute_result"
    }
   ],
   "source": [
    "student"
   ]
  },
  {
   "cell_type": "code",
   "execution_count": 111,
   "metadata": {},
   "outputs": [
    {
     "ename": "SyntaxError",
     "evalue": "invalid syntax (<ipython-input-111-42e515320a3d>, line 1)",
     "output_type": "error",
     "traceback": [
      "\u001b[1;36m  File \u001b[1;32m\"<ipython-input-111-42e515320a3d>\"\u001b[1;36m, line \u001b[1;32m1\u001b[0m\n\u001b[1;33m    student[][2].sort()\u001b[0m\n\u001b[1;37m            ^\u001b[0m\n\u001b[1;31mSyntaxError\u001b[0m\u001b[1;31m:\u001b[0m invalid syntax\n"
     ]
    }
   ],
   "source": [
    "student[][2].sort()"
   ]
  },
  {
   "cell_type": "code",
   "execution_count": 114,
   "metadata": {},
   "outputs": [
    {
     "data": {
      "text/plain": [
       "[[2, 8, 10], [3, 30, 16], [1, 40, 20]]"
      ]
     },
     "execution_count": 114,
     "metadata": {},
     "output_type": "execute_result"
    }
   ],
   "source": [
    "student"
   ]
  },
  {
   "cell_type": "code",
   "execution_count": 115,
   "metadata": {},
   "outputs": [],
   "source": [
    "for i in student:\n",
    "    i.reverse()"
   ]
  },
  {
   "cell_type": "code",
   "execution_count": 116,
   "metadata": {},
   "outputs": [
    {
     "data": {
      "text/plain": [
       "[[10, 8, 2], [16, 30, 3], [20, 40, 1]]"
      ]
     },
     "execution_count": 116,
     "metadata": {},
     "output_type": "execute_result"
    }
   ],
   "source": [
    "student"
   ]
  },
  {
   "cell_type": "code",
   "execution_count": 117,
   "metadata": {},
   "outputs": [],
   "source": [
    "student.sort()"
   ]
  },
  {
   "cell_type": "code",
   "execution_count": 118,
   "metadata": {},
   "outputs": [
    {
     "data": {
      "text/plain": [
       "[[2, 10, 8], [3, 30, 16], [1, 40, 20]]"
      ]
     },
     "execution_count": 118,
     "metadata": {},
     "output_type": "execute_result"
    }
   ],
   "source": [
    "student = [[1,40,20],[3,30,16],[2,10,8]]\n",
    "for i in student:\n",
    "    i.reverse()\n",
    "student.sort()\n",
    "for i in student:\n",
    "    i.reverse()\n",
    "student"
   ]
  },
  {
   "cell_type": "markdown",
   "metadata": {},
   "source": [
    "## isupper ,islower"
   ]
  },
  {
   "cell_type": "code",
   "execution_count": 119,
   "metadata": {},
   "outputs": [
    {
     "name": "stdout",
     "output_type": "stream",
     "text": [
      "6\n"
     ]
    }
   ],
   "source": [
    "data = \"gandhi123\"\n",
    "temp = 0\n",
    "for i in range(len(data)):\n",
    "    if data[i].isdigit():\n",
    "        temp+=int(data[i])\n",
    "print(temp)\n",
    "        "
   ]
  },
  {
   "cell_type": "code",
   "execution_count": 122,
   "metadata": {},
   "outputs": [
    {
     "name": "stdout",
     "output_type": "stream",
     "text": [
      "2.0\n"
     ]
    }
   ],
   "source": [
    "data = \"gandhi123\"\n",
    "temp = 0\n",
    "j = 0\n",
    "for i in range(len(data)):\n",
    "    if data[i].isdigit():\n",
    "        temp+=int(data[i])\n",
    "        j+=1\n",
    "if j>0:\n",
    "    print(temp/j)"
   ]
  },
  {
   "cell_type": "code",
   "execution_count": 123,
   "metadata": {},
   "outputs": [
    {
     "name": "stdout",
     "output_type": "stream",
     "text": [
      "6\n"
     ]
    }
   ],
   "source": [
    "data = \"gandhi123\"\n",
    "temp = 0\n",
    "j = 0\n",
    "for i in range(len(data)):\n",
    "    if data[i].isalpha():\n",
    "        temp+=1\n",
    "print(temp)"
   ]
  },
  {
   "cell_type": "code",
   "execution_count": 124,
   "metadata": {},
   "outputs": [
    {
     "name": "stdout",
     "output_type": "stream",
     "text": [
      "3\n"
     ]
    }
   ],
   "source": [
    "data = \"gandhi123\"\n",
    "temp = 0\n",
    "j = 0\n",
    "for i in range(len(data)):\n",
    "    if data[i].isdigit():\n",
    "        temp+=1\n",
    "print(temp)"
   ]
  },
  {
   "cell_type": "code",
   "execution_count": 132,
   "metadata": {},
   "outputs": [
    {
     "name": "stdout",
     "output_type": "stream",
     "text": [
      "21\n",
      "lucky number is 3\n"
     ]
    }
   ],
   "source": [
    "data = \"123gandhi12345\"\n",
    "temp = 0\n",
    "rem =  0\n",
    "for i in range(len(data)):\n",
    "    if data[i].isdigit():\n",
    "        temp+=int(data[i])\n",
    "print(temp)\n",
    "if(temp>=10):\n",
    "    while(temp>0):\n",
    "        rem +=temp%10\n",
    "        temp//=10\n",
    "    print('lucky number is',rem)\n",
    "else:\n",
    "    print('lucky number is',temp)\n",
    "    \n",
    "        "
   ]
  },
  {
   "cell_type": "code",
   "execution_count": 134,
   "metadata": {},
   "outputs": [],
   "source": [
    "name = 'apssdc'\n",
    "name = list(name)"
   ]
  },
  {
   "cell_type": "code",
   "execution_count": 135,
   "metadata": {},
   "outputs": [
    {
     "data": {
      "text/plain": [
       "['a', 'p', 's', 's', 'd', 'c']"
      ]
     },
     "execution_count": 135,
     "metadata": {},
     "output_type": "execute_result"
    }
   ],
   "source": [
    "name"
   ]
  },
  {
   "cell_type": "code",
   "execution_count": 136,
   "metadata": {},
   "outputs": [],
   "source": [
    "name.sort()"
   ]
  },
  {
   "cell_type": "code",
   "execution_count": 137,
   "metadata": {},
   "outputs": [
    {
     "data": {
      "text/plain": [
       "['a', 'c', 'd', 'p', 's', 's']"
      ]
     },
     "execution_count": 137,
     "metadata": {},
     "output_type": "execute_result"
    }
   ],
   "source": [
    "name"
   ]
  },
  {
   "cell_type": "code",
   "execution_count": 138,
   "metadata": {},
   "outputs": [],
   "source": [
    "def sumofdigits(data):\n",
    "    result = 0\n",
    "    for ch in data:\n",
    "        if ch.isdigit():\n",
    "            result += int(ch)\n",
    "    return result"
   ]
  },
  {
   "cell_type": "code",
   "execution_count": 147,
   "metadata": {},
   "outputs": [
    {
     "name": "stdout",
     "output_type": "stream",
     "text": [
      "123456\n",
      "3\n"
     ]
    }
   ],
   "source": [
    "data = input()\n",
    "while(len(data)!=1):\n",
    "    data = str(sumofdigits(data))\n",
    "print(data)"
   ]
  },
  {
   "cell_type": "code",
   "execution_count": 148,
   "metadata": {},
   "outputs": [],
   "source": [
    "data = 'gandhi123'\n",
    "result = {}\n",
    "for ch in data:\n",
    "    if ch.isalpha():\n",
    "        if 'alpha' in result:\n",
    "            old = result['alpha']\n",
    "            result['alpha'] = old+1\n",
    "        else:\n",
    "            result['alpha']=1\n",
    "    if ch.isdigit():\n",
    "        result['digit']=result.get('digit',0)+1"
   ]
  },
  {
   "cell_type": "code",
   "execution_count": 149,
   "metadata": {},
   "outputs": [
    {
     "data": {
      "text/plain": [
       "{'alpha': 6, 'digit': 3}"
      ]
     },
     "execution_count": 149,
     "metadata": {},
     "output_type": "execute_result"
    }
   ],
   "source": [
    "result"
   ]
  },
  {
   "cell_type": "code",
   "execution_count": 165,
   "metadata": {},
   "outputs": [],
   "source": [
    "name = ' python program '"
   ]
  },
  {
   "cell_type": "code",
   "execution_count": 166,
   "metadata": {},
   "outputs": [
    {
     "name": "stdout",
     "output_type": "stream",
     "text": [
      "{' ': 3, 'p': 2, 'y': 1, 't': 1, 'h': 1, 'o': 2, 'n': 1, 'r': 2, 'g': 1, 'a': 1, 'm': 1}\n"
     ]
    }
   ],
   "source": [
    "frequency = {}\n",
    "for ch in name:\n",
    "    if ch in frequency:\n",
    "        old = frequency[ch]\n",
    "        frequency[ch] = old+1\n",
    "    else:\n",
    "        frequency[ch]=1\n",
    "print(frequency)\n",
    "        \n",
    "    "
   ]
  },
  {
   "cell_type": "code",
   "execution_count": 167,
   "metadata": {},
   "outputs": [
    {
     "data": {
      "text/plain": [
       "{' ': 3,\n",
       " 'p': 2,\n",
       " 'y': 1,\n",
       " 't': 1,\n",
       " 'h': 1,\n",
       " 'o': 2,\n",
       " 'n': 1,\n",
       " 'r': 2,\n",
       " 'g': 1,\n",
       " 'a': 1,\n",
       " 'm': 1}"
      ]
     },
     "execution_count": 167,
     "metadata": {},
     "output_type": "execute_result"
    }
   ],
   "source": [
    "frequency"
   ]
  },
  {
   "cell_type": "code",
   "execution_count": 168,
   "metadata": {},
   "outputs": [],
   "source": [
    "urls = ['www.google.com','www.gmail.com','www.yahoo.com','www.google.com']"
   ]
  },
  {
   "cell_type": "code",
   "execution_count": 172,
   "metadata": {},
   "outputs": [],
   "source": [
    "freq =  {}"
   ]
  },
  {
   "cell_type": "code",
   "execution_count": 173,
   "metadata": {},
   "outputs": [
    {
     "name": "stdout",
     "output_type": "stream",
     "text": [
      "{'www.google.com': 2, 'www.gmail.com': 1, 'www.yahoo.com': 1}\n"
     ]
    }
   ],
   "source": [
    "for ch in urls:\n",
    "    if ch in freq:\n",
    "        old = freq[ch]\n",
    "        freq[ch] = old+1\n",
    "    else:\n",
    "        freq[ch]=1\n",
    "print(freq)\n",
    "        \n",
    "    "
   ]
  },
  {
   "cell_type": "code",
   "execution_count": null,
   "metadata": {},
   "outputs": [],
   "source": []
  },
  {
   "cell_type": "code",
   "execution_count": 174,
   "metadata": {},
   "outputs": [
    {
     "name": "stdout",
     "output_type": "stream",
     "text": [
      "error division by zero\n"
     ]
    }
   ],
   "source": [
    "try:\n",
    "    print(1/0)\n",
    "except Exception as e:\n",
    "    print('error',e) "
   ]
  },
  {
   "cell_type": "markdown",
   "metadata": {},
   "source": [
    "## sets:\n",
    "set is mutable one\n"
   ]
  },
  {
   "cell_type": "code",
   "execution_count": 175,
   "metadata": {},
   "outputs": [],
   "source": [
    "a = {1,2,3,4,5}"
   ]
  },
  {
   "cell_type": "code",
   "execution_count": 176,
   "metadata": {},
   "outputs": [
    {
     "data": {
      "text/plain": [
       "set"
      ]
     },
     "execution_count": 176,
     "metadata": {},
     "output_type": "execute_result"
    }
   ],
   "source": [
    "type(a)"
   ]
  },
  {
   "cell_type": "markdown",
   "metadata": {},
   "source": [
    "### a.add()"
   ]
  },
  {
   "cell_type": "code",
   "execution_count": 177,
   "metadata": {},
   "outputs": [],
   "source": [
    "a.add(10)"
   ]
  },
  {
   "cell_type": "code",
   "execution_count": 178,
   "metadata": {},
   "outputs": [
    {
     "data": {
      "text/plain": [
       "{1, 2, 3, 4, 5, 10}"
      ]
     },
     "execution_count": 178,
     "metadata": {},
     "output_type": "execute_result"
    }
   ],
   "source": [
    "a"
   ]
  },
  {
   "cell_type": "markdown",
   "metadata": {},
   "source": [
    "### a.pop() first element is deleted in the set"
   ]
  },
  {
   "cell_type": "code",
   "execution_count": 180,
   "metadata": {},
   "outputs": [
    {
     "data": {
      "text/plain": [
       "2"
      ]
     },
     "execution_count": 180,
     "metadata": {},
     "output_type": "execute_result"
    }
   ],
   "source": [
    "a.pop()"
   ]
  },
  {
   "cell_type": "code",
   "execution_count": 181,
   "metadata": {},
   "outputs": [
    {
     "data": {
      "text/plain": [
       "{3, 4, 5, 10}"
      ]
     },
     "execution_count": 181,
     "metadata": {},
     "output_type": "execute_result"
    }
   ],
   "source": [
    "a"
   ]
  },
  {
   "cell_type": "code",
   "execution_count": 182,
   "metadata": {},
   "outputs": [
    {
     "name": "stdout",
     "output_type": "stream",
     "text": [
      "{3, 4, 5, 10}\n"
     ]
    }
   ],
   "source": [
    "print(a)"
   ]
  },
  {
   "cell_type": "markdown",
   "metadata": {},
   "source": [
    "### 4/09/2019"
   ]
  },
  {
   "cell_type": "code",
   "execution_count": 7,
   "metadata": {},
   "outputs": [],
   "source": [
    "message = \"\"\"i am from bhi%mavaram my age is 20  \"\"\""
   ]
  },
  {
   "cell_type": "code",
   "execution_count": 8,
   "metadata": {},
   "outputs": [
    {
     "data": {
      "text/plain": [
       "str"
      ]
     },
     "execution_count": 8,
     "metadata": {},
     "output_type": "execute_result"
    }
   ],
   "source": [
    "type(message)"
   ]
  },
  {
   "cell_type": "code",
   "execution_count": 9,
   "metadata": {},
   "outputs": [],
   "source": [
    "import re"
   ]
  },
  {
   "cell_type": "code",
   "execution_count": 10,
   "metadata": {},
   "outputs": [
    {
     "name": "stdout",
     "output_type": "stream",
     "text": [
      "i am from bhimavaram my age is   "
     ]
    }
   ],
   "source": [
    "for i in message:\n",
    "    if re.search('[a-z,A-Z, ]',i):\n",
    "        print(i,end='')"
   ]
  },
  {
   "cell_type": "code",
   "execution_count": 11,
   "metadata": {},
   "outputs": [
    {
     "data": {
      "text/plain": [
       "<re.Match object; span=(0, 13), match='i am from bhi'>"
      ]
     },
     "execution_count": 11,
     "metadata": {},
     "output_type": "execute_result"
    }
   ],
   "source": [
    "re.search('[a-z,A-Z, ]+',message)"
   ]
  },
  {
   "cell_type": "code",
   "execution_count": 12,
   "metadata": {},
   "outputs": [
    {
     "data": {
      "text/plain": [
       "['i', 'am', 'from', 'bhi', 'mavaram', 'my', 'age', 'is']"
      ]
     },
     "execution_count": 12,
     "metadata": {},
     "output_type": "execute_result"
    }
   ],
   "source": [
    "re.findall('[a-zA-Z]+',message)"
   ]
  },
  {
   "cell_type": "code",
   "execution_count": 13,
   "metadata": {},
   "outputs": [],
   "source": [
    "me = message.split()"
   ]
  },
  {
   "cell_type": "code",
   "execution_count": 14,
   "metadata": {},
   "outputs": [
    {
     "data": {
      "text/plain": [
       "['i', 'am', 'from', 'bhi%mavaram', 'my', 'age', 'is', '20']"
      ]
     },
     "execution_count": 14,
     "metadata": {},
     "output_type": "execute_result"
    }
   ],
   "source": [
    "me"
   ]
  },
  {
   "cell_type": "code",
   "execution_count": null,
   "metadata": {},
   "outputs": [],
   "source": [
    "\n",
    "    "
   ]
  },
  {
   "cell_type": "code",
   "execution_count": 17,
   "metadata": {},
   "outputs": [
    {
     "data": {
      "text/plain": [
       "['i ', 'am ', 'from ', 'mavaram ', 'my ', 'age ', 'is ']"
      ]
     },
     "execution_count": 17,
     "metadata": {},
     "output_type": "execute_result"
    }
   ],
   "source": [
    "re.findall('[a-zA-Z]+ ',message)"
   ]
  },
  {
   "cell_type": "code",
   "execution_count": 18,
   "metadata": {},
   "outputs": [
    {
     "data": {
      "text/plain": [
       "<re.Match object; span=(6, 9), match='123'>"
      ]
     },
     "execution_count": 18,
     "metadata": {},
     "output_type": "execute_result"
    }
   ],
   "source": [
    "data = 'gandhi123 456'\n",
    "re.search('\\d+',data)"
   ]
  },
  {
   "cell_type": "code",
   "execution_count": 19,
   "metadata": {},
   "outputs": [
    {
     "data": {
      "text/plain": [
       "['123', '456']"
      ]
     },
     "execution_count": 19,
     "metadata": {},
     "output_type": "execute_result"
    }
   ],
   "source": [
    "re.findall('\\d+',data)"
   ]
  },
  {
   "cell_type": "code",
   "execution_count": 20,
   "metadata": {},
   "outputs": [],
   "source": [
    "def isvalidnumber(n):\n",
    "    if re.search('^[6-9]\\d{9}$',n):\n",
    "        return True\n",
    "    else:\n",
    "        return False"
   ]
  },
  {
   "cell_type": "code",
   "execution_count": 21,
   "metadata": {},
   "outputs": [
    {
     "name": "stdout",
     "output_type": "stream",
     "text": [
      "9908724@71\n"
     ]
    },
    {
     "data": {
      "text/plain": [
       "False"
      ]
     },
     "execution_count": 21,
     "metadata": {},
     "output_type": "execute_result"
    }
   ],
   "source": [
    "n = input()\n",
    "isvalidnumber(n)"
   ]
  },
  {
   "cell_type": "code",
   "execution_count": 95,
   "metadata": {},
   "outputs": [],
   "source": [
    "def isvaildname(n):\n",
    "    if re.search('^[A-Za-z]+[ .]{0,1}[a-zA-z]+[ .]{0,1}[A-Z,a-z]+$',n):\n",
    "        return True\n",
    "    else:\n",
    "        return False"
   ]
  },
  {
   "cell_type": "code",
   "execution_count": 97,
   "metadata": {},
   "outputs": [
    {
     "data": {
      "text/plain": [
       "True"
      ]
     },
     "execution_count": 97,
     "metadata": {},
     "output_type": "execute_result"
    }
   ],
   "source": [
    "isvaildname('vardhineedi venkata gandhi')"
   ]
  },
  {
   "cell_type": "code",
   "execution_count": 30,
   "metadata": {},
   "outputs": [],
   "source": [
    "def isvaildpattern(cmd,pat):\n",
    "    if re.search(cmd,pat):\n",
    "        return True\n",
    "    else:\n",
    "        return False"
   ]
  },
  {
   "cell_type": "code",
   "execution_count": 33,
   "metadata": {},
   "outputs": [
    {
     "data": {
      "text/plain": [
       "True"
      ]
     },
     "execution_count": 33,
     "metadata": {},
     "output_type": "execute_result"
    }
   ],
   "source": [
    "isvaildpattern('^[6-9]\\d{9}$','9908724971')"
   ]
  },
  {
   "cell_type": "code",
   "execution_count": 1,
   "metadata": {},
   "outputs": [
    {
     "name": "stdout",
     "output_type": "stream",
     "text": [
      "1\n",
      "1\n",
      "a\n",
      "a\n"
     ]
    }
   ],
   "source": [
    "'''\n",
    "# Sample code to perform I/O:\n",
    "\n",
    "name = input()                  # Reading input from STDIN\n",
    "print('Hi, %s.' % name)         # Writing output to STDOUT\n",
    "\n",
    "# Warning: Printing unwanted or ill-formatted data to output will cause the test cases to fail\n",
    "'''\n",
    "\n",
    "# Write your code here\n",
    "def isprime(n):\n",
    "    i=2\n",
    "    if n==0 or n==1:\n",
    "        return False\n",
    "    while(i<=(n+1)//2):\n",
    "        if(n%i==0):\n",
    "            return False\n",
    "        i+=1\n",
    "    return True\n",
    "    \n",
    "def get(k):\n",
    "    i =k\n",
    "    j=k\n",
    "    while(i>=65 or j<=90):\n",
    "        j+=1\n",
    "        i-=1\n",
    "        \n",
    "        if isprime(i)and i>=65:\n",
    "            return i\n",
    "        if isprime(j)and j<=90:\n",
    "            return(j)\n",
    "    return k\n",
    "test = int(input())\n",
    "t =[]\n",
    "for i in range(test):\n",
    "    l = int(input())\n",
    "    st = input()\n",
    "    if(l == len(st)):\n",
    "        for j in range(l):\n",
    "            k=ord(st[j])\n",
    "            if(isprime(k)):\n",
    "                t.append(st[j])\n",
    "            else:\n",
    "                k = get(k)\n",
    "                ch = chr(k)\n",
    "                t.append(ch)\n",
    "print(''.join(t))"
   ]
  },
  {
   "cell_type": "code",
   "execution_count": null,
   "metadata": {},
   "outputs": [],
   "source": []
  }
 ],
 "metadata": {
  "kernelspec": {
   "display_name": "Python 3",
   "language": "python",
   "name": "python3"
  },
  "language_info": {
   "codemirror_mode": {
    "name": "ipython",
    "version": 3
   },
   "file_extension": ".py",
   "mimetype": "text/x-python",
   "name": "python",
   "nbconvert_exporter": "python",
   "pygments_lexer": "ipython3",
   "version": "3.7.3"
  }
 },
 "nbformat": 4,
 "nbformat_minor": 2
}
