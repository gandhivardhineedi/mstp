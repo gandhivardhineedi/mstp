{
 "cells": [
  {
   "cell_type": "markdown",
   "metadata": {},
   "source": [
    "### modules and packages in python file\n",
    "    a python file contains function and python staTEMENT IS CALLED MODULES"
   ]
  },
  {
   "cell_type": "code",
   "execution_count": 3,
   "metadata": {},
   "outputs": [],
   "source": [
    "def gcd(x,y):\n",
    "    while(y):\n",
    "        x,y=y,x%y\n",
    "    return x"
   ]
  },
  {
   "cell_type": "code",
   "execution_count": 14,
   "metadata": {},
   "outputs": [
    {
     "name": "stdout",
     "output_type": "stream",
     "text": [
      "1\n"
     ]
    }
   ],
   "source": [
    "print(gcd(1,2))"
   ]
  },
  {
   "cell_type": "code",
   "execution_count": 9,
   "metadata": {},
   "outputs": [
    {
     "name": "stdout",
     "output_type": "stream",
     "text": [
      "5\n",
      "1\n",
      "1\n",
      "2\n",
      "1\n",
      "3\n",
      "2\n",
      "4\n",
      "1\n",
      "5\n",
      "1\n"
     ]
    }
   ],
   "source": [
    "def gcd(x,y):\n",
    "    while(y):\n",
    "        x,y=y,x%y\n",
    "    return x\n",
    "def get(n):\n",
    "    c =  0\n",
    "    c1 = 0\n",
    "    while(n):\n",
    "        if(n%2==0):\n",
    "            c+=1\n",
    "        else:\n",
    "            c1+=1\n",
    "        n//=2\n",
    "    return(c,c1)\n",
    "test = int(input())\n",
    "for i in range(test):\n",
    "    c=0\n",
    "    c1=0\n",
    "    temp =0\n",
    "    n = int(input())\n",
    "    if(n==1):\n",
    "        temp+=1\n",
    "    else:\n",
    "        c,c1=get(i)\n",
    "        if(c<c1):\n",
    "            temp+=(gcd(c,c1))\n",
    "        elif(c1<c):\n",
    "            temp+=(gcd(c1,c))\n",
    "        else:\n",
    "            temp+=(c)"
   ]
  },
  {
   "cell_type": "code",
   "execution_count": 21,
   "metadata": {},
   "outputs": [],
   "source": [
    "5\n",
    "1\n",
    "2\n",
    "3\n",
    "4\n",
    "5\n",
    "1\n",
    "2\n",
    "4\n",
    "5\n",
    "6"
   ]
  },
  {
   "cell_type": "code",
   "execution_count": 23,
   "metadata": {},
   "outputs": [
    {
     "name": "stdout",
     "output_type": "stream",
     "text": [
      "0 3\n",
      "(0, 3)\n"
     ]
    }
   ],
   "source": [
    "print(get(7))"
   ]
  },
  {
   "cell_type": "code",
   "execution_count": 9,
   "metadata": {},
   "outputs": [],
   "source": [
    "import mymod"
   ]
  },
  {
   "cell_type": "code",
   "execution_count": 11,
   "metadata": {},
   "outputs": [
    {
     "data": {
      "text/plain": [
       "'welcomegandhi have a nice day'"
      ]
     },
     "execution_count": 11,
     "metadata": {},
     "output_type": "execute_result"
    }
   ],
   "source": [
    "mymod.welcome('gandhi')"
   ]
  },
  {
   "cell_type": "code",
   "execution_count": 15,
   "metadata": {},
   "outputs": [],
   "source": [
    "import calmod"
   ]
  },
  {
   "cell_type": "code",
   "execution_count": 16,
   "metadata": {},
   "outputs": [
    {
     "data": {
      "text/plain": [
       "3"
      ]
     },
     "execution_count": 16,
     "metadata": {},
     "output_type": "execute_result"
    }
   ],
   "source": [
    "calmod.add(1,2)"
   ]
  },
  {
   "cell_type": "code",
   "execution_count": 17,
   "metadata": {},
   "outputs": [
    {
     "data": {
      "text/plain": [
       "-1"
      ]
     },
     "execution_count": 17,
     "metadata": {},
     "output_type": "execute_result"
    }
   ],
   "source": [
    "calmod.sub(2,3)"
   ]
  },
  {
   "cell_type": "code",
   "execution_count": 18,
   "metadata": {},
   "outputs": [
    {
     "data": {
      "text/plain": [
       "6"
      ]
     },
     "execution_count": 18,
     "metadata": {},
     "output_type": "execute_result"
    }
   ],
   "source": [
    "calmod.mul(2,3)"
   ]
  },
  {
   "cell_type": "code",
   "execution_count": 19,
   "metadata": {},
   "outputs": [
    {
     "name": "stdout",
     "output_type": "stream",
     "text": [
      "divide by zero\n"
     ]
    }
   ],
   "source": [
    "calmod.div(1,0)"
   ]
  },
  {
   "cell_type": "code",
   "execution_count": 20,
   "metadata": {},
   "outputs": [
    {
     "data": {
      "text/plain": [
       "(2, 1)"
      ]
     },
     "execution_count": 20,
     "metadata": {},
     "output_type": "execute_result"
    }
   ],
   "source": [
    "calmod.div(5,2)"
   ]
  },
  {
   "cell_type": "code",
   "execution_count": 1,
   "metadata": {},
   "outputs": [],
   "source": [
    "import game.start as mygame"
   ]
  },
  {
   "cell_type": "code",
   "execution_count": 2,
   "metadata": {},
   "outputs": [
    {
     "name": "stdout",
     "output_type": "stream",
     "text": [
      ". . . . . . . . . . "
     ]
    },
    {
     "data": {
      "text/plain": [
       "'welcomegandhi'"
      ]
     },
     "execution_count": 2,
     "metadata": {},
     "output_type": "execute_result"
    }
   ],
   "source": [
    "mygame.user('gandhi')"
   ]
  },
  {
   "cell_type": "code",
   "execution_count": 3,
   "metadata": {},
   "outputs": [
    {
     "name": "stdout",
     "output_type": "stream",
     "text": [
      "* * * * * * * * * * "
     ]
    },
    {
     "data": {
      "text/plain": [
       "'Thank you'"
      ]
     },
     "execution_count": 3,
     "metadata": {},
     "output_type": "execute_result"
    }
   ],
   "source": [
    "mygame.end()"
   ]
  },
  {
   "cell_type": "markdown",
   "metadata": {},
   "source": [
    "#### os"
   ]
  },
  {
   "cell_type": "code",
   "execution_count": 15,
   "metadata": {},
   "outputs": [],
   "source": [
    "import os"
   ]
  },
  {
   "cell_type": "markdown",
   "metadata": {},
   "source": [
    "### getcwd() prints current working directry"
   ]
  },
  {
   "cell_type": "code",
   "execution_count": 5,
   "metadata": {},
   "outputs": [
    {
     "data": {
      "text/plain": [
       "'C:\\\\Users\\\\pc11\\\\Desktop\\\\mstp\\\\gandhi111'"
      ]
     },
     "execution_count": 5,
     "metadata": {},
     "output_type": "execute_result"
    }
   ],
   "source": [
    "os.getcwd()"
   ]
  },
  {
   "cell_type": "markdown",
   "metadata": {},
   "source": [
    "### listdir() returns the files in the directory as list"
   ]
  },
  {
   "cell_type": "code",
   "execution_count": 6,
   "metadata": {},
   "outputs": [
    {
     "data": {
      "text/plain": [
       "['.ipynb_checkpoints',\n",
       " '26-August-2019.ipynb',\n",
       " '27-August-2019.ipynb',\n",
       " '3-september2019.ipynb',\n",
       " '30-Auguest-2019.ipynb',\n",
       " '31Augest2019.ipynb',\n",
       " '4-september-2019.ipynb',\n",
       " '5-September-2019.ipynb',\n",
       " '6-sep-2019.ipynb',\n",
       " '7-september-2019.ipynb',\n",
       " 'calmod.py',\n",
       " 'game',\n",
       " 'gandhi.txt',\n",
       " 'gandhi1.txt',\n",
       " 'images.png',\n",
       " 'jupyter.png',\n",
       " 'marks.txt',\n",
       " 'modular.ipynb',\n",
       " 'mymod.py',\n",
       " 'newranking.txt',\n",
       " 'result.txt',\n",
       " 'task - 5-september-2019.ipynb',\n",
       " 'Task.ipynb',\n",
       " 'total',\n",
       " 'Untitled.ipynb',\n",
       " '__pycache__']"
      ]
     },
     "execution_count": 6,
     "metadata": {},
     "output_type": "execute_result"
    }
   ],
   "source": [
    "os.listdir()"
   ]
  },
  {
   "cell_type": "markdown",
   "metadata": {},
   "source": [
    "### rename(oldname,newname) renames file is presents"
   ]
  },
  {
   "cell_type": "code",
   "execution_count": 8,
   "metadata": {},
   "outputs": [],
   "source": [
    "os.rename('newranking.txt','ranking.txt')"
   ]
  },
  {
   "cell_type": "markdown",
   "metadata": {},
   "source": [
    "### rmdir('folder name')  removes folder name removes only empty folder"
   ]
  },
  {
   "cell_type": "code",
   "execution_count": 19,
   "metadata": {},
   "outputs": [],
   "source": [
    "os.rmdir('hi hello')"
   ]
  },
  {
   "cell_type": "code",
   "execution_count": 20,
   "metadata": {},
   "outputs": [
    {
     "ename": "OSError",
     "evalue": "[WinError 145] The directory is not empty: 'Untitled Folder'",
     "output_type": "error",
     "traceback": [
      "\u001b[1;31m---------------------------------------------------------------------------\u001b[0m",
      "\u001b[1;31mOSError\u001b[0m                                   Traceback (most recent call last)",
      "\u001b[1;32m<ipython-input-20-c2a5c4403101>\u001b[0m in \u001b[0;36m<module>\u001b[1;34m\u001b[0m\n\u001b[1;32m----> 1\u001b[1;33m \u001b[0mos\u001b[0m\u001b[1;33m.\u001b[0m\u001b[0mrmdir\u001b[0m\u001b[1;33m(\u001b[0m\u001b[1;34m'Untitled Folder'\u001b[0m\u001b[1;33m)\u001b[0m\u001b[1;33m\u001b[0m\u001b[1;33m\u001b[0m\u001b[0m\n\u001b[0m",
      "\u001b[1;31mOSError\u001b[0m: [WinError 145] The directory is not empty: 'Untitled Folder'"
     ]
    }
   ],
   "source": [
    "os.rmdir('Untitled Folder')"
   ]
  },
  {
   "cell_type": "code",
   "execution_count": 21,
   "metadata": {},
   "outputs": [],
   "source": [
    "import shutil"
   ]
  },
  {
   "cell_type": "code",
   "execution_count": 22,
   "metadata": {},
   "outputs": [],
   "source": [
    "shutil.rmtree('Untitled Folder')"
   ]
  },
  {
   "cell_type": "code",
   "execution_count": 24,
   "metadata": {},
   "outputs": [],
   "source": [
    "k = bin(1)"
   ]
  },
  {
   "cell_type": "code",
   "execution_count": 26,
   "metadata": {},
   "outputs": [
    {
     "data": {
      "text/plain": [
       "1"
      ]
     },
     "execution_count": 26,
     "metadata": {},
     "output_type": "execute_result"
    }
   ],
   "source": [
    "len(k[2:])"
   ]
  },
  {
   "cell_type": "code",
   "execution_count": 29,
   "metadata": {},
   "outputs": [
    {
     "data": {
      "text/plain": [
       "'notes.txt'"
      ]
     },
     "execution_count": 29,
     "metadata": {},
     "output_type": "execute_result"
    }
   ],
   "source": [
    "shutil.copyfile('4-12gandhi.txt','notes.txt')"
   ]
  },
  {
   "cell_type": "code",
   "execution_count": 38,
   "metadata": {},
   "outputs": [
    {
     "data": {
      "text/plain": [
       "True"
      ]
     },
     "execution_count": 38,
     "metadata": {},
     "output_type": "execute_result"
    }
   ],
   "source": [
    "os.path.isfile('untitled.txt')\n"
   ]
  },
  {
   "cell_type": "code",
   "execution_count": 3,
   "metadata": {},
   "outputs": [],
   "source": [
    "k=\"\"\"kCeYamOYCSOgOCaYCeaa\n",
    "qOOOgCCaCSgImqCSaaOI\n",
    "CYOSgCCSqCqqmkOIOCmG\n",
    "CgqYSqqCIqSCmGCICCSm\n",
    "qCCqSqqSGCmegCgqCOaq\n",
    "kqOCmqCSYOOGqCmCeIGC\n",
    "SGqCCqICCaIOIgCCIkCC\n",
    "COeCSCYOeCgmkGqeCSIq\n",
    "YeIgkCSSCkSaqOSCqOSC\n",
    "qCCqCqqeSaCmCCYqCqIS\n",
    "OOeqGgOCSCkmqgSYCCaO\n",
    "CkqqqCCqkqgkqqqIqeIO\n",
    "OmCCmkOCSISCgCaOqCaS\n",
    "kCIYgqIIkqaqqOeaCSqC\n",
    "OCYqYCIYkIOqCOCqkCCq\n",
    "ICCgCqYCqYqCSISOeCkY\n",
    "kgGOqeqqIYeqmCkSOGaC\n",
    "SgqGqqSOkeYYYGqCCIqC\n",
    "CCSCCgGeYCqqmSYkImIq\n",
    "gOOqSCqSqqYOCqCCCaCq\n",
    "CqCeqCOYYCkCOggCOqCe\n",
    "CCGqOCkGqaOGqSCCYeqq\n",
    "SgkqqkSCqIgGmeqCSkSC\n",
    "IIqkCGIqgmaOGqqSmqCm\n",
    "qekCqCIkqgYeCCISSqkY\n",
    "mekSqOaGqCISCemOqIqq\n",
    "qCGSkSqOekCmCeqqqYSe\n",
    "CCmaqqeOCOYmkqaCYqCk\n",
    "aCmeCCeCqqmIYCYGqYCY\n",
    "OCCCSOqOYqgaICYkCeqq\n",
    "CCaeICqqYgCeGggCImCk\n",
    "SCYSqYgkqmIqCqOqSqCO\n",
    "gqmqaSeqYCCqqOgkSOGS\n",
    "IgSSYqqSSCCqGqCYmkqg\n",
    "YOmqCYIOGIqkYqOqYgCO\n",
    "qCqagSqqkqqYqCIGkCge\n",
    "OSkgCqCGSOCYkCmIYIeS\n",
    "CCSGCqCCekgeCeSgeqSS\n",
    "SYCCYCICqOaqCCqOkGGC\n",
    "OgCaSOkCaGCmCmagCkqk\n",
    "CCISeISqqSeqeIqYGGae\n",
    "aCICqaYqqqkeeGaOqOSq\n",
    "GSCaCOeqOCqGCqeGqqYS\n",
    "CSCkggOSYOqCmGGCOCCS\n",
    "GYCCSqCaICOmGSqCOCIS\n",
    "CCCOIkYaCSYqaqqCGgaI\n",
    "CCaqaqCggGqSqSOYmkCS\n",
    "CqGCqCqqeqgmeCCeSYIC\n",
    "qgqIqgCCaCIYkqkCqYCa\n",
    "qamIqCCCqSaqCOeSIqGC\"\"\""
   ]
  },
  {
   "cell_type": "code",
   "execution_count": 2,
   "metadata": {},
   "outputs": [],
   "source": [
    "k1=\"\"\"kCeYamOYCSOgOCaYCeaa\n",
    "qOOOgCCaCSgImqCSaaOI\n",
    "CYOSgCCSqCqqmkOIOCmG\n",
    "CgqYSqqCIqSCmG5ICCSm\n",
    "qCCqSqqSGCmeg5gq5Oaq\n",
    "kqOCmqCSYOOGqCmCeIGC\n",
    "SGqCCqICCaIOIgCCIkCC\n",
    "COeCSCYOeCgmkGqe5SIq\n",
    "YeIgkCSSCkSaqOSCqOSC\n",
    "qCCqCqqeSaCmC5YqCqIS\n",
    "OOeqGgOCSCkmqgSYCCaO\n",
    "CkqqqCCqkqgkqqqIqeIO\n",
    "OmCCmkOCSISCgCaOqCaS\n",
    "kCIYgqIIkqaqqOeaCSqC\n",
    "OCYqYCIYkIOqCOCqkCCq\n",
    "ICCgCqYCqYqCSISOeCkY\n",
    "kgGOqeqqIYeqmCkSOGaC\n",
    "SgqGqqSOkeYYYGqCCIqC\n",
    "C5SCCgGeYCqqmSYkImIq\n",
    "gOOqSCqSqqYOCqCCCaCq\n",
    "CqCeq5OYYCkCOggCOqCe\n",
    "CCGqOCkGqaOGqSCCYeqq\n",
    "SgkqqkSCqIgGmeqCSkSC\n",
    "IIqkCGIqgmaOGqqSmqCm\n",
    "qekCqCIkqgYeCCISSqkY\n",
    "mekSqOaGqCISCemOqIqq\n",
    "qCGSkSqOekCmCeqqqYSe\n",
    "CCmaqqeOCOYmkqaCYqCk\n",
    "aCme5CeCqqmIYCYGqYCY\n",
    "OCCCSOqOYqgaICYkCeqq\n",
    "CCaeICqqYgCeGggCImCk\n",
    "SCYSqYgkqmIqCqOqSq5O\n",
    "gqmqaSeqYCCqqOgkSOGS\n",
    "IgSSYqqSSCCqGqCYmkqg\n",
    "YOmqCYIOGIqkYqOqYgCO\n",
    "qCqagSqqkqqYqCIGkCge\n",
    "OSkgCqCGSO5YkCmIYIeS\n",
    "CCSGCqCCekge5eSgeqSS\n",
    "SYCCYCICqOaqCCqOkGGC\n",
    "OgCaSOkCaGCmCmag5kqk\n",
    "CCISeISqqSeqeIqYGGae\n",
    "aCICqaYqqqkeeGaOqOSq\n",
    "GSCaCOeqOCqGCqeGqqYS\n",
    "CSCkggOSYOqCmGGCOCCS\n",
    "GYCCSqCaICOmGSqCOCIS\n",
    "CCCOIkYaCSYqaqqCGgaI\n",
    "CCaqaqCggGqSqSOYmkCS\n",
    "CqG5qCqqeqgmeCCeSYI5\n",
    "qgqIqgCCaCIYkqkCqYCa\n",
    "qamIqCCCqSaqCOeSIqGC\"\"\""
   ]
  },
  {
   "cell_type": "code",
   "execution_count": 7,
   "metadata": {},
   "outputs": [
    {
     "name": "stdout",
     "output_type": "stream",
     "text": [
      "5 C\n",
      "5 C\n",
      "5 C\n",
      "5 C\n",
      "5 C\n",
      "5 C\n",
      "5 C\n",
      "5 C\n",
      "5 C\n",
      "5 C\n",
      "5 C\n",
      "5 C\n",
      "5 C\n",
      "5 C\n"
     ]
    }
   ],
   "source": [
    "for i in range(len(k)):\n",
    "    if k1[i]!=k[i]:\n",
    "        print(k1[i],k[i])"
   ]
  },
  {
   "cell_type": "code",
   "execution_count": 9,
   "metadata": {},
   "outputs": [
    {
     "data": {
      "text/plain": [
       "53"
      ]
     },
     "execution_count": 9,
     "metadata": {},
     "output_type": "execute_result"
    }
   ],
   "source": [
    "ord('5')"
   ]
  },
  {
   "cell_type": "code",
   "execution_count": null,
   "metadata": {},
   "outputs": [],
   "source": []
  }
 ],
 "metadata": {
  "kernelspec": {
   "display_name": "Python 3",
   "language": "python",
   "name": "python3"
  },
  "language_info": {
   "codemirror_mode": {
    "name": "ipython",
    "version": 3
   },
   "file_extension": ".py",
   "mimetype": "text/x-python",
   "name": "python",
   "nbconvert_exporter": "python",
   "pygments_lexer": "ipython3",
   "version": "3.7.3"
  }
 },
 "nbformat": 4,
 "nbformat_minor": 2
}
