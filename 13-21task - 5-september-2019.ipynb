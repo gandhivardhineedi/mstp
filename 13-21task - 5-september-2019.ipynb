{
 "cells": [
  {
   "cell_type": "code",
   "execution_count": null,
   "metadata": {},
   "outputs": [],
   "source": [
    "fh = open('gandhi.txt','r')\n",
    "fh1 = open('gandhi1.txt','w')\n",
    "data = fh.read()\n",
    "fh1.write(data)\n",
    "fh.close()\n",
    "fh1.close()"
   ]
  },
  {
   "cell_type": "markdown",
   "metadata": {},
   "source": [
    "## find number of line in book.txt flie"
   ]
  },
  {
   "cell_type": "code",
   "execution_count": null,
   "metadata": {},
   "outputs": [],
   "source": [
    "fh = open('gandhi.txt','r')\n",
    "count = 0\n",
    "for i in fh:\n",
    "    count+=1\n",
    "print(count)\n",
    "fh.close()"
   ]
  },
  {
   "cell_type": "markdown",
   "metadata": {},
   "source": [
    "## print 3rd line in the file"
   ]
  },
  {
   "cell_type": "code",
   "execution_count": null,
   "metadata": {},
   "outputs": [],
   "source": [
    "fh = open('gandhi.txt','r')\n",
    "count = 0\n",
    "for i in fh:\n",
    "    count+=1\n",
    "    if(count==3):\n",
    "        print(i)\n",
    "        break\n",
    "fh.close()"
   ]
  },
  {
   "cell_type": "markdown",
   "metadata": {},
   "source": [
    "## print last charecter in the 3 rd line"
   ]
  },
  {
   "cell_type": "code",
   "execution_count": null,
   "metadata": {},
   "outputs": [],
   "source": [
    "fh = open('gandhi.txt','r')\n",
    "count = 0\n",
    "for i in fh:\n",
    "    count+=1\n",
    "    if(count==3):\n",
    "        print(i[-2])\n",
    "        break\n",
    "fh.close()"
   ]
  },
  {
   "cell_type": "markdown",
   "metadata": {},
   "source": [
    "## create function to return the data of given line number"
   ]
  },
  {
   "cell_type": "code",
   "execution_count": null,
   "metadata": {},
   "outputs": [],
   "source": [
    "def getdata(filename,line):\n",
    "    fh = open(filename,'r')\n",
    "    count = 0\n",
    "    n = line\n",
    "    for i in fh:\n",
    "        count+=1\n",
    "        if(count==n):\n",
    "            data = i\n",
    "            count=0\n",
    "            break\n",
    "    fh.close()\n",
    "    if(count):\n",
    "        return -1\n",
    "    return data"
   ]
  },
  {
   "cell_type": "markdown",
   "metadata": {},
   "source": [
    "### create function  to find the charecters in file"
   ]
  },
  {
   "cell_type": "code",
   "execution_count": null,
   "metadata": {},
   "outputs": [],
   "source": [
    "def getcount(filename):\n",
    "    fh= open(filename,'r')\n",
    "    count = 0\n",
    "    for i in fh:\n",
    "        count+=len(i)\n",
    "    fh.close()\n",
    "    return count"
   ]
  },
  {
   "cell_type": "markdown",
   "metadata": {},
   "source": [
    "## create function to find the count of occurance of the given character"
   ]
  },
  {
   "cell_type": "code",
   "execution_count": null,
   "metadata": {},
   "outputs": [],
   "source": [
    "def getcharcount(filename,ch):\n",
    "    fh = open(filename,'r')\n",
    "    count =0\n",
    "    for i in fh:\n",
    "        for j in i:\n",
    "            if(j==ch):\n",
    "                count+=1\n",
    "    fh.close()\n",
    "    return count"
   ]
  },
  {
   "cell_type": "markdown",
   "metadata": {},
   "source": [
    "## create function to findthe sum of digits in file"
   ]
  },
  {
   "cell_type": "code",
   "execution_count": null,
   "metadata": {},
   "outputs": [],
   "source": [
    "def getdigitsum(filename):\n",
    "    fh = open(filename,'r')\n",
    "    sum = 0\n",
    "    for i in fh:\n",
    "        for j in i:\n",
    "            if j.isdigit():\n",
    "                sum+=int(j)\n",
    "    fh.close()\n",
    "    return sum"
   ]
  },
  {
   "cell_type": "markdown",
   "metadata": {},
   "source": [
    "## create function to replace the old words with new word in file"
   ]
  },
  {
   "cell_type": "code",
   "execution_count": null,
   "metadata": {},
   "outputs": [],
   "source": [
    "'sairam'.replace('sai','ram')"
   ]
  },
  {
   "cell_type": "code",
   "execution_count": null,
   "metadata": {},
   "outputs": [],
   "source": [
    "def find_replace(filename,f,r):\n",
    "    fh = open(filename,'r')\n",
    "    data = fh.read()\n",
    "    fh.close()\n",
    "    fh = open(filename,'w')\n",
    "    fh.write(data.replace(f,r))\n",
    "    fh.close()\n"
   ]
  },
  {
   "cell_type": "markdown",
   "metadata": {},
   "source": [
    "## create a function "
   ]
  },
  {
   "cell_type": "code",
   "execution_count": null,
   "metadata": {},
   "outputs": [],
   "source": [
    "print(\"gandhi\")"
   ]
  },
  {
   "cell_type": "markdown",
   "metadata": {},
   "source": [
    " ###       گاندھی۔ "
   ]
  },
  {
   "cell_type": "code",
   "execution_count": null,
   "metadata": {},
   "outputs": [],
   "source": [
    "def find(filename,f): ## find a word in file\n",
    "    fh = open(filename,'r')\n",
    "    for i in fh:\n",
    "        if f in i:\n",
    "            return True\n",
    "    fh.close()\n",
    "    return False\n",
    "    fh.close()"
   ]
  },
  {
   "cell_type": "code",
   "execution_count": null,
   "metadata": {},
   "outputs": [],
   "source": [
    "def remove_line(filename,n):\n",
    "    fh = open(filename,'r')\n",
    "    data = fh.read()\n",
    "    fh.close()\n",
    "    count = 0\n",
    "    data = data.split('\\n')\n",
    "    data1 = []\n",
    "    for i in data:\n",
    "        count+=1\n",
    "        if(count==n):\n",
    "            continue\n",
    "        data1.append(i)\n",
    "    data = '\\n'.join(data1)\n",
    "    fh = open(filename,'w')\n",
    "    fh.write(data)\n",
    "    fh.close()\n",
    "    "
   ]
  },
  {
   "cell_type": "code",
   "execution_count": null,
   "metadata": {},
   "outputs": [],
   "source": [
    "remove_line('gandhi.txt',3)"
   ]
  },
  {
   "cell_type": "markdown",
   "metadata": {},
   "source": [
    "## create function to remove the give word in the file"
   ]
  },
  {
   "cell_type": "code",
   "execution_count": null,
   "metadata": {},
   "outputs": [],
   "source": [
    "def find_delete(filename,f):\n",
    "    fh = open(filename,'r')\n",
    "    data = fh.read()\n",
    "    fh.close()\n",
    "    fh = open(filename,'w')\n",
    "    fh.write(data.replace(f,''))\n",
    "    fh.close()"
   ]
  },
  {
   "cell_type": "code",
   "execution_count": null,
   "metadata": {},
   "outputs": [],
   "source": [
    "print(getcharcount('gandhi.txt','l'))"
   ]
  },
  {
   "cell_type": "code",
   "execution_count": null,
   "metadata": {},
   "outputs": [],
   "source": [
    "print(getcount('gandhi.txt'))"
   ]
  },
  {
   "cell_type": "code",
   "execution_count": null,
   "metadata": {},
   "outputs": [],
   "source": [
    "print(getdigitsum('gandhi.txt'))"
   ]
  },
  {
   "cell_type": "code",
   "execution_count": null,
   "metadata": {},
   "outputs": [],
   "source": [
    "find_replace('gandhi.txt','hello','line')"
   ]
  },
  {
   "cell_type": "code",
   "execution_count": null,
   "metadata": {},
   "outputs": [],
   "source": [
    "print(find('gandhi.txt','hello'))"
   ]
  },
  {
   "cell_type": "code",
   "execution_count": null,
   "metadata": {},
   "outputs": [],
   "source": [
    "find_delete('gandhi.txt','line')"
   ]
  },
  {
   "cell_type": "code",
   "execution_count": null,
   "metadata": {},
   "outputs": [],
   "source": [
    "fh = open('marks.txt','r')\n",
    "fh.readline()\n",
    "data = fh.read()\n",
    "fh.close()"
   ]
  },
  {
   "cell_type": "code",
   "execution_count": null,
   "metadata": {},
   "outputs": [],
   "source": [
    "print(data)"
   ]
  },
  {
   "cell_type": "code",
   "execution_count": null,
   "metadata": {},
   "outputs": [],
   "source": [
    "data = data.split('\\n')"
   ]
  },
  {
   "cell_type": "code",
   "execution_count": null,
   "metadata": {},
   "outputs": [],
   "source": [
    "data"
   ]
  },
  {
   "cell_type": "code",
   "execution_count": null,
   "metadata": {},
   "outputs": [],
   "source": [
    "subdata = []\n",
    "for i in data:\n",
    "    subdata.append(i.split())\n",
    "    "
   ]
  },
  {
   "cell_type": "code",
   "execution_count": null,
   "metadata": {},
   "outputs": [],
   "source": [
    "subdata"
   ]
  },
  {
   "cell_type": "code",
   "execution_count": null,
   "metadata": {},
   "outputs": [],
   "source": [
    "marks = []\n",
    "for i in subdata:\n",
    "    sum = 0\n",
    "    for j in i:\n",
    "        if j.isdigit():\n",
    "            sum += int(j)\n",
    "    marks.append(sum)"
   ]
  },
  {
   "cell_type": "code",
   "execution_count": null,
   "metadata": {},
   "outputs": [],
   "source": [
    "marks"
   ]
  },
  {
   "cell_type": "code",
   "execution_count": null,
   "metadata": {},
   "outputs": [],
   "source": [
    "for i in range(len(data)):\n",
    "    subdata[i].append(str(marks[i]))\n",
    "    "
   ]
  },
  {
   "cell_type": "code",
   "execution_count": null,
   "metadata": {},
   "outputs": [],
   "source": [
    "subdata"
   ]
  },
  {
   "cell_type": "code",
   "execution_count": null,
   "metadata": {},
   "outputs": [],
   "source": [
    "for i in range(len(data)):\n",
    "    subdata[i]='    '.join(subdata[i])"
   ]
  },
  {
   "cell_type": "code",
   "execution_count": null,
   "metadata": {},
   "outputs": [],
   "source": [
    "subdata"
   ]
  },
  {
   "cell_type": "code",
   "execution_count": null,
   "metadata": {},
   "outputs": [],
   "source": [
    "data = '\\n'.join(subdata)"
   ]
  },
  {
   "cell_type": "code",
   "execution_count": null,
   "metadata": {},
   "outputs": [],
   "source": [
    "data"
   ]
  },
  {
   "cell_type": "code",
   "execution_count": null,
   "metadata": {},
   "outputs": [],
   "source": [
    "print(data)"
   ]
  },
  {
   "cell_type": "code",
   "execution_count": null,
   "metadata": {},
   "outputs": [],
   "source": [
    "fh = open('total','w')\n",
    "fh.write('rno   name   english   maths   total\\n')\n",
    "fh.write(data)\n",
    "fh.close()\n"
   ]
  },
  {
   "cell_type": "code",
   "execution_count": null,
   "metadata": {},
   "outputs": [],
   "source": [
    "fh = open('marks.txt','r')\n",
    "fh.readline()\n",
    "data = fh.read()\n",
    "fh.close()\n",
    "data = data.split('\\n')\n",
    "subdata = []\n",
    "for i in data:\n",
    "    subdata.append(i.split())\n",
    "marks = []\n",
    "for i in subdata:\n",
    "    sum = 0\n",
    "    for j in i:\n",
    "        if j.isdigit():\n",
    "            sum += int(j)\n",
    "    marks.append(sum)\n",
    "for i in range(len(data)):\n",
    "    subdata[i].append(str(marks[i]))\n",
    "for i in range(len(data)):\n",
    "    subdata[i]='    '.join(subdata[i])\n",
    "data = '\\n'.join(subdata)\n",
    "fh = open('total','w')\n",
    "fh.write('rno   name   english   maths   total\\n')\n",
    "fh.write(data)\n",
    "fh.close()"
   ]
  },
  {
   "cell_type": "code",
   "execution_count": null,
   "metadata": {},
   "outputs": [],
   "source": [
    "ord('A')"
   ]
  },
  {
   "cell_type": "code",
   "execution_count": null,
   "metadata": {},
   "outputs": [],
   "source": [
    "n='k5eYamOY5SOgO;aY;eaa'\n",
    "n1='kCeYamOYCSOgOCaYCeaa'\n",
    "for i in range(len(n)):\n",
    "    if n[i]!=n1[i]:\n",
    "        print(n[i],n1[i])"
   ]
  },
  {
   "cell_type": "code",
   "execution_count": null,
   "metadata": {},
   "outputs": [],
   "source": [
    "def isprime(n):\n",
    "    i=2\n",
    "    if n==0 or n==1:\n",
    "        return False\n",
    "    while(i<=(n+1)//2):\n",
    "        if(n%i==0):\n",
    "            return False\n",
    "        i+=1\n",
    "    return True\n",
    "    \n",
    "def get(k):\n",
    "    i =k\n",
    "    j=k\n",
    "    while(k>=65 and k<=90):\n",
    "        j+=1\n",
    "        i-=1\n",
    "        if isprime(i)and i>=65:\n",
    "            return i\n",
    "        if isprime(j)and j<=90:\n",
    "            return(j)\n",
    "    \n",
    "    while(k>=97 and k<=123):\n",
    "        j+=1\n",
    "        i-=1\n",
    "        if isprime(i)and i>=97:\n",
    "            return i\n",
    "        if isprime(j)and j<=123:\n",
    "            return(j)\n",
    "    while(k>=48 and k<=57):\n",
    "        j+=1\n",
    "        i-=1\n",
    "        if isprime(i)and i>=97:\n",
    "            return i\n",
    "        if isprime(j)and j<=123:\n",
    "            return(j)\n",
    "    return k\n",
    "test = int(input())\n",
    "for i in range(test):\n",
    "    t=[]\n",
    "    l = int(input())\n",
    "    st = input()\n",
    "    if(l == len(st)):\n",
    "        for j in range(l):\n",
    "            k=ord(st[j])\n",
    "            if(isprime(k)):\n",
    "                t.append(st[j])\n",
    "            else:\n",
    "                k = get(k)\n",
    "                ch = chr(k)\n",
    "                t.append(ch)\n",
    "    print(str(''.join(t)))"
   ]
  },
  {
   "cell_type": "code",
   "execution_count": null,
   "metadata": {},
   "outputs": [],
   "source": [
    "k2=['kCeYamOYCSOgOCaYCeaa\n",
    "qOOOgCCaCSgImqCSaaOI\n",
    "CYOSgCCSqCqqmkOIOCmG\n",
    "CgqYSqqCIqSCmGCICCSm\n",
    "qCCqSqqSGCmegCgqCOaq\n",
    "kqOCmqCSYOOGqCmCeIGC\n",
    "SGqCCqICCaIOIgCCIkCC\n",
    "COeCSCYOeCgmkGqeCSIq\n",
    "YeIgkCSSCkSaqOSCqOSC\n",
    "qCCqCqqeSaCmCCYqCqIS\n",
    "OOeqGgOCSCkmqgSYCCaO\n",
    "CkqqqCCqkqgkqqqIqeIO\n",
    "OmCCmkOCSISCgCaOqCaS\n",
    "kCIYgqIIkqaqqOeaCSqC\n",
    "OCYqYCIYkIOqCOCqkCCq\n",
    "ICCgCqYCqYqCSISOeCkY\n",
    "kgGOqeqqIYeqmCkSOGaC\n",
    "SgqGqqSOkeYYYGqCCIqC\n",
    "CCSCCgGeYCqqmSYkImIq\n",
    "gOOqSCqSqqYOCqCCCaCq\n",
    "CqCeqCOYYCkCOggCOqCe\n",
    "CCGqOCkGqaOGqSCCYeqq',\n",
    "'SgkqqkSCqIgGmeqCSkSC',\n",
    "'IIqkCGIqgmaOGqqSmqCm',\n",
    "'qekCqCIkqgYeCCISSqkY',\n",
    "'mekSqOaGqCISCemOqIqq',\n",
    "'qCGSkSqOekCmCeqqqYSe',\n",
    "'CCmaqqeOCOYmkqaCYqCk',\n",
    "'aCmeCCeCqqmIYCYGqYCY',\n",
    "'OCCCSOqOYqgaICYkCeqq',\n",
    "'CCaeICqqYgCeGggCImCk',\n",
    "'SCYSqYgkqmIqCqOqSqCO',\n",
    "'gqmqaSeqYCCqqOgkSOGS',\n",
    "'IgSSYqqSSCCqGqCYmkqg',\n",
    "'YOmqCYIOGIqkYqOqYgCO',\n",
    "'qCqagSqqkqqYqCIGkCge',\n",
    "'OSkgCqCGSOCYkCmIYIeS',\n",
    "'CCSGCqCCekgeCeSgeqSS',\n",
    "'SYCCYCICqOaqCCqOkGGC',\n",
    "'OgCaSOkCaGCmCmagCkqk',\n",
    "'CCISeISqqSeqeIqYGGae',\n",
    "'aCICqaYqqqkeeGaOqOSq',\n",
    "'GSCaCOeqOCqGCqeGqqYS',\n",
    "'CSCkggOSYOqCmGGCOCCS',\n",
    "'GYCCSqCaICOmGSqCOCIS',\n",
    "'CCCOIkYaCSYqaqqCGgaI',\n",
    "'CCaqaqCggGqSqSOYmkCS',\n",
    "'CqGCqCqqeqgmeCCeSYIC',\n",
    "'qgqIqgCCaCIYkqkCqYCa',\n",
    "'qamIqCCCqSaqCOeSIqGC']"
   ]
  },
  {
   "cell_type": "code",
   "execution_count": null,
   "metadata": {},
   "outputs": [],
   "source": [
    "kCeYamOYCSOgOCaYCeaa\n",
    "qOOOgCCaCSgImqCSaaOI\n",
    "CYOSgCCSqCqqmkOIOCmG\n",
    "CgqYSqqCIqSCmG5ICCSm\n",
    "qCCqSqqSGCmeg5gq5Oaq\n",
    "kqOCmqCSYOOGqCmCeIGC\n",
    "SGqCCqICCaIOIgCCIkCC\n",
    "COeCSCYOeCgmkGqe5SIq\n",
    "YeIgkCSSCkSaqOSCqOSC\n",
    "qCCqCqqeSaCmC5YqCqIS\n",
    "OOeqGgOCSCkmqgSYCCaO\n",
    "CkqqqCCqkqgkqqqIqeIO\n",
    "OmCCmkOCSISCgCaOqCaS\n",
    "kCIYgqIIkqaqqOeaCSqC\n",
    "OCYqYCIYkIOqCOCqkCCq\n",
    "ICCgCqYCqYqCSISOeCkY\n",
    "kgGOqeqqIYeqmCkSOGaC\n",
    "SgqGqqSOkeYYYGqCCIqC\n",
    "C5SCCgGeYCqqmSYkImIq\n",
    "gOOqSCqSqqYOCqCCCaCq\n",
    "CqCeq5OYYCkCOggCOqCe\n",
    "CCGqOCkGqaOGqSCCYeqq\n",
    "SgkqqkSCqIgGmeqCSkSC\n",
    "IIqkCGIqgmaOGqqSmqCm\n",
    "qekCqCIkqgYeCCISSqkY\n",
    "mekSqOaGqCISCemOqIqq\n",
    "qCGSkSqOekCmCeqqqYSe\n",
    "CCmaqqeOCOYmkqaCYqCk\n",
    "aCme5CeCqqmIYCYGqYCY\n",
    "OCCCSOqOYqgaICYkCeqq\n",
    "CCaeICqqYgCeGggCImCk\n",
    "SCYSqYgkqmIqCqOqSq5O\n",
    "gqmqaSeqYCCqqOgkSOGS\n",
    "IgSSYqqSSCCqGqCYmkqg\n",
    "YOmqCYIOGIqkYqOqYgCO\n",
    "qCqagSqqkqqYqCIGkCge\n",
    "OSkgCqCGSO5YkCmIYIeS\n",
    "CCSGCqCCekge5eSgeqSS\n",
    "SYCCYCICqOaqCCqOkGGC\n",
    "OgCaSOkCaGCmCmag5kqk\n",
    "CCISeISqqSeqeIqYGGae\n",
    "aCICqaYqqqkeeGaOqOSq\n",
    "GSCaCOeqOCqGCqeGqqYS\n",
    "CSCkggOSYOqCmGGCOCCS\n",
    "GYCCSqCaICOmGSqCOCIS\n",
    "CCCOIkYaCSYqaqqCGgaI\n",
    "CCaqaqCggGqSqSOYmkCS\n",
    "CqG5qCqqeqgmeCCeSYI5\n",
    "qgqIqgCCaCIYkqkCqYCa\n",
    "qamIqCCCqSaqCOeSIqGC"
   ]
  },
  {
   "cell_type": "code",
   "execution_count": 1,
   "metadata": {},
   "outputs": [],
   "source": [
    "fh_i =open('marks.txt','r')\n",
    "fh_o = open('result.txt','w')\n",
    "count = 0\n",
    "for line in fh_i:\n",
    "    count +=1\n",
    "    if(count==1):\n",
    "        fh_o.write(line.strip()+'\\ttotal\\n')\n",
    "    else:\n",
    "        marks_list = line.strip().split()[2:]\n",
    "        newMarks = []\n",
    "        for i in marks_list:\n",
    "            newMarks.append(int(i))\n",
    "        total_marks = sum(newMarks)\n",
    "        fh_o.write(line.strip()+'\\t'+str(total_marks)+'\\n')\n",
    "fh_i.close()\n",
    "fh_o.close()"
   ]
  },
  {
   "cell_type": "code",
   "execution_count": 68,
   "metadata": {},
   "outputs": [],
   "source": [
    "fhi = open('result.txt','r')\n",
    "fho = open('ranking.txt','w')\n",
    "maxs = 0\n",
    "count = 0\n",
    "t = []\n",
    "for i in fhi:\n",
    "    count+=1\n",
    "    if (count==1):\n",
    "        fho.write(i.strip()+'\\n')\n",
    "    else:\n",
    "        t.append((i.strip().split()))\n",
    "t.sort(key=lambda x: int(x[-1]),reverse=True)\n",
    "for i in range(len(t)):\n",
    "    t[i]='\\t'.join(t[i])\n",
    "t = '\\n'.join(t)\n",
    "fho.write(t)\n",
    "fhi.close()\n",
    "fho.close()\n"
   ]
  },
  {
   "cell_type": "code",
   "execution_count": 43,
   "metadata": {},
   "outputs": [],
   "source": [
    "fhi = open('result.txt','r')\n",
    "fho = open('ranking.txt','w')\n",
    "maxs = 0\n",
    "count = 0\n",
    "t = []\n",
    "for i in fhi:\n",
    "    count+=1\n",
    "    if (count==1):\n",
    "        fho.write(i.strip()+'\\n')\n",
    "    else:\n",
    "        t.append((i.strip().split()))\n",
    "for i in t:\n",
    "    i[2]=int(i[2])\n",
    "t.sort(key=lambda x: x[2] ,reverse=True)\n",
    "for i in t:\n",
    "    i[2]=str(i[2])\n",
    "for i in range(len(t)):\n",
    "    t[i]='\\t'.join(t[i])\n",
    "t = '\\n'.join(t)\n",
    "fho.write(t)\n",
    "fhi.close()\n",
    "fho.close()\n"
   ]
  },
  {
   "cell_type": "code",
   "execution_count": 35,
   "metadata": {},
   "outputs": [],
   "source": [
    "k = [[1,2,3],[1,2,3],[1,2,3]]"
   ]
  },
  {
   "cell_type": "code",
   "execution_count": 36,
   "metadata": {},
   "outputs": [
    {
     "data": {
      "text/plain": [
       "3"
      ]
     },
     "execution_count": 36,
     "metadata": {},
     "output_type": "execute_result"
    }
   ],
   "source": [
    "k[0][2]"
   ]
  },
  {
   "cell_type": "code",
   "execution_count": 59,
   "metadata": {},
   "outputs": [
    {
     "data": {
      "text/plain": [
       "['00', '01', '10', '11']"
      ]
     },
     "execution_count": 59,
     "metadata": {},
     "output_type": "execute_result"
    }
   ],
   "source": [
    "[str(i)+str(j) for i in range(2) for j in range(2)]"
   ]
  },
  {
   "cell_type": "code",
   "execution_count": 64,
   "metadata": {},
   "outputs": [
    {
     "data": {
      "text/plain": [
       "['000', '001', '010', '011', '100', '101', '110', '111']"
      ]
     },
     "execution_count": 64,
     "metadata": {},
     "output_type": "execute_result"
    }
   ],
   "source": [
    "[str(i)+str(j)+str(k) for i in range(2) for j in range(2) for k in range(2)]"
   ]
  },
  {
   "cell_type": "markdown",
   "metadata": {},
   "source": [
    "### create two digit roll number with numbers 0 and 9"
   ]
  },
  {
   "cell_type": "code",
   "execution_count": 62,
   "metadata": {},
   "outputs": [
    {
     "data": {
      "text/plain": [
       "['00',\n",
       " '01',\n",
       " '02',\n",
       " '03',\n",
       " '04',\n",
       " '05',\n",
       " '06',\n",
       " '07',\n",
       " '08',\n",
       " '09',\n",
       " '10',\n",
       " '11',\n",
       " '12',\n",
       " '13',\n",
       " '14',\n",
       " '15',\n",
       " '16',\n",
       " '17',\n",
       " '18',\n",
       " '19',\n",
       " '20',\n",
       " '21',\n",
       " '22',\n",
       " '23',\n",
       " '24',\n",
       " '25',\n",
       " '26',\n",
       " '27',\n",
       " '28',\n",
       " '29',\n",
       " '30',\n",
       " '31',\n",
       " '32',\n",
       " '33',\n",
       " '34',\n",
       " '35',\n",
       " '36',\n",
       " '37',\n",
       " '38',\n",
       " '39',\n",
       " '40',\n",
       " '41',\n",
       " '42',\n",
       " '43',\n",
       " '44',\n",
       " '45',\n",
       " '46',\n",
       " '47',\n",
       " '48',\n",
       " '49',\n",
       " '50',\n",
       " '51',\n",
       " '52',\n",
       " '53',\n",
       " '54',\n",
       " '55',\n",
       " '56',\n",
       " '57',\n",
       " '58',\n",
       " '59',\n",
       " '60',\n",
       " '61',\n",
       " '62',\n",
       " '63',\n",
       " '64',\n",
       " '65',\n",
       " '66',\n",
       " '67',\n",
       " '68',\n",
       " '69',\n",
       " '70',\n",
       " '71',\n",
       " '72',\n",
       " '73',\n",
       " '74',\n",
       " '75',\n",
       " '76',\n",
       " '77',\n",
       " '78',\n",
       " '79',\n",
       " '80',\n",
       " '81',\n",
       " '82',\n",
       " '83',\n",
       " '84',\n",
       " '85',\n",
       " '86',\n",
       " '87',\n",
       " '88',\n",
       " '89',\n",
       " '90',\n",
       " '91',\n",
       " '92',\n",
       " '93',\n",
       " '94',\n",
       " '95',\n",
       " '96',\n",
       " '97',\n",
       " '98',\n",
       " '99']"
      ]
     },
     "execution_count": 62,
     "metadata": {},
     "output_type": "execute_result"
    }
   ],
   "source": [
    "[str(i)+str(j) for i in range(10) for j in range(10)]"
   ]
  },
  {
   "cell_type": "code",
   "execution_count": 65,
   "metadata": {},
   "outputs": [],
   "source": [
    "a = ['A','B']\n",
    "b = [1,2]"
   ]
  },
  {
   "cell_type": "markdown",
   "metadata": {},
   "source": [
    "## create dictionary for squares of 1 to 10 numbers\n",
    "squares = {1:1,2:4,3:9}"
   ]
  },
  {
   "cell_type": "code",
   "execution_count": 66,
   "metadata": {},
   "outputs": [
    {
     "data": {
      "text/plain": [
       "{1: 1, 2: 4, 3: 9, 4: 16, 5: 25, 6: 36, 7: 49, 8: 64, 9: 81, 10: 100}"
      ]
     },
     "execution_count": 66,
     "metadata": {},
     "output_type": "execute_result"
    }
   ],
   "source": [
    "{i:i*i for i in range(1,11)}"
   ]
  },
  {
   "cell_type": "code",
   "execution_count": null,
   "metadata": {},
   "outputs": [],
   "source": []
  },
  {
   "cell_type": "code",
   "execution_count": null,
   "metadata": {},
   "outputs": [],
   "source": []
  }
 ],
 "metadata": {
  "kernelspec": {
   "display_name": "Python 3",
   "language": "python",
   "name": "python3"
  },
  "language_info": {
   "codemirror_mode": {
    "name": "ipython",
    "version": 3
   },
   "file_extension": ".py",
   "mimetype": "text/x-python",
   "name": "python",
   "nbconvert_exporter": "python",
   "pygments_lexer": "ipython3",
   "version": "3.7.3"
  }
 },
 "nbformat": 4,
 "nbformat_minor": 2
}
