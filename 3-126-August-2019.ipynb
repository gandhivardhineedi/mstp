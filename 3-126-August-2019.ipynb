{
 "cells": [
  {
   "cell_type": "markdown",
   "metadata": {},
   "source": [
    "## PYTHON PROGRAMMING USING  ANNCONDA / JUPITER NOTE BOOK\n",
    "*WELCOME*\n",
    "  **TO**\n",
    "     ***JUPITOR NOTE BOOK***\n",
    "* 26/08/2019\n",
    "    * MORNING SECTION\n",
    "        * introduction to jupiter\n",
    "        \n"
   ]
  },
  {
   "cell_type": "markdown",
   "metadata": {},
   "source": [
    "<img src=\"jupyter.png\" >"
   ]
  },
  {
   "cell_type": "markdown",
   "metadata": {},
   "source": [
    "<img src=\"images.png\"\n",
    "style=\"width:200px;heigth=400px\">\n"
   ]
  },
  {
   "cell_type": "markdown",
   "metadata": {},
   "source": [
    "## python basics"
   ]
  },
  {
   "cell_type": "code",
   "execution_count": 1,
   "metadata": {},
   "outputs": [
    {
     "name": "stdout",
     "output_type": "stream",
     "text": [
      "weolcome to python\n"
     ]
    }
   ],
   "source": [
    "#print funtion\n",
    "print(\"weolcome to python\")"
   ]
  },
  {
   "cell_type": "code",
   "execution_count": 2,
   "metadata": {},
   "outputs": [
    {
     "name": "stdout",
     "output_type": "stream",
     "text": [
      "good morning good after noon\n"
     ]
    }
   ],
   "source": [
    "print(\"good morning\",end=\" \")\n",
    "print(\"good after noon\")"
   ]
  },
  {
   "cell_type": "code",
   "execution_count": 3,
   "metadata": {},
   "outputs": [
    {
     "name": "stdout",
     "output_type": "stream",
     "text": [
      "hello gandhi\n"
     ]
    }
   ],
   "source": [
    "a=\"hello gandhi\"\n",
    "print(a)"
   ]
  },
  {
   "cell_type": "code",
   "execution_count": 4,
   "metadata": {},
   "outputs": [
    {
     "name": "stdout",
     "output_type": "stream",
     "text": [
      "123\n"
     ]
    }
   ],
   "source": [
    "a=123\n",
    "print(a)"
   ]
  },
  {
   "cell_type": "code",
   "execution_count": 5,
   "metadata": {},
   "outputs": [
    {
     "data": {
      "text/plain": [
       "int"
      ]
     },
     "execution_count": 5,
     "metadata": {},
     "output_type": "execute_result"
    }
   ],
   "source": [
    "type(a)"
   ]
  },
  {
   "cell_type": "code",
   "execution_count": 6,
   "metadata": {},
   "outputs": [],
   "source": [
    "b=\"abc\""
   ]
  },
  {
   "cell_type": "code",
   "execution_count": 7,
   "metadata": {},
   "outputs": [
    {
     "data": {
      "text/plain": [
       "str"
      ]
     },
     "execution_count": 7,
     "metadata": {},
     "output_type": "execute_result"
    }
   ],
   "source": [
    "type(b)"
   ]
  },
  {
   "cell_type": "code",
   "execution_count": 8,
   "metadata": {},
   "outputs": [],
   "source": [
    "c=2.300000"
   ]
  },
  {
   "cell_type": "code",
   "execution_count": 9,
   "metadata": {},
   "outputs": [
    {
     "data": {
      "text/plain": [
       "float"
      ]
     },
     "execution_count": 9,
     "metadata": {},
     "output_type": "execute_result"
    }
   ],
   "source": [
    "type(c)"
   ]
  },
  {
   "cell_type": "code",
   "execution_count": 10,
   "metadata": {},
   "outputs": [
    {
     "data": {
      "text/plain": [
       "'2.3'"
      ]
     },
     "execution_count": 10,
     "metadata": {},
     "output_type": "execute_result"
    }
   ],
   "source": [
    "str(c)"
   ]
  },
  {
   "cell_type": "raw",
   "metadata": {},
   "source": [
    "int(b)"
   ]
  },
  {
   "cell_type": "code",
   "execution_count": 11,
   "metadata": {},
   "outputs": [],
   "source": [
    "b='123'"
   ]
  },
  {
   "cell_type": "code",
   "execution_count": 12,
   "metadata": {},
   "outputs": [
    {
     "data": {
      "text/plain": [
       "123"
      ]
     },
     "execution_count": 12,
     "metadata": {},
     "output_type": "execute_result"
    }
   ],
   "source": [
    "int(b)"
   ]
  },
  {
   "cell_type": "code",
   "execution_count": 13,
   "metadata": {},
   "outputs": [
    {
     "name": "stdout",
     "output_type": "stream",
     "text": [
      "enter lower limit:2\n",
      "enter upper limit:10\n",
      "2\n",
      "4\n",
      "6\n",
      "8\n",
      "10\n"
     ]
    }
   ],
   "source": [
    "a=int(input(\"enter lower limit:\"))\n",
    "b=int(input(\"enter upper limit:\"))\n",
    "for i in range(a,b+1):\n",
    "    if(i%2==0):\n",
    "        print(i)\n"
   ]
  },
  {
   "cell_type": "code",
   "execution_count": 14,
   "metadata": {},
   "outputs": [
    {
     "name": "stdout",
     "output_type": "stream",
     "text": [
      "enter a number:2\n",
      "enter range10\n",
      "2  X  1  =  2\n",
      "2  X  2  =  4\n",
      "2  X  3  =  6\n",
      "2  X  4  =  8\n",
      "2  X  5  =  10\n",
      "2  X  6  =  12\n",
      "2  X  7  =  14\n",
      "2  X  8  =  16\n",
      "2  X  9  =  18\n",
      "2  X  10  =  20\n"
     ]
    }
   ],
   "source": [
    "a=int(input(\"enter a number:\"))\n",
    "b=int(input(\"enter range\"))\n",
    "n=1\n",
    "for i in range(1,b+1):\n",
    "    print(a,\" X \",i,' = ',(a*i))\n",
    "     "
   ]
  },
  {
   "cell_type": "markdown",
   "metadata": {},
   "source": [
    "## operators in python"
   ]
  },
  {
   "cell_type": "markdown",
   "metadata": {},
   "source": [
    "### arithematic operator"
   ]
  },
  {
   "cell_type": "markdown",
   "metadata": {},
   "source": [
    "## +,-,*,/,//,**,% "
   ]
  },
  {
   "cell_type": "code",
   "execution_count": 15,
   "metadata": {},
   "outputs": [
    {
     "data": {
      "text/plain": [
       "5"
      ]
     },
     "execution_count": 15,
     "metadata": {},
     "output_type": "execute_result"
    }
   ],
   "source": [
    "2+3\n",
    "a=2\n",
    "b=3\n",
    "a+b #without print only last will exhicuted"
   ]
  },
  {
   "cell_type": "code",
   "execution_count": 16,
   "metadata": {},
   "outputs": [
    {
     "data": {
      "text/plain": [
       "3.3333333333333335"
      ]
     },
     "execution_count": 16,
     "metadata": {},
     "output_type": "execute_result"
    }
   ],
   "source": [
    "10/3"
   ]
  },
  {
   "cell_type": "code",
   "execution_count": 17,
   "metadata": {},
   "outputs": [
    {
     "data": {
      "text/plain": [
       "3"
      ]
     },
     "execution_count": 17,
     "metadata": {},
     "output_type": "execute_result"
    }
   ],
   "source": [
    "10//3"
   ]
  },
  {
   "cell_type": "code",
   "execution_count": 18,
   "metadata": {},
   "outputs": [
    {
     "data": {
      "text/plain": [
       "3"
      ]
     },
     "execution_count": 18,
     "metadata": {},
     "output_type": "execute_result"
    }
   ],
   "source": [
    "int(10/3)"
   ]
  },
  {
   "cell_type": "code",
   "execution_count": 19,
   "metadata": {},
   "outputs": [
    {
     "data": {
      "text/plain": [
       "4"
      ]
     },
     "execution_count": 19,
     "metadata": {},
     "output_type": "execute_result"
    }
   ],
   "source": [
    "2 ** 2\n"
   ]
  },
  {
   "cell_type": "code",
   "execution_count": 20,
   "metadata": {},
   "outputs": [
    {
     "data": {
      "text/plain": [
       "8"
      ]
     },
     "execution_count": 20,
     "metadata": {},
     "output_type": "execute_result"
    }
   ],
   "source": [
    "2 ** 3\n"
   ]
  },
  {
   "cell_type": "code",
   "execution_count": 21,
   "metadata": {},
   "outputs": [
    {
     "data": {
      "text/plain": [
       "8"
      ]
     },
     "execution_count": 21,
     "metadata": {},
     "output_type": "execute_result"
    }
   ],
   "source": [
    "pow(2,3)"
   ]
  },
  {
   "cell_type": "markdown",
   "metadata": {},
   "source": [
    "## relational operator"
   ]
  },
  {
   "cell_type": "markdown",
   "metadata": {},
   "source": [
    "## <,>,<=,>=,==,!= returns boolen values (True/False)"
   ]
  },
  {
   "cell_type": "code",
   "execution_count": 22,
   "metadata": {},
   "outputs": [
    {
     "data": {
      "text/plain": [
       "False"
      ]
     },
     "execution_count": 22,
     "metadata": {},
     "output_type": "execute_result"
    }
   ],
   "source": [
    "2==3"
   ]
  },
  {
   "cell_type": "code",
   "execution_count": 23,
   "metadata": {},
   "outputs": [
    {
     "data": {
      "text/plain": [
       "False"
      ]
     },
     "execution_count": 23,
     "metadata": {},
     "output_type": "execute_result"
    }
   ],
   "source": [
    "2 == 3"
   ]
  },
  {
   "cell_type": "code",
   "execution_count": 24,
   "metadata": {},
   "outputs": [
    {
     "data": {
      "text/plain": [
       "True"
      ]
     },
     "execution_count": 24,
     "metadata": {},
     "output_type": "execute_result"
    }
   ],
   "source": [
    "2<=10"
   ]
  },
  {
   "cell_type": "markdown",
   "metadata": {},
   "source": [
    "## assignment operators\n"
   ]
  },
  {
   "cell_type": "markdown",
   "metadata": {},
   "source": [
    "## =,+=,-=,*=,/ ="
   ]
  },
  {
   "cell_type": "code",
   "execution_count": 25,
   "metadata": {},
   "outputs": [
    {
     "ename": "TypeError",
     "evalue": "cannot unpack non-iterable int object",
     "output_type": "error",
     "traceback": [
      "\u001b[1;31m---------------------------------------------------------------------------\u001b[0m",
      "\u001b[1;31mTypeError\u001b[0m                                 Traceback (most recent call last)",
      "\u001b[1;32m<ipython-input-25-af3975191107>\u001b[0m in \u001b[0;36m<module>\u001b[1;34m\u001b[0m\n\u001b[1;32m----> 1\u001b[1;33m \u001b[0ma\u001b[0m\u001b[1;33m,\u001b[0m\u001b[0md\u001b[0m\u001b[1;33m,\u001b[0m\u001b[0mc\u001b[0m\u001b[1;33m=\u001b[0m\u001b[1;36m1\u001b[0m \u001b[1;31m#unpacked error because length on same sides must be same\u001b[0m\u001b[1;33m\u001b[0m\u001b[1;33m\u001b[0m\u001b[0m\n\u001b[0m",
      "\u001b[1;31mTypeError\u001b[0m: cannot unpack non-iterable int object"
     ]
    }
   ],
   "source": [
    "a,d,c=1 #unpacked error because length on same sides must be same"
   ]
  },
  {
   "cell_type": "code",
   "execution_count": 26,
   "metadata": {},
   "outputs": [],
   "source": [
    "a=b=c=10"
   ]
  },
  {
   "cell_type": "code",
   "execution_count": 27,
   "metadata": {},
   "outputs": [
    {
     "name": "stdout",
     "output_type": "stream",
     "text": [
      "10 10 10\n"
     ]
    }
   ],
   "source": [
    "print(a,b,c)"
   ]
  },
  {
   "cell_type": "code",
   "execution_count": 28,
   "metadata": {},
   "outputs": [],
   "source": [
    "a,b,c=1,2,3"
   ]
  },
  {
   "cell_type": "code",
   "execution_count": 29,
   "metadata": {},
   "outputs": [
    {
     "name": "stdout",
     "output_type": "stream",
     "text": [
      "1 2 3\n"
     ]
    }
   ],
   "source": [
    "print(a,b,c)"
   ]
  },
  {
   "cell_type": "code",
   "execution_count": 30,
   "metadata": {},
   "outputs": [],
   "source": [
    "a=1,2,3,4"
   ]
  },
  {
   "cell_type": "code",
   "execution_count": 31,
   "metadata": {},
   "outputs": [
    {
     "data": {
      "text/plain": [
       "tuple"
      ]
     },
     "execution_count": 31,
     "metadata": {},
     "output_type": "execute_result"
    }
   ],
   "source": [
    "type(a)"
   ]
  },
  {
   "cell_type": "code",
   "execution_count": 32,
   "metadata": {},
   "outputs": [],
   "source": [
    "a=1"
   ]
  },
  {
   "cell_type": "code",
   "execution_count": 33,
   "metadata": {},
   "outputs": [],
   "source": [
    "a = a+1"
   ]
  },
  {
   "cell_type": "code",
   "execution_count": 34,
   "metadata": {},
   "outputs": [
    {
     "data": {
      "text/plain": [
       "2"
      ]
     },
     "execution_count": 34,
     "metadata": {},
     "output_type": "execute_result"
    }
   ],
   "source": [
    "a"
   ]
  },
  {
   "cell_type": "code",
   "execution_count": 35,
   "metadata": {},
   "outputs": [],
   "source": [
    "a+=10"
   ]
  },
  {
   "cell_type": "code",
   "execution_count": 36,
   "metadata": {},
   "outputs": [
    {
     "data": {
      "text/plain": [
       "12"
      ]
     },
     "execution_count": 36,
     "metadata": {},
     "output_type": "execute_result"
    }
   ],
   "source": [
    "a"
   ]
  },
  {
   "cell_type": "code",
   "execution_count": 37,
   "metadata": {},
   "outputs": [],
   "source": [
    "a**=10"
   ]
  },
  {
   "cell_type": "code",
   "execution_count": 38,
   "metadata": {},
   "outputs": [
    {
     "data": {
      "text/plain": [
       "61917364224"
      ]
     },
     "execution_count": 38,
     "metadata": {},
     "output_type": "execute_result"
    }
   ],
   "source": [
    "a"
   ]
  },
  {
   "cell_type": "markdown",
   "metadata": {},
   "source": [
    "## logical operator"
   ]
  },
  {
   "cell_type": "markdown",
   "metadata": {},
   "source": [
    "## and, or , xor ,nor ,not"
   ]
  },
  {
   "cell_type": "code",
   "execution_count": 39,
   "metadata": {},
   "outputs": [
    {
     "data": {
      "text/plain": [
       "False"
      ]
     },
     "execution_count": 39,
     "metadata": {},
     "output_type": "execute_result"
    }
   ],
   "source": [
    "not(True)"
   ]
  },
  {
   "cell_type": "code",
   "execution_count": 40,
   "metadata": {},
   "outputs": [
    {
     "data": {
      "text/plain": [
       "True"
      ]
     },
     "execution_count": 40,
     "metadata": {},
     "output_type": "execute_result"
    }
   ],
   "source": [
    "True or False"
   ]
  },
  {
   "cell_type": "code",
   "execution_count": 41,
   "metadata": {},
   "outputs": [
    {
     "data": {
      "text/plain": [
       "2"
      ]
     },
     "execution_count": 41,
     "metadata": {},
     "output_type": "execute_result"
    }
   ],
   "source": [
    "1 and 2"
   ]
  },
  {
   "cell_type": "code",
   "execution_count": 42,
   "metadata": {},
   "outputs": [
    {
     "data": {
      "text/plain": [
       "2"
      ]
     },
     "execution_count": 42,
     "metadata": {},
     "output_type": "execute_result"
    }
   ],
   "source": [
    "-1 and 2"
   ]
  },
  {
   "cell_type": "code",
   "execution_count": 43,
   "metadata": {},
   "outputs": [
    {
     "data": {
      "text/plain": [
       "True"
      ]
     },
     "execution_count": 43,
     "metadata": {},
     "output_type": "execute_result"
    }
   ],
   "source": [
    "bool(-1)"
   ]
  },
  {
   "cell_type": "code",
   "execution_count": 44,
   "metadata": {},
   "outputs": [
    {
     "data": {
      "text/plain": [
       "False"
      ]
     },
     "execution_count": 44,
     "metadata": {},
     "output_type": "execute_result"
    }
   ],
   "source": [
    "bool(0)"
   ]
  },
  {
   "cell_type": "code",
   "execution_count": 45,
   "metadata": {},
   "outputs": [
    {
     "data": {
      "text/plain": [
       "1"
      ]
     },
     "execution_count": 45,
     "metadata": {},
     "output_type": "execute_result"
    }
   ],
   "source": [
    "2 and 1"
   ]
  },
  {
   "cell_type": "code",
   "execution_count": 46,
   "metadata": {},
   "outputs": [
    {
     "data": {
      "text/plain": [
       "2"
      ]
     },
     "execution_count": 46,
     "metadata": {},
     "output_type": "execute_result"
    }
   ],
   "source": [
    "2 or 1"
   ]
  },
  {
   "cell_type": "code",
   "execution_count": 47,
   "metadata": {},
   "outputs": [
    {
     "data": {
      "text/plain": [
       "0"
      ]
     },
     "execution_count": 47,
     "metadata": {},
     "output_type": "execute_result"
    }
   ],
   "source": [
    "0 and 5"
   ]
  },
  {
   "cell_type": "code",
   "execution_count": 48,
   "metadata": {},
   "outputs": [
    {
     "data": {
      "text/plain": [
       "0"
      ]
     },
     "execution_count": 48,
     "metadata": {},
     "output_type": "execute_result"
    }
   ],
   "source": [
    "5 and 0"
   ]
  },
  {
   "cell_type": "code",
   "execution_count": 49,
   "metadata": {},
   "outputs": [
    {
     "data": {
      "text/plain": [
       "2"
      ]
     },
     "execution_count": 49,
     "metadata": {},
     "output_type": "execute_result"
    }
   ],
   "source": [
    "2 or 0"
   ]
  },
  {
   "cell_type": "code",
   "execution_count": 50,
   "metadata": {},
   "outputs": [
    {
     "data": {
      "text/plain": [
       "2"
      ]
     },
     "execution_count": 50,
     "metadata": {},
     "output_type": "execute_result"
    }
   ],
   "source": [
    "0 or 2"
   ]
  },
  {
   "cell_type": "code",
   "execution_count": 51,
   "metadata": {},
   "outputs": [
    {
     "data": {
      "text/plain": [
       "False"
      ]
     },
     "execution_count": 51,
     "metadata": {},
     "output_type": "execute_result"
    }
   ],
   "source": [
    "not 1"
   ]
  },
  {
   "cell_type": "code",
   "execution_count": 52,
   "metadata": {},
   "outputs": [
    {
     "data": {
      "text/plain": [
       "True"
      ]
     },
     "execution_count": 52,
     "metadata": {},
     "output_type": "execute_result"
    }
   ],
   "source": [
    "not 0"
   ]
  },
  {
   "cell_type": "code",
   "execution_count": 53,
   "metadata": {},
   "outputs": [
    {
     "data": {
      "text/plain": [
       "False"
      ]
     },
     "execution_count": 53,
     "metadata": {},
     "output_type": "execute_result"
    }
   ],
   "source": [
    "not 2"
   ]
  },
  {
   "cell_type": "code",
   "execution_count": 54,
   "metadata": {},
   "outputs": [
    {
     "data": {
      "text/plain": [
       "5"
      ]
     },
     "execution_count": 54,
     "metadata": {},
     "output_type": "execute_result"
    }
   ],
   "source": [
    "a=5\n",
    "b=10\n",
    "a or b"
   ]
  },
  {
   "cell_type": "code",
   "execution_count": 55,
   "metadata": {},
   "outputs": [
    {
     "data": {
      "text/plain": [
       "10"
      ]
     },
     "execution_count": 55,
     "metadata": {},
     "output_type": "execute_result"
    }
   ],
   "source": [
    "a and b"
   ]
  },
  {
   "cell_type": "code",
   "execution_count": 56,
   "metadata": {},
   "outputs": [
    {
     "data": {
      "text/plain": [
       "3"
      ]
     },
     "execution_count": 56,
     "metadata": {},
     "output_type": "execute_result"
    }
   ],
   "source": [
    "3 or 5 and 6"
   ]
  },
  {
   "cell_type": "markdown",
   "metadata": {},
   "source": [
    "### not >> and >> or (prirority)"
   ]
  },
  {
   "cell_type": "code",
   "execution_count": 57,
   "metadata": {},
   "outputs": [
    {
     "data": {
      "text/plain": [
       "6"
      ]
     },
     "execution_count": 57,
     "metadata": {},
     "output_type": "execute_result"
    }
   ],
   "source": [
    "not 3 or 5 and 6"
   ]
  },
  {
   "cell_type": "code",
   "execution_count": 58,
   "metadata": {},
   "outputs": [
    {
     "data": {
      "text/plain": [
       "3.2"
      ]
     },
     "execution_count": 58,
     "metadata": {},
     "output_type": "execute_result"
    }
   ],
   "source": [
    "2 +3 * 4/10"
   ]
  },
  {
   "cell_type": "markdown",
   "metadata": {},
   "source": [
    "# pedmas\n",
    "Paranthis Exponetial Division Multiplication Addition and  Subtraction"
   ]
  },
  {
   "cell_type": "code",
   "execution_count": 59,
   "metadata": {},
   "outputs": [
    {
     "data": {
      "text/plain": [
       "1"
      ]
     },
     "execution_count": 59,
     "metadata": {},
     "output_type": "execute_result"
    }
   ],
   "source": [
    "3 * 3 // 2 ** 3"
   ]
  },
  {
   "cell_type": "markdown",
   "metadata": {},
   "source": [
    "## bitwise operator"
   ]
  },
  {
   "cell_type": "code",
   "execution_count": 60,
   "metadata": {},
   "outputs": [
    {
     "data": {
      "text/plain": [
       "0"
      ]
     },
     "execution_count": 60,
     "metadata": {},
     "output_type": "execute_result"
    }
   ],
   "source": [
    "3 & 4"
   ]
  },
  {
   "cell_type": "code",
   "execution_count": 61,
   "metadata": {},
   "outputs": [
    {
     "data": {
      "text/plain": [
       "7"
      ]
     },
     "execution_count": 61,
     "metadata": {},
     "output_type": "execute_result"
    }
   ],
   "source": [
    "3 | 4"
   ]
  },
  {
   "cell_type": "code",
   "execution_count": 62,
   "metadata": {},
   "outputs": [
    {
     "data": {
      "text/plain": [
       "7"
      ]
     },
     "execution_count": 62,
     "metadata": {},
     "output_type": "execute_result"
    }
   ],
   "source": [
    "3 ^ 4"
   ]
  },
  {
   "cell_type": "code",
   "execution_count": 63,
   "metadata": {},
   "outputs": [
    {
     "data": {
      "text/plain": [
       "'0b1100100'"
      ]
     },
     "execution_count": 63,
     "metadata": {},
     "output_type": "execute_result"
    }
   ],
   "source": [
    "bin(100)"
   ]
  },
  {
   "cell_type": "code",
   "execution_count": 64,
   "metadata": {},
   "outputs": [
    {
     "data": {
      "text/plain": [
       "100"
      ]
     },
     "execution_count": 64,
     "metadata": {},
     "output_type": "execute_result"
    }
   ],
   "source": [
    "int(100\n",
    "   )"
   ]
  },
  {
   "cell_type": "code",
   "execution_count": 65,
   "metadata": {},
   "outputs": [
    {
     "data": {
      "text/plain": [
       "4"
      ]
     },
     "execution_count": 65,
     "metadata": {},
     "output_type": "execute_result"
    }
   ],
   "source": [
    "int(0b100)"
   ]
  },
  {
   "cell_type": "code",
   "execution_count": 66,
   "metadata": {},
   "outputs": [
    {
     "data": {
      "text/plain": [
       "'0o12'"
      ]
     },
     "execution_count": 66,
     "metadata": {},
     "output_type": "execute_result"
    }
   ],
   "source": [
    "oct(10)"
   ]
  },
  {
   "cell_type": "code",
   "execution_count": 67,
   "metadata": {},
   "outputs": [
    {
     "data": {
      "text/plain": [
       "16"
      ]
     },
     "execution_count": 67,
     "metadata": {},
     "output_type": "execute_result"
    }
   ],
   "source": [
    "8 << 1"
   ]
  },
  {
   "cell_type": "code",
   "execution_count": 68,
   "metadata": {},
   "outputs": [
    {
     "data": {
      "text/plain": [
       "32"
      ]
     },
     "execution_count": 68,
     "metadata": {},
     "output_type": "execute_result"
    }
   ],
   "source": [
    "8 << 2"
   ]
  },
  {
   "cell_type": "code",
   "execution_count": 69,
   "metadata": {},
   "outputs": [
    {
     "data": {
      "text/plain": [
       "12"
      ]
     },
     "execution_count": 69,
     "metadata": {},
     "output_type": "execute_result"
    }
   ],
   "source": [
    "3 << 2"
   ]
  },
  {
   "cell_type": "code",
   "execution_count": 70,
   "metadata": {},
   "outputs": [
    {
     "data": {
      "text/plain": [
       "1"
      ]
     },
     "execution_count": 70,
     "metadata": {},
     "output_type": "execute_result"
    }
   ],
   "source": [
    "6 >> 2"
   ]
  },
  {
   "cell_type": "code",
   "execution_count": 71,
   "metadata": {},
   "outputs": [
    {
     "data": {
      "text/plain": [
       "20"
      ]
     },
     "execution_count": 71,
     "metadata": {},
     "output_type": "execute_result"
    }
   ],
   "source": [
    "5 << 2"
   ]
  },
  {
   "cell_type": "code",
   "execution_count": 72,
   "metadata": {},
   "outputs": [
    {
     "data": {
      "text/plain": [
       "40"
      ]
     },
     "execution_count": 72,
     "metadata": {},
     "output_type": "execute_result"
    }
   ],
   "source": [
    "5 << 3"
   ]
  },
  {
   "cell_type": "code",
   "execution_count": 73,
   "metadata": {},
   "outputs": [
    {
     "data": {
      "text/plain": [
       "3"
      ]
     },
     "execution_count": 73,
     "metadata": {},
     "output_type": "execute_result"
    }
   ],
   "source": [
    "6 >> 1"
   ]
  },
  {
   "cell_type": "markdown",
   "metadata": {},
   "source": [
    "## identity Operators"
   ]
  },
  {
   "cell_type": "markdown",
   "metadata": {},
   "source": [
    "## is , isnot"
   ]
  },
  {
   "cell_type": "code",
   "execution_count": 74,
   "metadata": {},
   "outputs": [
    {
     "data": {
      "text/plain": [
       "True"
      ]
     },
     "execution_count": 74,
     "metadata": {},
     "output_type": "execute_result"
    }
   ],
   "source": [
    "2 is not 3"
   ]
  },
  {
   "cell_type": "markdown",
   "metadata": {},
   "source": [
    "## membership operator"
   ]
  },
  {
   "cell_type": "markdown",
   "metadata": {},
   "source": [
    "## in , notin"
   ]
  },
  {
   "cell_type": "code",
   "execution_count": 75,
   "metadata": {},
   "outputs": [
    {
     "data": {
      "text/plain": [
       "False"
      ]
     },
     "execution_count": 75,
     "metadata": {},
     "output_type": "execute_result"
    }
   ],
   "source": [
    "'ap' in 'gandhi'"
   ]
  },
  {
   "cell_type": "code",
   "execution_count": 76,
   "metadata": {},
   "outputs": [
    {
     "data": {
      "text/plain": [
       "True"
      ]
     },
     "execution_count": 76,
     "metadata": {},
     "output_type": "execute_result"
    }
   ],
   "source": [
    "'a' in 'gandhi'"
   ]
  },
  {
   "cell_type": "code",
   "execution_count": 77,
   "metadata": {},
   "outputs": [
    {
     "data": {
      "text/plain": [
       "False"
      ]
     },
     "execution_count": 77,
     "metadata": {},
     "output_type": "execute_result"
    }
   ],
   "source": [
    "'n' not in 'gandhi'"
   ]
  },
  {
   "cell_type": "code",
   "execution_count": 78,
   "metadata": {},
   "outputs": [
    {
     "data": {
      "text/plain": [
       "False"
      ]
     },
     "execution_count": 78,
     "metadata": {},
     "output_type": "execute_result"
    }
   ],
   "source": [
    "1  not in (100,1,2)"
   ]
  },
  {
   "cell_type": "markdown",
   "metadata": {},
   "source": [
    "## conditional statments\n"
   ]
  },
  {
   "cell_type": "markdown",
   "metadata": {},
   "source": [
    "## if statment\n"
   ]
  },
  {
   "cell_type": "code",
   "execution_count": 95,
   "metadata": {},
   "outputs": [
    {
     "name": "stdout",
     "output_type": "stream",
     "text": [
      "10\n",
      "10  is  positve\n"
     ]
    }
   ],
   "source": [
    "num = int(input())\n",
    "if(num>=0):\n",
    "    print(num,\" is  positve\")\n",
    "if(num<0):\n",
    "    print(num,\" is  negative\")"
   ]
  },
  {
   "cell_type": "code",
   "execution_count": 94,
   "metadata": {},
   "outputs": [
    {
     "name": "stdout",
     "output_type": "stream",
     "text": [
      "0\n",
      "0  is  positve\n"
     ]
    }
   ],
   "source": [
    "num = int(input())\n",
    "if(num>=0):\n",
    "    print(num,\" is  positve\")\n",
    "else:\n",
    "    print(num,\" is  negative\")"
   ]
  },
  {
   "cell_type": "code",
   "execution_count": 93,
   "metadata": {},
   "outputs": [
    {
     "name": "stdout",
     "output_type": "stream",
     "text": [
      "-1\n",
      "-1  is negative\n"
     ]
    }
   ],
   "source": [
    "num =int(input())\n",
    "if num>0:\n",
    "    print(num,\" is positive\")\n",
    "elif num==0:\n",
    "    print(num,\" is zero\")\n",
    "else:\n",
    "    print(num,' is negative')"
   ]
  },
  {
   "cell_type": "code",
   "execution_count": 92,
   "metadata": {},
   "outputs": [
    {
     "name": "stdout",
     "output_type": "stream",
     "text": [
      "2000\n",
      "2000  is leap year\n"
     ]
    }
   ],
   "source": [
    "year =int(input())\n",
    "if(year%100!=0):\n",
    "    if(year%4==0):\n",
    "        print(year,\" is leap year\")\n",
    "    else:\n",
    "        print(year,\" is not leap year\")\n",
    "elif(year%400==0):\n",
    "    print(year,\" is leap year\")\n",
    "else:\n",
    "    print(year,\" is not a leap year\")"
   ]
  },
  {
   "cell_type": "code",
   "execution_count": 91,
   "metadata": {},
   "outputs": [
    {
     "name": "stdout",
     "output_type": "stream",
     "text": [
      "500\n",
      "500  is factor of 1000\n"
     ]
    }
   ],
   "source": [
    "num = int(input())\n",
    "if(1000%num==0):\n",
    "    print(num,\" is factor of 1000\")\n",
    "else:\n",
    "    print(num,\" if not factor of 1000\")"
   ]
  },
  {
   "cell_type": "markdown",
   "metadata": {},
   "source": [
    "#### write a program to find the length of the string"
   ]
  },
  {
   "cell_type": "code",
   "execution_count": 90,
   "metadata": {},
   "outputs": [
    {
     "name": "stdout",
     "output_type": "stream",
     "text": [
      "123\n",
      "3  is length of given number \n"
     ]
    }
   ],
   "source": [
    "num = int(input())\n",
    "n=0\n",
    "while(num!=0):\n",
    "    n+=1\n",
    "    num//=10\n",
    "print(n,\" is length of given number \")"
   ]
  },
  {
   "cell_type": "code",
   "execution_count": 89,
   "metadata": {},
   "outputs": [
    {
     "name": "stdout",
     "output_type": "stream",
     "text": [
      "123\n",
      "3\n"
     ]
    }
   ],
   "source": [
    "a=int(input())\n",
    "print(len(str(a)))#a is coverted into strring and calculated the length"
   ]
  },
  {
   "cell_type": "code",
   "execution_count": 88,
   "metadata": {},
   "outputs": [
    {
     "ename": "SyntaxError",
     "evalue": "invalid syntax (<ipython-input-88-2e82e9e4b5f4>, line 2)",
     "output_type": "error",
     "traceback": [
      "\u001b[1;36m  File \u001b[1;32m\"<ipython-input-88-2e82e9e4b5f4>\"\u001b[1;36m, line \u001b[1;32m2\u001b[0m\n\u001b[1;33m    num=(a>b)?((a>c)?a:c):((b>c)?b:c)\u001b[0m\n\u001b[1;37m             ^\u001b[0m\n\u001b[1;31mSyntaxError\u001b[0m\u001b[1;31m:\u001b[0m invalid syntax\n"
     ]
    }
   ],
   "source": [
    "a,b,c,d=200,536,145,221\n",
    "num=(a>b)?((a>c)?a:c):((b>c)?b:c)\n",
    "if(num>d):\n",
    "    print(num,\" is greater\")\n",
    "else:\n",
    "    print(d,\" is greater\")\n"
   ]
  },
  {
   "cell_type": "code",
   "execution_count": 87,
   "metadata": {},
   "outputs": [
    {
     "name": "stdout",
     "output_type": "stream",
     "text": [
      "10\n",
      "20\n",
      "30\n",
      "10\n",
      "30  is greater\n"
     ]
    }
   ],
   "source": [
    "a=int(input())\n",
    "b=int(input())\n",
    "c=int(input())\n",
    "d=int(input())\n",
    "if(a>b):\n",
    "    if(a>c):\n",
    "        if(a>d):\n",
    "            print(a,\" is greater\")\n",
    "        else:\n",
    "            print(d,\" is greater\")\n",
    "    else:\n",
    "        if(c>d):\n",
    "            print(c,\" is greater\")\n",
    "        else:\n",
    "            print(d,\" is greater\")\n",
    "else:\n",
    "    if(b>c):\n",
    "        if(b>d):\n",
    "            print(b,' is greater')\n",
    "        else:\n",
    "            print(d,\" is greater\")\n",
    "    else:\n",
    "        if(c>d):\n",
    "            print(c,\" is greater\")\n",
    "        else:\n",
    "            print(d,\" is greater\")"
   ]
  },
  {
   "cell_type": "code",
   "execution_count": 101,
   "metadata": {},
   "outputs": [
    {
     "name": "stdout",
     "output_type": "stream",
     "text": [
      "55\n",
      " second class\n"
     ]
    }
   ],
   "source": [
    "n = int(input())\n",
    "if(n>=75):\n",
    "    print(\" distiction\")\n",
    "elif(n>=51):\n",
    "    print(\" second class\")\n",
    "elif(n>=35):\n",
    "    print(\" pass\")\n",
    "else:\n",
    "    print(\" fail\")\n",
    "\n"
   ]
  },
  {
   "cell_type": "code",
   "execution_count": 14,
   "metadata": {},
   "outputs": [
    {
     "name": "stdout",
     "output_type": "stream",
     "text": [
      "10\n",
      "20\n",
      "30\n",
      "60\n"
     ]
    }
   ],
   "source": [
    "a = int(input())\n",
    "b = int(input())\n",
    "c = int(input())\n",
    "if(a==b==c):\n",
    "    print(a)\n",
    "elif(a==b or b==c or c==a):\n",
    "    if a==b:\n",
    "        print(c)\n",
    "    elif b==c:\n",
    "        print(a)\n",
    "    else:\n",
    "        print(b)\n",
    "else:\n",
    "    print(a+b+c)"
   ]
  },
  {
   "cell_type": "code",
   "execution_count": null,
   "metadata": {},
   "outputs": [],
   "source": [
    "\n",
    "\n",
    "\n",
    "\n",
    "\n",
    "\n",
    "\n",
    "\n",
    "\n",
    "\n",
    "\n",
    "\n",
    "\n",
    "\n",
    "\n",
    "\n",
    "\n",
    "\n",
    "\n",
    "\n",
    "\n",
    "\n",
    "\n",
    "\n",
    "\n",
    "\n",
    "\n",
    "\n"
   ]
  },
  {
   "cell_type": "code",
   "execution_count": 11,
   "metadata": {},
   "outputs": [
    {
     "name": "stdout",
     "output_type": "stream",
     "text": [
      "5\n",
      "5  is odd \n"
     ]
    }
   ],
   "source": [
    "n=int(input())\n",
    "if((n&1)):\n",
    "    print(n,\" is odd \")\n",
    "else:\n",
    "    print(n,\" is even\")\n"
   ]
  },
  {
   "cell_type": "code",
   "execution_count": 3,
   "metadata": {},
   "outputs": [
    {
     "name": "stdout",
     "output_type": "stream",
     "text": [
      " upper range: 5\n",
      " lower range: 12\n",
      " enter the number: 5\n",
      " enter a valid range\n"
     ]
    }
   ],
   "source": [
    "## write a program  to find the  given number is exist in the given range\n",
    "up = int(input(\" upper range: \"))\n",
    "lo = int(input(\" lower range: \"))\n",
    "n = int(input(\" enter the number: \"))\n",
    "if(lo<=up):\n",
    "    if(n>=lo and n<=up):\n",
    "        print(\" with in range\")\n",
    "    else:\n",
    "        print(\" out of range\")\n",
    "else:\n",
    "    print(\" enter a valid range\")"
   ]
  },
  {
   "cell_type": "markdown",
   "metadata": {},
   "source": [
    "## loops"
   ]
  },
  {
   "cell_type": "markdown",
   "metadata": {},
   "source": [
    "## for loop\n"
   ]
  },
  {
   "cell_type": "code",
   "execution_count": 9,
   "metadata": {},
   "outputs": [
    {
     "name": "stdout",
     "output_type": "stream",
     "text": [
      "0\t1\t2\t3\t4\t5\t6\t7\t8\t9\t10\t"
     ]
    }
   ],
   "source": [
    "for i in range(11): # : if an replacement of open paranthesis\n",
    "    print(i,end='\\t')           #statement\n",
    "               "
   ]
  },
  {
   "cell_type": "markdown",
   "metadata": {},
   "source": []
  },
  {
   "cell_type": "code",
   "execution_count": 10,
   "metadata": {},
   "outputs": [
    {
     "name": "stdout",
     "output_type": "stream",
     "text": [
      "1\n",
      "3\n",
      "5\n"
     ]
    }
   ],
   "source": [
    "for i in range(1,6,2): # 2 is like increment also called as step value\n",
    "    print(i)"
   ]
  },
  {
   "cell_type": "code",
   "execution_count": 12,
   "metadata": {},
   "outputs": [
    {
     "name": "stdout",
     "output_type": "stream",
     "text": [
      "10\n",
      "9\n",
      "8\n",
      "7\n",
      "6\n",
      "5\n",
      "4\n",
      "3\n",
      "2\n",
      "1\n"
     ]
    }
   ],
   "source": [
    "for i in range(10,0,-1):\n",
    "    print(i)"
   ]
  },
  {
   "cell_type": "code",
   "execution_count": 13,
   "metadata": {},
   "outputs": [
    {
     "ename": "TypeError",
     "evalue": "'int' object is not iterable",
     "output_type": "error",
     "traceback": [
      "\u001b[1;31m---------------------------------------------------------------------------\u001b[0m",
      "\u001b[1;31mTypeError\u001b[0m                                 Traceback (most recent call last)",
      "\u001b[1;32m<ipython-input-13-66d1c8a32ee9>\u001b[0m in \u001b[0;36m<module>\u001b[1;34m\u001b[0m\n\u001b[1;32m----> 1\u001b[1;33m \u001b[1;32mfor\u001b[0m \u001b[0mi\u001b[0m \u001b[1;32min\u001b[0m \u001b[1;36m1\u001b[0m\u001b[1;33m:\u001b[0m\u001b[1;33m\u001b[0m\u001b[1;33m\u001b[0m\u001b[0m\n\u001b[0m\u001b[0;32m      2\u001b[0m     \u001b[0mprint\u001b[0m\u001b[1;33m(\u001b[0m\u001b[0mi\u001b[0m\u001b[1;33m)\u001b[0m\u001b[1;33m\u001b[0m\u001b[1;33m\u001b[0m\u001b[0m\n",
      "\u001b[1;31mTypeError\u001b[0m: 'int' object is not iterable"
     ]
    }
   ],
   "source": [
    "for i in 1: #where we cant use single vALUE IN FOR\n",
    "    print(i)"
   ]
  },
  {
   "cell_type": "code",
   "execution_count": 14,
   "metadata": {},
   "outputs": [
    {
     "name": "stdout",
     "output_type": "stream",
     "text": [
      "apssdc\n",
      "apssdc\n",
      "apssdc\n",
      "apssdc\n",
      "apssdc\n",
      "apssdc\n"
     ]
    }
   ],
   "source": [
    "s='apssdc'\n",
    "for char in s:\n",
    "    print(s)"
   ]
  },
  {
   "cell_type": "code",
   "execution_count": 15,
   "metadata": {},
   "outputs": [
    {
     "name": "stdout",
     "output_type": "stream",
     "text": [
      "a\n",
      "p\n",
      "s\n",
      "s\n",
      "d\n",
      "c\n"
     ]
    }
   ],
   "source": [
    "s='apssdc'\n",
    "for char in s:\n",
    "    print(char)"
   ]
  },
  {
   "cell_type": "code",
   "execution_count": 18,
   "metadata": {},
   "outputs": [
    {
     "name": "stdout",
     "output_type": "stream",
     "text": [
      "a\n",
      "p\n",
      "s\n",
      "s\n",
      "d\n",
      "c\n"
     ]
    }
   ],
   "source": [
    "s='apssdc'\n",
    "for i in range(len(s)):\n",
    "    print(s[i])"
   ]
  },
  {
   "cell_type": "code",
   "execution_count": 23,
   "metadata": {},
   "outputs": [
    {
     "name": "stdout",
     "output_type": "stream",
     "text": [
      "cdsspa"
     ]
    }
   ],
   "source": [
    "s='apssdc'\n",
    "for i in range(len(s)-1,-1,-1):\n",
    "    print(s[i],end=\"\")"
   ]
  },
  {
   "cell_type": "code",
   "execution_count": 33,
   "metadata": {},
   "outputs": [
    {
     "data": {
      "text/plain": [
       "'z'"
      ]
     },
     "execution_count": 33,
     "metadata": {},
     "output_type": "execute_result"
    }
   ],
   "source": [
    "chr(122)"
   ]
  },
  {
   "cell_type": "code",
   "execution_count": 29,
   "metadata": {},
   "outputs": [
    {
     "name": "stdout",
     "output_type": "stream",
     "text": [
      "A B C D E F G H I J K L M N O P Q R S T U V W X Y Z "
     ]
    }
   ],
   "source": [
    "for i in range(65,91):\n",
    "    print(chr(i),end=' ')\n"
   ]
  },
  {
   "cell_type": "code",
   "execution_count": 35,
   "metadata": {},
   "outputs": [
    {
     "name": "stdout",
     "output_type": "stream",
     "text": [
      "B C D F G H J K L M N P Q R S T V W X Y Z "
     ]
    }
   ],
   "source": [
    "for i in range(65,91):\n",
    "    if chr(i)=='E' or chr(i)=='A' or chr(i)=='O' or chr(i)=='U' or chr(i)=='I':\n",
    "        continue\n",
    "    print(chr(i),end=' ')"
   ]
  },
  {
   "cell_type": "code",
   "execution_count": 39,
   "metadata": {},
   "outputs": [
    {
     "name": "stdout",
     "output_type": "stream",
     "text": [
      "1\n",
      "2\n",
      "3\n",
      "4\n",
      "5\n"
     ]
    },
    {
     "data": {
      "text/plain": [
       "6"
      ]
     },
     "execution_count": 39,
     "metadata": {},
     "output_type": "execute_result"
    }
   ],
   "source": [
    "i=1\n",
    "while i<=5:\n",
    "    print(i)\n",
    "    i+=1\n",
    "i"
   ]
  },
  {
   "cell_type": "code",
   "execution_count": 44,
   "metadata": {},
   "outputs": [
    {
     "name": "stdout",
     "output_type": "stream",
     "text": [
      "2  *  1  =  2\n",
      "2  *  2  =  4\n",
      "2  *  3  =  6\n",
      "2  *  4  =  8\n",
      "2  *  5  =  10\n",
      "2  *  6  =  12\n",
      "2  *  7  =  14\n",
      "2  *  8  =  16\n",
      "2  *  9  =  18\n",
      "2  *  10  =  20\n",
      "2  *  11  =  22\n",
      "2  *  12  =  24\n",
      "2  *  13  =  26\n",
      "2  *  14  =  28\n",
      "2  *  15  =  30\n",
      "2  *  16  =  32\n",
      "2  *  17  =  34\n",
      "2  *  18  =  36\n",
      "2  *  19  =  38\n",
      "2  *  20  =  40\n",
      "2  *  21  =  42\n",
      "2  *  22  =  44\n",
      "2  *  23  =  46\n",
      "2  *  24  =  48\n",
      "2  *  25  =  50\n",
      "2  *  26  =  52\n",
      "2  *  27  =  54\n",
      "2  *  28  =  56\n",
      "2  *  29  =  58\n",
      "2  *  30  =  60\n",
      "2  *  31  =  62\n",
      "2  *  32  =  64\n",
      "2  *  33  =  66\n",
      "2  *  34  =  68\n",
      "2  *  35  =  70\n",
      "2  *  36  =  72\n",
      "2  *  37  =  74\n",
      "2  *  38  =  76\n",
      "2  *  39  =  78\n",
      "2  *  40  =  80\n",
      "2  *  41  =  82\n",
      "2  *  42  =  84\n",
      "2  *  43  =  86\n",
      "2  *  44  =  88\n",
      "2  *  45  =  90\n",
      "2  *  46  =  92\n",
      "2  *  47  =  94\n",
      "2  *  48  =  96\n",
      "2  *  49  =  98\n",
      "2  *  50  =  100\n",
      "2  *  51  =  102\n",
      "2  *  52  =  104\n",
      "2  *  53  =  106\n",
      "2  *  54  =  108\n",
      "2  *  55  =  110\n",
      "2  *  56  =  112\n",
      "2  *  57  =  114\n",
      "2  *  58  =  116\n",
      "2  *  59  =  118\n",
      "2  *  60  =  120\n",
      "2  *  61  =  122\n",
      "2  *  62  =  124\n",
      "2  *  63  =  126\n",
      "2  *  64  =  128\n",
      "2  *  65  =  130\n",
      "2  *  66  =  132\n",
      "2  *  67  =  134\n",
      "2  *  68  =  136\n",
      "2  *  69  =  138\n",
      "2  *  70  =  140\n",
      "2  *  71  =  142\n",
      "2  *  72  =  144\n",
      "2  *  73  =  146\n",
      "2  *  74  =  148\n",
      "2  *  75  =  150\n",
      "2  *  76  =  152\n",
      "2  *  77  =  154\n",
      "2  *  78  =  156\n",
      "2  *  79  =  158\n",
      "2  *  80  =  160\n",
      "2  *  81  =  162\n",
      "2  *  82  =  164\n",
      "2  *  83  =  166\n",
      "2  *  84  =  168\n",
      "2  *  85  =  170\n",
      "2  *  86  =  172\n",
      "2  *  87  =  174\n",
      "2  *  88  =  176\n",
      "2  *  89  =  178\n",
      "2  *  90  =  180\n",
      "2  *  91  =  182\n",
      "2  *  92  =  184\n",
      "2  *  93  =  186\n",
      "2  *  94  =  188\n",
      "2  *  95  =  190\n",
      "2  *  96  =  192\n",
      "2  *  97  =  194\n",
      "2  *  98  =  196\n",
      "2  *  99  =  198\n",
      "2  *  100  =  200\n",
      "2  *  101  =  202\n",
      "2  *  102  =  204\n",
      "2  *  103  =  206\n",
      "2  *  104  =  208\n",
      "2  *  105  =  210\n",
      "2  *  106  =  212\n",
      "2  *  107  =  214\n",
      "2  *  108  =  216\n",
      "2  *  109  =  218\n",
      "2  *  110  =  220\n",
      "2  *  111  =  222\n",
      "2  *  112  =  224\n",
      "2  *  113  =  226\n",
      "2  *  114  =  228\n",
      "2  *  115  =  230\n",
      "2  *  116  =  232\n",
      "2  *  117  =  234\n",
      "2  *  118  =  236\n",
      "2  *  119  =  238\n",
      "2  *  120  =  240\n",
      "2  *  121  =  242\n",
      "2  *  122  =  244\n",
      "2  *  123  =  246\n",
      "2  *  124  =  248\n",
      "2  *  125  =  250\n",
      "2  *  126  =  252\n",
      "2  *  127  =  254\n",
      "2  *  128  =  256\n",
      "2  *  129  =  258\n",
      "2  *  130  =  260\n",
      "2  *  131  =  262\n",
      "2  *  132  =  264\n",
      "2  *  133  =  266\n",
      "2  *  134  =  268\n",
      "2  *  135  =  270\n",
      "2  *  136  =  272\n",
      "2  *  137  =  274\n",
      "2  *  138  =  276\n",
      "2  *  139  =  278\n",
      "2  *  140  =  280\n",
      "2  *  141  =  282\n",
      "2  *  142  =  284\n",
      "2  *  143  =  286\n",
      "2  *  144  =  288\n",
      "2  *  145  =  290\n",
      "2  *  146  =  292\n",
      "2  *  147  =  294\n",
      "2  *  148  =  296\n",
      "2  *  149  =  298\n",
      "2  *  150  =  300\n",
      "2  *  151  =  302\n",
      "2  *  152  =  304\n",
      "2  *  153  =  306\n",
      "2  *  154  =  308\n",
      "2  *  155  =  310\n",
      "2  *  156  =  312\n",
      "2  *  157  =  314\n",
      "2  *  158  =  316\n",
      "2  *  159  =  318\n",
      "2  *  160  =  320\n",
      "2  *  161  =  322\n",
      "2  *  162  =  324\n",
      "2  *  163  =  326\n",
      "2  *  164  =  328\n",
      "2  *  165  =  330\n",
      "2  *  166  =  332\n",
      "2  *  167  =  334\n",
      "2  *  168  =  336\n",
      "2  *  169  =  338\n",
      "2  *  170  =  340\n",
      "2  *  171  =  342\n",
      "2  *  172  =  344\n",
      "2  *  173  =  346\n",
      "2  *  174  =  348\n",
      "2  *  175  =  350\n",
      "2  *  176  =  352\n",
      "2  *  177  =  354\n",
      "2  *  178  =  356\n",
      "2  *  179  =  358\n",
      "2  *  180  =  360\n",
      "2  *  181  =  362\n",
      "2  *  182  =  364\n",
      "2  *  183  =  366\n",
      "2  *  184  =  368\n",
      "2  *  185  =  370\n",
      "2  *  186  =  372\n",
      "2  *  187  =  374\n",
      "2  *  188  =  376\n",
      "2  *  189  =  378\n",
      "2  *  190  =  380\n",
      "2  *  191  =  382\n",
      "2  *  192  =  384\n",
      "2  *  193  =  386\n",
      "2  *  194  =  388\n",
      "2  *  195  =  390\n",
      "2  *  196  =  392\n",
      "2  *  197  =  394\n",
      "2  *  198  =  396\n",
      "2  *  199  =  398\n",
      "2  *  200  =  400\n",
      "2  *  201  =  402\n",
      "2  *  202  =  404\n",
      "2  *  203  =  406\n",
      "2  *  204  =  408\n",
      "2  *  205  =  410\n",
      "2  *  206  =  412\n",
      "2  *  207  =  414\n",
      "2  *  208  =  416\n",
      "2  *  209  =  418\n",
      "2  *  210  =  420\n",
      "2  *  211  =  422\n",
      "2  *  212  =  424\n",
      "2  *  213  =  426\n",
      "2  *  214  =  428\n",
      "2  *  215  =  430\n",
      "2  *  216  =  432\n",
      "2  *  217  =  434\n",
      "2  *  218  =  436\n",
      "2  *  219  =  438\n",
      "2  *  220  =  440\n",
      "2  *  221  =  442\n",
      "2  *  222  =  444\n",
      "2  *  223  =  446\n",
      "2  *  224  =  448\n",
      "2  *  225  =  450\n",
      "2  *  226  =  452\n",
      "2  *  227  =  454\n",
      "2  *  228  =  456\n",
      "2  *  229  =  458\n",
      "2  *  230  =  460\n",
      "2  *  231  =  462\n",
      "2  *  232  =  464\n",
      "2  *  233  =  466\n",
      "2  *  234  =  468\n",
      "2  *  235  =  470\n",
      "2  *  236  =  472\n",
      "2  *  237  =  474\n",
      "2  *  238  =  476\n",
      "2  *  239  =  478\n",
      "2  *  240  =  480\n",
      "2  *  241  =  482\n",
      "2  *  242  =  484\n",
      "2  *  243  =  486\n",
      "2  *  244  =  488\n",
      "2  *  245  =  490\n",
      "2  *  246  =  492\n",
      "2  *  247  =  494\n",
      "2  *  248  =  496\n",
      "2  *  249  =  498\n",
      "2  *  250  =  500\n",
      "2  *  251  =  502\n",
      "2  *  252  =  504\n",
      "2  *  253  =  506\n",
      "2  *  254  =  508\n",
      "2  *  255  =  510\n",
      "2  *  256  =  512\n",
      "2  *  257  =  514\n",
      "2  *  258  =  516\n",
      "2  *  259  =  518\n",
      "2  *  260  =  520\n",
      "2  *  261  =  522\n",
      "2  *  262  =  524\n",
      "2  *  263  =  526\n",
      "2  *  264  =  528\n",
      "2  *  265  =  530\n",
      "2  *  266  =  532\n",
      "2  *  267  =  534\n",
      "2  *  268  =  536\n",
      "2  *  269  =  538\n",
      "2  *  270  =  540\n",
      "2  *  271  =  542\n",
      "2  *  272  =  544\n",
      "2  *  273  =  546\n",
      "2  *  274  =  548\n",
      "2  *  275  =  550\n",
      "2  *  276  =  552\n",
      "2  *  277  =  554\n",
      "2  *  278  =  556\n",
      "2  *  279  =  558\n",
      "2  *  280  =  560\n",
      "2  *  281  =  562\n",
      "2  *  282  =  564\n",
      "2  *  283  =  566\n",
      "2  *  284  =  568\n",
      "2  *  285  =  570\n",
      "2  *  286  =  572\n",
      "2  *  287  =  574\n",
      "2  *  288  =  576\n",
      "2  *  289  =  578\n",
      "2  *  290  =  580\n",
      "2  *  291  =  582\n",
      "2  *  292  =  584\n",
      "2  *  293  =  586\n",
      "2  *  294  =  588\n",
      "2  *  295  =  590\n",
      "2  *  296  =  592\n",
      "2  *  297  =  594\n",
      "2  *  298  =  596\n",
      "2  *  299  =  598\n",
      "2  *  300  =  600\n",
      "2  *  301  =  602\n",
      "2  *  302  =  604\n",
      "2  *  303  =  606\n",
      "2  *  304  =  608\n",
      "2  *  305  =  610\n",
      "2  *  306  =  612\n",
      "2  *  307  =  614\n",
      "2  *  308  =  616\n",
      "2  *  309  =  618\n",
      "2  *  310  =  620\n",
      "2  *  311  =  622\n",
      "2  *  312  =  624\n",
      "2  *  313  =  626\n",
      "2  *  314  =  628\n",
      "2  *  315  =  630\n",
      "2  *  316  =  632\n",
      "2  *  317  =  634\n",
      "2  *  318  =  636\n",
      "2  *  319  =  638\n",
      "2  *  320  =  640\n",
      "2  *  321  =  642\n",
      "2  *  322  =  644\n",
      "2  *  323  =  646\n",
      "2  *  324  =  648\n",
      "2  *  325  =  650\n",
      "2  *  326  =  652\n",
      "2  *  327  =  654\n",
      "2  *  328  =  656\n",
      "2  *  329  =  658\n",
      "2  *  330  =  660\n",
      "2  *  331  =  662\n",
      "2  *  332  =  664\n",
      "2  *  333  =  666\n",
      "2  *  334  =  668\n",
      "2  *  335  =  670\n",
      "2  *  336  =  672\n",
      "2  *  337  =  674\n",
      "2  *  338  =  676\n",
      "2  *  339  =  678\n",
      "2  *  340  =  680\n",
      "2  *  341  =  682\n",
      "2  *  342  =  684\n",
      "2  *  343  =  686\n",
      "2  *  344  =  688\n",
      "2  *  345  =  690\n",
      "2  *  346  =  692\n",
      "2  *  347  =  694\n",
      "2  *  348  =  696\n",
      "2  *  349  =  698\n",
      "2  *  350  =  700\n",
      "2  *  351  =  702\n",
      "2  *  352  =  704\n",
      "2  *  353  =  706\n",
      "2  *  354  =  708\n",
      "2  *  355  =  710\n",
      "2  *  356  =  712\n",
      "2  *  357  =  714\n",
      "2  *  358  =  716\n",
      "2  *  359  =  718\n",
      "2  *  360  =  720\n",
      "2  *  361  =  722\n",
      "2  *  362  =  724\n",
      "2  *  363  =  726\n",
      "2  *  364  =  728\n",
      "2  *  365  =  730\n",
      "2  *  366  =  732\n",
      "2  *  367  =  734\n",
      "2  *  368  =  736\n",
      "2  *  369  =  738\n",
      "2  *  370  =  740\n",
      "2  *  371  =  742\n",
      "2  *  372  =  744\n",
      "2  *  373  =  746\n",
      "2  *  374  =  748\n",
      "2  *  375  =  750\n",
      "2  *  376  =  752\n",
      "2  *  377  =  754\n",
      "2  *  378  =  756\n",
      "2  *  379  =  758\n",
      "2  *  380  =  760\n",
      "2  *  381  =  762\n",
      "2  *  382  =  764\n",
      "2  *  383  =  766\n",
      "2  *  384  =  768\n",
      "2  *  385  =  770\n",
      "2  *  386  =  772\n",
      "2  *  387  =  774\n",
      "2  *  388  =  776\n",
      "2  *  389  =  778\n",
      "2  *  390  =  780\n",
      "2  *  391  =  782\n",
      "2  *  392  =  784\n",
      "2  *  393  =  786\n",
      "2  *  394  =  788\n",
      "2  *  395  =  790\n",
      "2  *  396  =  792\n",
      "2  *  397  =  794\n",
      "2  *  398  =  796\n",
      "2  *  399  =  798\n",
      "2  *  400  =  800\n",
      "2  *  401  =  802\n",
      "2  *  402  =  804\n",
      "2  *  403  =  806\n",
      "2  *  404  =  808\n",
      "2  *  405  =  810\n",
      "2  *  406  =  812\n",
      "2  *  407  =  814\n",
      "2  *  408  =  816\n",
      "2  *  409  =  818\n",
      "2  *  410  =  820\n",
      "2  *  411  =  822\n",
      "2  *  412  =  824\n",
      "2  *  413  =  826\n",
      "2  *  414  =  828\n",
      "2  *  415  =  830\n",
      "2  *  416  =  832\n",
      "2  *  417  =  834\n",
      "2  *  418  =  836\n",
      "2  *  419  =  838\n",
      "2  *  420  =  840\n",
      "2  *  421  =  842\n",
      "2  *  422  =  844\n",
      "2  *  423  =  846\n",
      "2  *  424  =  848\n",
      "2  *  425  =  850\n",
      "2  *  426  =  852\n",
      "2  *  427  =  854\n",
      "2  *  428  =  856\n",
      "2  *  429  =  858\n",
      "2  *  430  =  860\n",
      "2  *  431  =  862\n",
      "2  *  432  =  864\n",
      "2  *  433  =  866\n",
      "2  *  434  =  868\n",
      "2  *  435  =  870\n",
      "2  *  436  =  872\n",
      "2  *  437  =  874\n",
      "2  *  438  =  876\n",
      "2  *  439  =  878\n",
      "2  *  440  =  880\n",
      "2  *  441  =  882\n",
      "2  *  442  =  884\n",
      "2  *  443  =  886\n",
      "2  *  444  =  888\n",
      "2  *  445  =  890\n",
      "2  *  446  =  892\n",
      "2  *  447  =  894\n",
      "2  *  448  =  896\n",
      "2  *  449  =  898\n",
      "2  *  450  =  900\n",
      "2  *  451  =  902\n",
      "2  *  452  =  904\n",
      "2  *  453  =  906\n",
      "2  *  454  =  908\n",
      "2  *  455  =  910\n",
      "2  *  456  =  912\n",
      "2  *  457  =  914\n",
      "2  *  458  =  916\n",
      "2  *  459  =  918\n",
      "2  *  460  =  920\n",
      "2  *  461  =  922\n",
      "2  *  462  =  924\n",
      "2  *  463  =  926\n",
      "2  *  464  =  928\n",
      "2  *  465  =  930\n",
      "2  *  466  =  932\n",
      "2  *  467  =  934\n",
      "2  *  468  =  936\n",
      "2  *  469  =  938\n",
      "2  *  470  =  940\n",
      "2  *  471  =  942\n",
      "2  *  472  =  944\n",
      "2  *  473  =  946\n",
      "2  *  474  =  948\n",
      "2  *  475  =  950\n",
      "2  *  476  =  952\n",
      "2  *  477  =  954\n",
      "2  *  478  =  956\n",
      "2  *  479  =  958\n",
      "2  *  480  =  960\n",
      "2  *  481  =  962\n",
      "2  *  482  =  964\n",
      "2  *  483  =  966\n",
      "2  *  484  =  968\n",
      "2  *  485  =  970\n",
      "2  *  486  =  972\n",
      "2  *  487  =  974\n",
      "2  *  488  =  976\n",
      "2  *  489  =  978\n",
      "2  *  490  =  980\n",
      "2  *  491  =  982\n"
     ]
    },
    {
     "name": "stdout",
     "output_type": "stream",
     "text": [
      "2  *  492  =  984\n",
      "2  *  493  =  986\n",
      "2  *  494  =  988\n",
      "2  *  495  =  990\n",
      "2  *  496  =  992\n",
      "2  *  497  =  994\n",
      "2  *  498  =  996\n",
      "2  *  499  =  998\n",
      "2  *  500  =  1000\n",
      "2  *  501  =  1002\n",
      "2  *  502  =  1004\n",
      "2  *  503  =  1006\n",
      "2  *  504  =  1008\n",
      "2  *  505  =  1010\n",
      "2  *  506  =  1012\n",
      "2  *  507  =  1014\n",
      "2  *  508  =  1016\n",
      "2  *  509  =  1018\n",
      "2  *  510  =  1020\n",
      "2  *  511  =  1022\n",
      "2  *  512  =  1024\n",
      "2  *  513  =  1026\n",
      "2  *  514  =  1028\n",
      "2  *  515  =  1030\n",
      "2  *  516  =  1032\n",
      "2  *  517  =  1034\n",
      "2  *  518  =  1036\n",
      "2  *  519  =  1038\n",
      "2  *  520  =  1040\n",
      "2  *  521  =  1042\n",
      "2  *  522  =  1044\n",
      "2  *  523  =  1046\n",
      "2  *  524  =  1048\n",
      "2  *  525  =  1050\n",
      "2  *  526  =  1052\n",
      "2  *  527  =  1054\n",
      "2  *  528  =  1056\n",
      "2  *  529  =  1058\n",
      "2  *  530  =  1060\n",
      "2  *  531  =  1062\n",
      "2  *  532  =  1064\n",
      "2  *  533  =  1066\n",
      "2  *  534  =  1068\n",
      "2  *  535  =  1070\n",
      "2  *  536  =  1072\n",
      "2  *  537  =  1074\n",
      "2  *  538  =  1076\n",
      "2  *  539  =  1078\n",
      "2  *  540  =  1080\n",
      "2  *  541  =  1082\n",
      "2  *  542  =  1084\n",
      "2  *  543  =  1086\n",
      "2  *  544  =  1088\n",
      "2  *  545  =  1090\n",
      "2  *  546  =  1092\n",
      "2  *  547  =  1094\n",
      "2  *  548  =  1096\n",
      "2  *  549  =  1098\n",
      "2  *  550  =  1100\n",
      "2  *  551  =  1102\n",
      "2  *  552  =  1104\n",
      "2  *  553  =  1106\n",
      "2  *  554  =  1108\n",
      "2  *  555  =  1110\n",
      "2  *  556  =  1112\n",
      "2  *  557  =  1114\n",
      "2  *  558  =  1116\n",
      "2  *  559  =  1118\n",
      "2  *  560  =  1120\n",
      "2  *  561  =  1122\n",
      "2  *  562  =  1124\n",
      "2  *  563  =  1126\n",
      "2  *  564  =  1128\n",
      "2  *  565  =  1130\n",
      "2  *  566  =  1132\n",
      "2  *  567  =  1134\n",
      "2  *  568  =  1136\n",
      "2  *  569  =  1138\n",
      "2  *  570  =  1140\n",
      "2  *  571  =  1142\n",
      "2  *  572  =  1144\n",
      "2  *  573  =  1146\n",
      "2  *  574  =  1148\n",
      "2  *  575  =  1150\n",
      "2  *  576  =  1152\n",
      "2  *  577  =  1154\n",
      "2  *  578  =  1156\n",
      "2  *  579  =  1158\n",
      "2  *  580  =  1160\n",
      "2  *  581  =  1162\n",
      "2  *  582  =  1164\n",
      "2  *  583  =  1166\n",
      "2  *  584  =  1168\n",
      "2  *  585  =  1170\n",
      "2  *  586  =  1172\n",
      "2  *  587  =  1174\n",
      "2  *  588  =  1176\n",
      "2  *  589  =  1178\n",
      "2  *  590  =  1180\n",
      "2  *  591  =  1182\n",
      "2  *  592  =  1184\n",
      "2  *  593  =  1186\n",
      "2  *  594  =  1188\n",
      "2  *  595  =  1190\n",
      "2  *  596  =  1192\n",
      "2  *  597  =  1194\n",
      "2  *  598  =  1196\n",
      "2  *  599  =  1198\n",
      "2  *  600  =  1200\n",
      "2  *  601  =  1202\n",
      "2  *  602  =  1204\n",
      "2  *  603  =  1206\n",
      "2  *  604  =  1208\n",
      "2  *  605  =  1210\n",
      "2  *  606  =  1212\n",
      "2  *  607  =  1214\n",
      "2  *  608  =  1216\n",
      "2  *  609  =  1218\n",
      "2  *  610  =  1220\n",
      "2  *  611  =  1222\n",
      "2  *  612  =  1224\n",
      "2  *  613  =  1226\n",
      "2  *  614  =  1228\n",
      "2  *  615  =  1230\n",
      "2  *  616  =  1232\n",
      "2  *  617  =  1234\n",
      "2  *  618  =  1236\n",
      "2  *  619  =  1238\n",
      "2  *  620  =  1240\n",
      "2  *  621  =  1242\n",
      "2  *  622  =  1244\n",
      "2  *  623  =  1246\n",
      "2  *  624  =  1248\n",
      "2  *  625  =  1250\n",
      "2  *  626  =  1252\n",
      "2  *  627  =  1254\n",
      "2  *  628  =  1256\n",
      "2  *  629  =  1258\n",
      "2  *  630  =  1260\n",
      "2  *  631  =  1262\n",
      "2  *  632  =  1264\n",
      "2  *  633  =  1266\n",
      "2  *  634  =  1268\n",
      "2  *  635  =  1270\n",
      "2  *  636  =  1272\n",
      "2  *  637  =  1274\n",
      "2  *  638  =  1276\n",
      "2  *  639  =  1278\n",
      "2  *  640  =  1280\n",
      "2  *  641  =  1282\n",
      "2  *  642  =  1284\n",
      "2  *  643  =  1286\n",
      "2  *  644  =  1288\n",
      "2  *  645  =  1290\n",
      "2  *  646  =  1292\n",
      "2  *  647  =  1294\n",
      "2  *  648  =  1296\n",
      "2  *  649  =  1298\n",
      "2  *  650  =  1300\n",
      "2  *  651  =  1302\n",
      "2  *  652  =  1304\n",
      "2  *  653  =  1306\n",
      "2  *  654  =  1308\n",
      "2  *  655  =  1310\n",
      "2  *  656  =  1312\n",
      "2  *  657  =  1314\n",
      "2  *  658  =  1316\n",
      "2  *  659  =  1318\n",
      "2  *  660  =  1320\n",
      "2  *  661  =  1322\n",
      "2  *  662  =  1324\n",
      "2  *  663  =  1326\n",
      "2  *  664  =  1328\n",
      "2  *  665  =  1330\n",
      "2  *  666  =  1332\n",
      "2  *  667  =  1334\n",
      "2  *  668  =  1336\n",
      "2  *  669  =  1338\n",
      "2  *  670  =  1340\n",
      "2  *  671  =  1342\n",
      "2  *  672  =  1344\n",
      "2  *  673  =  1346\n",
      "2  *  674  =  1348\n",
      "2  *  675  =  1350\n",
      "2  *  676  =  1352\n",
      "2  *  677  =  1354\n",
      "2  *  678  =  1356\n",
      "2  *  679  =  1358\n",
      "2  *  680  =  1360\n",
      "2  *  681  =  1362\n",
      "2  *  682  =  1364\n",
      "2  *  683  =  1366\n",
      "2  *  684  =  1368\n",
      "2  *  685  =  1370\n",
      "2  *  686  =  1372\n",
      "2  *  687  =  1374\n",
      "2  *  688  =  1376\n",
      "2  *  689  =  1378\n",
      "2  *  690  =  1380\n",
      "2  *  691  =  1382\n",
      "2  *  692  =  1384\n",
      "2  *  693  =  1386\n",
      "2  *  694  =  1388\n",
      "2  *  695  =  1390\n",
      "2  *  696  =  1392\n",
      "2  *  697  =  1394\n",
      "2  *  698  =  1396\n",
      "2  *  699  =  1398\n",
      "2  *  700  =  1400\n",
      "2  *  701  =  1402\n",
      "2  *  702  =  1404\n",
      "2  *  703  =  1406\n",
      "2  *  704  =  1408\n",
      "2  *  705  =  1410\n",
      "2  *  706  =  1412\n",
      "2  *  707  =  1414\n",
      "2  *  708  =  1416\n",
      "2  *  709  =  1418\n",
      "2  *  710  =  1420\n",
      "2  *  711  =  1422\n",
      "2  *  712  =  1424\n",
      "2  *  713  =  1426\n",
      "2  *  714  =  1428\n",
      "2  *  715  =  1430\n",
      "2  *  716  =  1432\n",
      "2  *  717  =  1434\n",
      "2  *  718  =  1436\n",
      "2  *  719  =  1438\n",
      "2  *  720  =  1440\n",
      "2  *  721  =  1442\n",
      "2  *  722  =  1444\n",
      "2  *  723  =  1446\n",
      "2  *  724  =  1448\n",
      "2  *  725  =  1450\n",
      "2  *  726  =  1452\n",
      "2  *  727  =  1454\n",
      "2  *  728  =  1456\n",
      "2  *  729  =  1458\n",
      "2  *  730  =  1460\n",
      "2  *  731  =  1462\n",
      "2  *  732  =  1464\n",
      "2  *  733  =  1466\n",
      "2  *  734  =  1468\n",
      "2  *  735  =  1470\n",
      "2  *  736  =  1472\n",
      "2  *  737  =  1474\n",
      "2  *  738  =  1476\n",
      "2  *  739  =  1478\n",
      "2  *  740  =  1480\n",
      "2  *  741  =  1482\n",
      "2  *  742  =  1484\n",
      "2  *  743  =  1486\n",
      "2  *  744  =  1488\n",
      "2  *  745  =  1490\n",
      "2  *  746  =  1492\n",
      "2  *  747  =  1494\n",
      "2  *  748  =  1496\n",
      "2  *  749  =  1498\n",
      "2  *  750  =  1500\n",
      "2  *  751  =  1502\n",
      "2  *  752  =  1504\n",
      "2  *  753  =  1506\n",
      "2  *  754  =  1508\n",
      "2  *  755  =  1510\n",
      "2  *  756  =  1512\n",
      "2  *  757  =  1514\n",
      "2  *  758  =  1516\n",
      "2  *  759  =  1518\n",
      "2  *  760  =  1520\n",
      "2  *  761  =  1522\n",
      "2  *  762  =  1524\n",
      "2  *  763  =  1526\n",
      "2  *  764  =  1528\n",
      "2  *  765  =  1530\n",
      "2  *  766  =  1532\n",
      "2  *  767  =  1534\n",
      "2  *  768  =  1536\n",
      "2  *  769  =  1538\n",
      "2  *  770  =  1540\n",
      "2  *  771  =  1542\n",
      "2  *  772  =  1544\n",
      "2  *  773  =  1546\n",
      "2  *  774  =  1548\n",
      "2  *  775  =  1550\n",
      "2  *  776  =  1552\n",
      "2  *  777  =  1554\n",
      "2  *  778  =  1556\n",
      "2  *  779  =  1558\n",
      "2  *  780  =  1560\n",
      "2  *  781  =  1562\n",
      "2  *  782  =  1564\n",
      "2  *  783  =  1566\n",
      "2  *  784  =  1568\n",
      "2  *  785  =  1570\n",
      "2  *  786  =  1572\n",
      "2  *  787  =  1574\n",
      "2  *  788  =  1576\n",
      "2  *  789  =  1578\n",
      "2  *  790  =  1580\n",
      "2  *  791  =  1582\n",
      "2  *  792  =  1584\n",
      "2  *  793  =  1586\n",
      "2  *  794  =  1588\n",
      "2  *  795  =  1590\n",
      "2  *  796  =  1592\n",
      "2  *  797  =  1594\n",
      "2  *  798  =  1596\n",
      "2  *  799  =  1598\n",
      "2  *  800  =  1600\n",
      "2  *  801  =  1602\n",
      "2  *  802  =  1604\n",
      "2  *  803  =  1606\n",
      "2  *  804  =  1608\n",
      "2  *  805  =  1610\n",
      "2  *  806  =  1612\n",
      "2  *  807  =  1614\n",
      "2  *  808  =  1616\n",
      "2  *  809  =  1618\n",
      "2  *  810  =  1620\n",
      "2  *  811  =  1622\n",
      "2  *  812  =  1624\n",
      "2  *  813  =  1626\n",
      "2  *  814  =  1628\n",
      "2  *  815  =  1630\n",
      "2  *  816  =  1632\n",
      "2  *  817  =  1634\n",
      "2  *  818  =  1636\n",
      "2  *  819  =  1638\n",
      "2  *  820  =  1640\n",
      "2  *  821  =  1642\n",
      "2  *  822  =  1644\n",
      "2  *  823  =  1646\n",
      "2  *  824  =  1648\n",
      "2  *  825  =  1650\n",
      "2  *  826  =  1652\n",
      "2  *  827  =  1654\n",
      "2  *  828  =  1656\n",
      "2  *  829  =  1658\n",
      "2  *  830  =  1660\n",
      "2  *  831  =  1662\n",
      "2  *  832  =  1664\n",
      "2  *  833  =  1666\n",
      "2  *  834  =  1668\n",
      "2  *  835  =  1670\n",
      "2  *  836  =  1672\n",
      "2  *  837  =  1674\n",
      "2  *  838  =  1676\n",
      "2  *  839  =  1678\n",
      "2  *  840  =  1680\n",
      "2  *  841  =  1682\n",
      "2  *  842  =  1684\n",
      "2  *  843  =  1686\n",
      "2  *  844  =  1688\n",
      "2  *  845  =  1690\n",
      "2  *  846  =  1692\n",
      "2  *  847  =  1694\n",
      "2  *  848  =  1696\n",
      "2  *  849  =  1698\n",
      "2  *  850  =  1700\n",
      "2  *  851  =  1702\n",
      "2  *  852  =  1704\n",
      "2  *  853  =  1706\n",
      "2  *  854  =  1708\n",
      "2  *  855  =  1710\n",
      "2  *  856  =  1712\n",
      "2  *  857  =  1714\n",
      "2  *  858  =  1716\n",
      "2  *  859  =  1718\n",
      "2  *  860  =  1720\n",
      "2  *  861  =  1722\n",
      "2  *  862  =  1724\n",
      "2  *  863  =  1726\n",
      "2  *  864  =  1728\n",
      "2  *  865  =  1730\n",
      "2  *  866  =  1732\n",
      "2  *  867  =  1734\n",
      "2  *  868  =  1736\n",
      "2  *  869  =  1738\n",
      "2  *  870  =  1740\n",
      "2  *  871  =  1742\n",
      "2  *  872  =  1744\n",
      "2  *  873  =  1746\n",
      "2  *  874  =  1748\n",
      "2  *  875  =  1750\n",
      "2  *  876  =  1752\n",
      "2  *  877  =  1754\n",
      "2  *  878  =  1756\n",
      "2  *  879  =  1758\n",
      "2  *  880  =  1760\n",
      "2  *  881  =  1762\n",
      "2  *  882  =  1764\n",
      "2  *  883  =  1766\n",
      "2  *  884  =  1768\n",
      "2  *  885  =  1770\n",
      "2  *  886  =  1772\n",
      "2  *  887  =  1774\n",
      "2  *  888  =  1776\n",
      "2  *  889  =  1778\n",
      "2  *  890  =  1780\n",
      "2  *  891  =  1782\n",
      "2  *  892  =  1784\n",
      "2  *  893  =  1786\n",
      "2  *  894  =  1788\n",
      "2  *  895  =  1790\n",
      "2  *  896  =  1792\n",
      "2  *  897  =  1794\n",
      "2  *  898  =  1796\n",
      "2  *  899  =  1798\n",
      "2  *  900  =  1800\n",
      "2  *  901  =  1802\n",
      "2  *  902  =  1804\n",
      "2  *  903  =  1806\n",
      "2  *  904  =  1808\n",
      "2  *  905  =  1810\n",
      "2  *  906  =  1812\n",
      "2  *  907  =  1814\n",
      "2  *  908  =  1816\n",
      "2  *  909  =  1818\n",
      "2  *  910  =  1820\n",
      "2  *  911  =  1822\n",
      "2  *  912  =  1824\n",
      "2  *  913  =  1826\n",
      "2  *  914  =  1828\n",
      "2  *  915  =  1830\n",
      "2  *  916  =  1832\n",
      "2  *  917  =  1834\n",
      "2  *  918  =  1836\n",
      "2  *  919  =  1838\n",
      "2  *  920  =  1840\n",
      "2  *  921  =  1842\n",
      "2  *  922  =  1844\n",
      "2  *  923  =  1846\n",
      "2  *  924  =  1848\n",
      "2  *  925  =  1850\n",
      "2  *  926  =  1852\n",
      "2  *  927  =  1854\n",
      "2  *  928  =  1856\n",
      "2  *  929  =  1858\n",
      "2  *  930  =  1860\n",
      "2  *  931  =  1862\n",
      "2  *  932  =  1864\n",
      "2  *  933  =  1866\n",
      "2  *  934  =  1868\n",
      "2  *  935  =  1870\n",
      "2  *  936  =  1872\n",
      "2  *  937  =  1874\n",
      "2  *  938  =  1876\n",
      "2  *  939  =  1878\n",
      "2  *  940  =  1880\n",
      "2  *  941  =  1882\n",
      "2  *  942  =  1884\n",
      "2  *  943  =  1886\n",
      "2  *  944  =  1888\n",
      "2  *  945  =  1890\n",
      "2  *  946  =  1892\n",
      "2  *  947  =  1894\n",
      "2  *  948  =  1896\n",
      "2  *  949  =  1898\n",
      "2  *  950  =  1900\n",
      "2  *  951  =  1902\n",
      "2  *  952  =  1904\n",
      "2  *  953  =  1906\n",
      "2  *  954  =  1908\n",
      "2  *  955  =  1910\n",
      "2  *  956  =  1912\n",
      "2  *  957  =  1914\n",
      "2  *  958  =  1916\n",
      "2  *  959  =  1918\n",
      "2  *  960  =  1920\n",
      "2  *  961  =  1922\n",
      "2  *  962  =  1924\n",
      "2  *  963  =  1926\n",
      "2  *  964  =  1928\n",
      "2  *  965  =  1930\n",
      "2  *  966  =  1932\n",
      "2  *  967  =  1934\n",
      "2  *  968  =  1936\n",
      "2  *  969  =  1938\n",
      "2  *  970  =  1940\n",
      "2  *  971  =  1942\n",
      "2  *  972  =  1944\n",
      "2  *  973  =  1946\n",
      "2  *  974  =  1948\n",
      "2  *  975  =  1950\n",
      "2  *  976  =  1952\n",
      "2  *  977  =  1954\n",
      "2  *  978  =  1956\n",
      "2  *  979  =  1958\n",
      "2  *  980  =  1960\n",
      "2  *  981  =  1962\n",
      "2  *  982  =  1964\n",
      "2  *  983  =  1966\n",
      "2  *  984  =  1968\n",
      "2  *  985  =  1970\n",
      "2  *  986  =  1972\n",
      "2  *  987  =  1974\n",
      "2  *  988  =  1976\n",
      "2  *  989  =  1978\n",
      "2  *  990  =  1980\n",
      "2  *  991  =  1982\n",
      "2  *  992  =  1984\n",
      "2  *  993  =  1986\n",
      "2  *  994  =  1988\n",
      "2  *  995  =  1990\n",
      "2  *  996  =  1992\n",
      "2  *  997  =  1994\n",
      "2  *  998  =  1996\n",
      "2  *  999  =  1998\n"
     ]
    },
    {
     "name": "stdout",
     "output_type": "stream",
     "text": [
      "2  *  1000  =  2000\n"
     ]
    }
   ],
   "source": [
    "i=1\n",
    "while(i<=1000):\n",
    "    print(2,\" * \",i,\" = \",2*i)\n",
    "    i+=1"
   ]
  },
  {
   "cell_type": "markdown",
   "metadata": {},
   "source": [
    "# write a program to find factorial "
   ]
  },
  {
   "cell_type": "code",
   "execution_count": 3,
   "metadata": {},
   "outputs": [
    {
     "name": "stdout",
     "output_type": "stream",
     "text": [
      "12\n",
      "479001600  is the factorial of the given number\n"
     ]
    }
   ],
   "source": [
    "n = int(input())\n",
    "fact=1\n",
    "while(n):\n",
    "    fact*=n\n",
    "    n-=1\n",
    "print(fact,\" is the factorial of the given number\")"
   ]
  },
  {
   "cell_type": "code",
   "execution_count": 9,
   "metadata": {},
   "outputs": [
    {
     "name": "stdout",
     "output_type": "stream",
     "text": [
      "10\n",
      "2\n",
      "3\n",
      "5\n",
      "7\n"
     ]
    }
   ],
   "source": [
    "i=1\n",
    "n = int(input())\n",
    "while(i<=n):\n",
    "    count=0\n",
    "    for j in range(1,i+1):\n",
    "        if(i%j==0):\n",
    "            count+=1\n",
    "    if(count==2):\n",
    "        print(i)\n",
    "    i+=1\n",
    "    \n",
    "    \n",
    "        \n",
    "    "
   ]
  },
  {
   "cell_type": "code",
   "execution_count": 1,
   "metadata": {},
   "outputs": [
    {
     "data": {
      "text/plain": [
       "1"
      ]
     },
     "execution_count": 1,
     "metadata": {},
     "output_type": "execute_result"
    }
   ],
   "source": [
    "1**5\n"
   ]
  },
  {
   "cell_type": "code",
   "execution_count": 2,
   "metadata": {},
   "outputs": [
    {
     "data": {
      "text/plain": [
       "25"
      ]
     },
     "execution_count": 2,
     "metadata": {},
     "output_type": "execute_result"
    }
   ],
   "source": [
    "5**2\n"
   ]
  },
  {
   "cell_type": "code",
   "execution_count": 3,
   "metadata": {},
   "outputs": [
    {
     "data": {
      "text/plain": [
       "3125"
      ]
     },
     "execution_count": 3,
     "metadata": {},
     "output_type": "execute_result"
    }
   ],
   "source": [
    "5**5"
   ]
  },
  {
   "cell_type": "code",
   "execution_count": 4,
   "metadata": {},
   "outputs": [
    {
     "name": "stdout",
     "output_type": "stream",
     "text": [
      "hello\n"
     ]
    }
   ],
   "source": [
    "print(\"hello\")"
   ]
  },
  {
   "cell_type": "code",
   "execution_count": null,
   "metadata": {},
   "outputs": [],
   "source": []
  }
 ],
 "metadata": {
  "kernelspec": {
   "display_name": "Python 3",
   "language": "python",
   "name": "python3"
  },
  "language_info": {
   "codemirror_mode": {
    "name": "ipython",
    "version": 3
   },
   "file_extension": ".py",
   "mimetype": "text/x-python",
   "name": "python",
   "nbconvert_exporter": "python",
   "pygments_lexer": "ipython3",
   "version": "3.7.3"
  }
 },
 "nbformat": 4,
 "nbformat_minor": 2
}
